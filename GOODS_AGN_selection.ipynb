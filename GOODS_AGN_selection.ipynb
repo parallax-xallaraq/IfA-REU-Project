{
 "cells": [
  {
   "cell_type": "code",
   "execution_count": null,
   "metadata": {},
   "outputs": [],
   "source": [
    "# all imports\n",
    "from astropy.io import fits"
   ]
  },
  {
   "cell_type": "code",
   "execution_count": null,
   "metadata": {},
   "outputs": [],
   "source": [
    "# open COSMOS master file and get data \n",
    "inf = fits.open('D:\\IfA REU\\Catalogs\\COSMOS2020_CLASSIC_R1_v2.0_master.fits')\n",
    "data = inf[1].data\n",
    "cols = inf[1].columns\n",
    "head = inf[0].header\n",
    "inf.close()"
   ]
  },
  {
   "cell_type": "code",
   "execution_count": null,
   "metadata": {},
   "outputs": [],
   "source": [
    "# IRAC Columns (unit = 'uJy')\n",
    "ch1 = 'SPLASH_CH1_FLUX' # 3.5686 um\n",
    "ch2 = 'SPLASH_CH2_FLUX' # 4.5067 um\n",
    "ch3 = 'SPLASH_CH3_FLUX' # 5.7788 um\n",
    "ch4 = 'SPLASH_CH4_FLUX' # 7.9958 um \n",
    "\n",
    "# get IRAC data\n",
    "ch1_data = data[ch1]\n",
    "ch2_data = data[ch2]\n",
    "ch3_data = data[ch3]\n",
    "ch4_data = data[ch4]\n",
    "\n",
    "#  filter out bad values \n",
    "ch1_data = [value for value in ch1_data if value > 0]\n",
    "ch2_data = [value for value in ch2_data if value > 0]\n",
    "ch3_data = [value for value in ch3_data if value > 0]\n",
    "ch4_data = [value for value in ch4_data if value > 0]\n",
    "\n",
    "# info\n",
    "print('CH1 : \\t Min: ', min(ch1_data), '\\t Max: ', max(ch1_data), '\\t Total: ', len(ch1_data))\n",
    "print('CH2 : \\t Min: ', min(ch2_data), '\\t Max: ', max(ch2_data), '\\t Total: ', len(ch2_data))\n",
    "print('CH3 : \\t Min: ', min(ch3_data), '\\t Max: ', max(ch3_data), '\\t Total: ', len(ch3_data))\n",
    "print('CH4 : \\t Min: ', min(ch4_data), '\\t Max: ', max(ch4_data), '\\t Total: ', len(ch4_data))"
   ]
  }
 ],
 "metadata": {
  "language_info": {
   "name": "python"
  },
  "orig_nbformat": 4
 },
 "nbformat": 4,
 "nbformat_minor": 2
}
