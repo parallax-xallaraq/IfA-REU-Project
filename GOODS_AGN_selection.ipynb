{
 "cells": [
  {
   "cell_type": "code",
   "execution_count": 6,
   "metadata": {},
   "outputs": [],
   "source": [
    "# all imports\n",
    "from astropy.io import fits\n",
    "import matplotlib.pyplot as plt"
   ]
  },
  {
   "cell_type": "code",
   "execution_count": 2,
   "metadata": {},
   "outputs": [],
   "source": [
    "# open COSMOS master file and get data \n",
    "inf = fits.open('D:\\IfA REU\\Catalogs\\COSMOS2020_CLASSIC_R1_v2.0_master.fits')\n",
    "data = inf[1].data\n",
    "cols = inf[1].columns\n",
    "head = inf[0].header\n",
    "inf.close()"
   ]
  },
  {
   "cell_type": "code",
   "execution_count": 4,
   "metadata": {},
   "outputs": [
    {
     "name": "stdout",
     "output_type": "stream",
     "text": [
      "CH1 : \t Min:  -373.86588 \t Max:  11499.407 \t Total:  1720700\n",
      "CH2 : \t Min:  -200.00957 \t Max:  12870.739 \t Total:  1720700\n",
      "CH3 : \t Min:  -99.9 \t Max:  17447.684 \t Total:  1720700\n",
      "CH4 : \t Min:  -99.9 \t Max:  15091.21 \t Total:  1720700\n"
     ]
    }
   ],
   "source": [
    "# IRAC Columns (unit = 'uJy')\n",
    "ch1 = 'SPLASH_CH1_FLUX' # 3.5686 um\n",
    "ch2 = 'SPLASH_CH2_FLUX' # 4.5067 um\n",
    "ch3 = 'SPLASH_CH3_FLUX' # 5.7788 um\n",
    "ch4 = 'SPLASH_CH4_FLUX' # 7.9958 um \n",
    "\n",
    "# get IRAC data\n",
    "ch1_data = data[ch1]\n",
    "ch2_data = data[ch2]\n",
    "ch3_data = data[ch3]\n",
    "ch4_data = data[ch4]\n",
    "\n",
    "# info\n",
    "print('CH1 : \\t Min: ', min(ch1_data), '\\t Max: ', max(ch1_data), '\\t Total: ', len(ch1_data))\n",
    "print('CH2 : \\t Min: ', min(ch2_data), '\\t Max: ', max(ch2_data), '\\t Total: ', len(ch2_data))\n",
    "print('CH3 : \\t Min: ', min(ch3_data), '\\t Max: ', max(ch3_data), '\\t Total: ', len(ch3_data))\n",
    "print('CH4 : \\t Min: ', min(ch4_data), '\\t Max: ', max(ch4_data), '\\t Total: ', len(ch4_data))"
   ]
  },
  {
   "cell_type": "markdown",
   "metadata": {},
   "source": [
    "## AGN Selection Criterea (Donley, 2012) \n",
    "\n",
    "x = log10 ( f5.8 μm f3.6 μm ), \n",
    "y = log10 ( f8.0 μm f4.5 μm ) \n",
    "\n",
    "x >= 0.08 AND \n",
    "y >= 0.15 AND\n",
    "y >= (1.21 x) − 0.27 AND\n",
    "y <= (1.21 x) + 0.27 AND\n",
    "f4.5 μm > f3.6 μm AND\n",
    "f5.8 μm > f4.5 μm AND\n",
    "f8.0 μm > f5.8 μm"
   ]
  },
  {
   "cell_type": "code",
   "execution_count": 15,
   "metadata": {},
   "outputs": [],
   "source": [
    "# Draw the selection wedge for Donley 2012 \n",
    "def PlotDonleyWedge() : \n",
    "    # constants\n",
    "    x_min = 0.08    # x >= 0.08\n",
    "    y_min = 0.15    # y >= 0.15\n",
    "    max = 10        # arbritrary \n",
    "\n",
    "    # calculate intercepts\n",
    "    x_int_ymin = (y_min + 0.27)/1.21  # intercept between y_min and (y>=1.21x-0.27)\n",
    "    y_int_xmin = (1.21*x_min) + 0.27  # intercept between x_min and (y>=1.21x+0.27)\n",
    "\n",
    "    # calculate y_low intercepts (y>=1.21x-0.27)\n",
    "    y1_low = (1.21*x_int_ymin)  - 0.27   \n",
    "    y2_low = (1.21*max)         - 0.27\n",
    "\n",
    "    # calculate y_high intercepts (y>=1.21x+0.27)\n",
    "    y1_high = (1.21*x_min)      + 0.27\n",
    "    y2_high = (1.21*max)        + 0.27\n",
    "\n",
    "    # plot lines between intercepts \n",
    "    plt.plot( [x_min,       x_min],         [y_min,     y_int_xmin], 'r')    # x >= 0.08\n",
    "    plt.plot( [x_min,       x_int_ymin],    [y_min,     y_min],      'r')    # y >= 0.15\n",
    "    plt.plot( [x_int_ymin,  max],           [y1_low,    y2_low],     'r')    # y >= 1.21x - 0.27\n",
    "    plt.plot( [x_min,       max],           [y1_high,   y2_high],    'r')    # y <= 1.21x + 0.27"
   ]
  },
  {
   "cell_type": "code",
   "execution_count": 16,
   "metadata": {},
   "outputs": [
    {
     "data": {
      "image/png": "[encoded data removed]",
      "text/plain": [
       "<Figure size 432x288 with 1 Axes>"
      ]
     },
     "metadata": {
      "needs_background": "light"
     },
     "output_type": "display_data"
    }
   ],
   "source": [
    "# plot wedge \n",
    "PlotDonleyWedge()\n",
    "\n",
    "# set axis range\n",
    "plt.axis([-0.5,1,-0.5,1])\n",
    "\n",
    "# naming the axis and title\n",
    "plt.xlabel('log(f_5.8/f_3.6)') \n",
    "plt.ylabel('log(f_8.0/f_4.5)') \n",
    "plt.title('AGN Selection Criterea (Donley, 2012)') \n",
    "    \n",
    "# function to show the plot \n",
    "plt.show()"
   ]
  }
 ],
 "metadata": {
  "interpreter": {
   "hash": "9087279304570de5a36832bd291691fdf2a46b942e9196516ec718f5eedeadfe"
  },
  "kernelspec": {
   "display_name": "Python 3.9.12 ('py3env')",
   "language": "python",
   "name": "python3"
  },
  "language_info": {
   "codemirror_mode": {
    "name": "ipython",
    "version": 3
   },
   "file_extension": ".py",
   "mimetype": "text/x-python",
   "name": "python",
   "nbconvert_exporter": "python",
   "pygments_lexer": "ipython3",
   "version": "3.9.12"
  },
  "orig_nbformat": 4
 },
 "nbformat": 4,
 "nbformat_minor": 2
}
