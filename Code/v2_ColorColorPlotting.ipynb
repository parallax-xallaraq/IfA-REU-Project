{
 "cells": [
  {
   "cell_type": "code",
   "execution_count": 1,
   "metadata": {},
   "outputs": [],
   "source": [
    "# # IMPORTS\n",
    "# astronomy\n",
    "from astropy.io import fits\n",
    "# plotting \n",
    "from matplotlib.ticker import (MultipleLocator, AutoMinorLocator)\n",
    "import matplotlib.pyplot as plt\n",
    "import matplotlib as mpl\n",
    "# data \n",
    "import numpy as np\n",
    "# file IO\n",
    "import csv\n",
    "# my python files \n",
    "import match\n",
    "import v2_AGN_DataAndPlotting as adp"
   ]
  },
  {
   "cell_type": "markdown",
   "metadata": {},
   "source": [
    "# Read Data"
   ]
  },
  {
   "cell_type": "code",
   "execution_count": 2,
   "metadata": {},
   "outputs": [
    {
     "name": "stdout",
     "output_type": "stream",
     "text": [
      "Cropped:  ['Row 1 = MIR selected AGN (Donley et al, 2012) with id, redshift, IRAC, and 24um (n=900). Row 2 = X-ray selected AGN (Lx > 10^43 erg/s) with id, redshift, IRAC, and 24um (n=1775). ']\n",
      "Number of MIR AGN:\t 900\n",
      "Number of Xray AGN:\t 1775\n"
     ]
    }
   ],
   "source": [
    "# read AGN IDs\n",
    "agnIDs_file = adp.ReadFile(adp.path_csv+'\\\\v2_AGNid_Xray_MIR.csv')\n",
    "# convert agnIDs into list of integer numpy arrays \n",
    "agnIDs = []\n",
    "for row in agnIDs_file : \n",
    "    agnIDs.append(np.array(row, dtype=int))\n",
    "# constants for AGN type index\n",
    "MIR  = 0    \n",
    "XRAY = 1\n",
    "# print info\n",
    "print('Number of MIR AGN:\\t',    len(agnIDs[MIR]))\n",
    "print('Number of Xray AGN:\\t',   len(agnIDs[XRAY]))"
   ]
  },
  {
   "cell_type": "code",
   "execution_count": 3,
   "metadata": {},
   "outputs": [],
   "source": [
    "# open COSMOS 2020 catalog file and get data \n",
    "inf20 = fits.open(adp.path_cat+'\\COSMOS2020_CLASSIC_R1_v2.0_master.fits')\n",
    "data20 = inf20[1].data\n",
    "cols20 = inf20[1].columns\n",
    "inf20.close()"
   ]
  },
  {
   "cell_type": "code",
   "execution_count": 4,
   "metadata": {},
   "outputs": [
    {
     "name": "stdout",
     "output_type": "stream",
     "text": [
      "....."
     ]
    }
   ],
   "source": [
    "# get IRAC data (unit = 'uJy')\n",
    "ch1_data20  = np.array(data20['SPLASH_CH1_FLUX']) # 3.5686 um\n",
    "print('.', end='')\n",
    "ch2_data20  = np.array(data20['SPLASH_CH2_FLUX']) # 4.5067 um\n",
    "print('.', end='')\n",
    "ch3_data20  = np.array(data20['SPLASH_CH3_FLUX']) # 5.7788 um\n",
    "print('.', end='')\n",
    "ch4_data20  = np.array(data20['SPLASH_CH4_FLUX']) # 7.9958 um \n",
    "print('.', end='')\n",
    "# get ID\n",
    "id_data20 = np.array(data20['ID_COSMOS2015'])\n",
    "print('.', end='')"
   ]
  },
  {
   "cell_type": "code",
   "execution_count": 5,
   "metadata": {},
   "outputs": [],
   "source": [
    "# open COSMOS 2016 catalog file and get data \n",
    "inf16 = fits.open(adp.path_cat+'\\chandra_COSMOS_legacy_opt_NIR_counterparts_20160113_4d.fits')\n",
    "data16 = inf16[1].data\n",
    "cols16 = inf16[1].columns\n",
    "inf16.close()"
   ]
  },
  {
   "cell_type": "code",
   "execution_count": 6,
   "metadata": {},
   "outputs": [
    {
     "name": "stdout",
     "output_type": "stream",
     "text": [
      "..."
     ]
    }
   ],
   "source": [
    "# get data arrays from columns\n",
    "id_data16 = np.array(data16['id_k_uv'])\n",
    "print('.', end='')\n",
    "L0510_data16 = np.array(data16['Lx_0510']) # x-ray luminosity in the 0.5-10 KeV band\n",
    "print('.', end='')\n",
    "k0510_data16 = np.array(data16['abs_corr_0510'])  # absorbtion correction coefficient in the 0.5-10 KeV band\n",
    "print('.', end='')\n"
   ]
  },
  {
   "cell_type": "markdown",
   "metadata": {},
   "source": [
    "# Tricolor color vs color "
   ]
  },
  {
   "cell_type": "code",
   "execution_count": 12,
   "metadata": {},
   "outputs": [],
   "source": [
    "def TwoToTri(irID,xrID):\n",
    "    # match agn ids\n",
    "    key_ir, key_xr = match.match(irID, xrID)\n",
    "    # initialize\n",
    "    mask_ir = np.ones(irID.size, dtype=bool)\n",
    "    mask_xr = np.ones(xrID.size, dtype=bool)\n",
    "    # set matched index to false\n",
    "    mask_ir[key_ir] = False\n",
    "    mask_xr[key_xr] = False\n",
    "    # remove xray selected agn from ir selected list\n",
    "    irID_exc = irID[mask_ir]\n",
    "    # remove ir selected agn from xray selected list \n",
    "    xrID_exc = xrID[mask_xr]\n",
    "    # create list of ir/xray match\n",
    "    ixrID_inc = irID[key_ir]\n",
    "    # create and return list of agn groups\n",
    "    return([irID_exc,ixrID_inc,xrID_exc])\n",
    "\n",
    "# key for using tricolor\n",
    "RED = 0\n",
    "YEL = 1\n",
    "BLU = 2"
   ]
  },
  {
   "cell_type": "code",
   "execution_count": 14,
   "metadata": {},
   "outputs": [
    {
     "name": "stdout",
     "output_type": "stream",
     "text": [
      "Number of IR only:\t 352\n",
      "Number of Xray only:\t 1227\n",
      "Number of matches:\t 548\n"
     ]
    }
   ],
   "source": [
    "triID = TwoToTri(agnIDs[MIR],agnIDs[XRAY])\n",
    "\n",
    "# print info \n",
    "print('Number of IR only:\\t',   len(triID[RED]))\n",
    "print('Number of Xray only:\\t', len(triID[BLU]))\n",
    "print('Number of matches:\\t',   len(triID[YEL]))"
   ]
  },
  {
   "cell_type": "code",
   "execution_count": 15,
   "metadata": {},
   "outputs": [],
   "source": [
    "# match IDs to data20 \n",
    "key_data20_red, key_red = match.match(id_data20,triID[RED])\n",
    "key_data20_yel, key_yel = match.match(id_data20,triID[YEL])\n",
    "key_data20_blu, key_blu = match.match(id_data20,triID[BLU])\n",
    "# calculate colors \n",
    "xy_IRAC_tri = []\n",
    "for i in range(BLU+1) : \n",
    "    x = np.log10(   ch3_data20[i]    /   ch1_data20[i]    )     # x = log10 ( f_5.6um / f_3.6um )\n",
    "    y = np.log10(   ch4_data20[i]    /   ch2_data20[i]    )     # y = log10 ( f_8.0um / f_4.5 um )\n",
    "    xy_IRAC_tri.append((x,y))"
   ]
  },
  {
   "cell_type": "code",
   "execution_count": null,
   "metadata": {},
   "outputs": [],
   "source": [
    "# use dicts! no more REDYELBLU constants"
   ]
  }
 ],
 "metadata": {
  "kernelspec": {
   "display_name": "Python 3.9.12 ('base')",
   "language": "python",
   "name": "python3"
  },
  "language_info": {
   "codemirror_mode": {
    "name": "ipython",
    "version": 3
   },
   "file_extension": ".py",
   "mimetype": "text/x-python",
   "name": "python",
   "nbconvert_exporter": "python",
   "pygments_lexer": "ipython3",
   "version": "3.9.12"
  },
  "orig_nbformat": 4,
  "vscode": {
   "interpreter": {
    "hash": "b3967f99fc3d3c0be2b6779ca07785b629de8bae594eb83a70fda045b7d7e595"
   }
  }
 },
 "nbformat": 4,
 "nbformat_minor": 2
}
