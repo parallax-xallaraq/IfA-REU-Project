{
 "cells": [
  {
   "cell_type": "code",
   "execution_count": 1,
   "metadata": {},
   "outputs": [],
   "source": [
    "# imports\n",
    "from astropy.io import fits\n",
    "# import matplotlib.pyplot as plt\n",
    "import numpy as np\n",
    "import csv \n",
    "import match"
   ]
  },
  {
   "cell_type": "code",
   "execution_count": 2,
   "metadata": {},
   "outputs": [],
   "source": [
    "# path variables \n",
    "path_cat = 'D:\\IfA REU\\Catalogs'\n",
    "path_fig = 'D:\\IfA REU\\IfA-REU-Project\\Figures'\n",
    "path_csv = 'D:\\IfA REU\\IfA-REU-Project\\Lists'"
   ]
  },
  {
   "cell_type": "markdown",
   "metadata": {},
   "source": [
    "# Get AGN IDs"
   ]
  },
  {
   "cell_type": "code",
   "execution_count": 3,
   "metadata": {},
   "outputs": [],
   "source": [
    "# read from a given csv file and return a list of its contents \n",
    "def ReadFile(filename) : \n",
    "    # initialize list\n",
    "    file = []\n",
    "\n",
    "    # open csv file\n",
    "    with open(path_csv+filename, newline='') as csv_file : \n",
    "        reader = csv.reader(csv_file, delimiter=',', quotechar='\"')\n",
    "        # output file into list for easy access\n",
    "        for row in reader :\n",
    "            file.append(row)\n",
    "\n",
    "    # print column names \n",
    "    print(filename, ' columns: ', file[0])\n",
    "\n",
    "    # return an array of type int with column names clipped off\n",
    "    return( np.array(file[1:], dtype=int) )\n"
   ]
  },
  {
   "cell_type": "code",
   "execution_count": 4,
   "metadata": {},
   "outputs": [
    {
     "name": "stdout",
     "output_type": "stream",
     "text": [
      "\\Match_COSMOS2020_IRAGN_to_COSMOS2020.csv  columns:  ['ID', 'i']\n",
      "\\Match_Chandra2016_XrayAGN_to_COSMOS2020.csv  columns:  ['ID', 'i']\n"
     ]
    }
   ],
   "source": [
    "# read AGN ID and index from csv files\n",
    "agn_irSel = ReadFile('\\Match_COSMOS2020_IRAGN_to_COSMOS2020.csv')\n",
    "agn_xrSel = ReadFile('\\Match_Chandra2016_XrayAGN_to_COSMOS2020.csv')\n",
    "\n",
    "# transpose arrays to get columns\n",
    "agn_irSel_id, agn_irSel_i = agn_irSel.T\n",
    "agn_xrSel_id, agn_xrSel_i = agn_xrSel.T"
   ]
  },
  {
   "cell_type": "code",
   "execution_count": 15,
   "metadata": {},
   "outputs": [
    {
     "name": "stdout",
     "output_type": "stream",
     "text": [
      "Number of IR AGN:\t 2287\n",
      "Number of Xray AGN:\t 2176\n"
     ]
    }
   ],
   "source": [
    "# print info\n",
    "print('Number of IR AGN:\\t',    len(agn_irSel_id))\n",
    "print('Number of Xray AGN:\\t',  len(agn_xrSel_id))"
   ]
  },
  {
   "cell_type": "code",
   "execution_count": 5,
   "metadata": {},
   "outputs": [],
   "source": [
    "# # test: left and right must match\n",
    "# print(agn_irSel[0][0], '==', agn_irSel_id[0])\n",
    "# print(agn_irSel[0][1], '==', agn_irSel_i[0])\n",
    "# print(agn_xrSel[0][0], '==', agn_xrSel_id[0])\n",
    "# print(agn_xrSel[0][1], '==', agn_xrSel_i[0])\n"
   ]
  },
  {
   "cell_type": "code",
   "execution_count": 16,
   "metadata": {},
   "outputs": [],
   "source": [
    "# match agn ids\n",
    "key_ir, key_xr = match.match(agn_irSel_id, agn_xrSel_id)\n",
    "\n",
    "# initialize\n",
    "mask_ir = np.ones(agn_irSel_id.size, dtype=bool)\n",
    "mask_xr = np.ones(agn_xrSel_id.size, dtype=bool)\n",
    "\n",
    "# set matched index to false\n",
    "mask_ir[key_ir] = False\n",
    "mask_xr[key_xr] = False\n",
    "\n",
    "# remove xray selected agn from ir selected list\n",
    "agn_irSel_id_ONLY = agn_irSel_id[mask_ir]\n",
    "agn_irSel_i_ONLY = agn_irSel_i[mask_ir]\n",
    "\n",
    "# remove ir selected agn from xray selected list \n",
    "agn_xrSel_id_ONLY = agn_xrSel_id[mask_xr]\n",
    "agn_xrSel_i_ONLY = agn_xrSel_i[mask_xr]\n",
    "\n",
    "# create list of ir/xray match\n",
    "agn_id_BOTH = agn_irSel_id[key_ir]\n",
    "agn_i_BOTH = agn_irSel_i[key_ir]\n"
   ]
  },
  {
   "cell_type": "code",
   "execution_count": 24,
   "metadata": {},
   "outputs": [
    {
     "name": "stdout",
     "output_type": "stream",
     "text": [
      "Number of IR only:\t 1640\n",
      "Number of Xray only:\t 1529\n",
      "Number of matches:\t 647\n"
     ]
    }
   ],
   "source": [
    "# print info \n",
    "print('Number of IR only:\\t',   len(agn_irSel_i_ONLY))\n",
    "print('Number of Xray only:\\t', len(agn_xrSel_i_ONLY))\n",
    "print('Number of matches:\\t',   len(agn_i_BOTH))"
   ]
  },
  {
   "cell_type": "markdown",
   "metadata": {},
   "source": [
    "# Get Data From Catalogs"
   ]
  },
  {
   "cell_type": "code",
   "execution_count": 7,
   "metadata": {},
   "outputs": [],
   "source": [
    "# open COSMOS 2020 catalog file and get data \n",
    "inf20 = fits.open(path_cat+'\\COSMOS2020_CLASSIC_R1_v2.0_master.fits')\n",
    "data20 = inf20[1].data\n",
    "cols20 = inf20[1].columns\n",
    "inf20.close()"
   ]
  },
  {
   "cell_type": "code",
   "execution_count": 8,
   "metadata": {},
   "outputs": [
    {
     "name": "stdout",
     "output_type": "stream",
     "text": [
      "Ch1 read\n",
      "Ch2 read\n",
      "Ch3 read\n",
      "Ch4 read\n"
     ]
    }
   ],
   "source": [
    "# get IRAC data (unit = 'uJy')\n",
    "ch1_data  = np.array(data20['SPLASH_CH1_FLUX']) # 3.5686 um\n",
    "print('Ch1 read')\n",
    "ch2_data  = np.array(data20['SPLASH_CH2_FLUX']) # 4.5067 um\n",
    "print('Ch2 read')\n",
    "ch3_data  = np.array(data20['SPLASH_CH3_FLUX']) # 5.7788 um\n",
    "print('Ch3 read')\n",
    "ch4_data  = np.array(data20['SPLASH_CH4_FLUX']) # 7.9958 um \n",
    "print('Ch4 read')"
   ]
  },
  {
   "cell_type": "code",
   "execution_count": 21,
   "metadata": {},
   "outputs": [],
   "source": [
    "# returns the IRAC channels only at indeces i \n",
    "def SelectIRAC(i):\n",
    "    return ch1_data[i], ch2_data[i], ch3_data[i], ch4_data[i]"
   ]
  },
  {
   "cell_type": "code",
   "execution_count": 27,
   "metadata": {},
   "outputs": [
    {
     "name": "stdout",
     "output_type": "stream",
     "text": [
      "Number of IR sources:\t 1640\n",
      "Number of Xray sources:\t 1529\n",
      "Number of Both sources:\t 647\n"
     ]
    }
   ],
   "source": [
    "# filter data by selection method\n",
    "ch1_ir, ch2_ir, ch3_ir, ch4_ir = SelectIRAC(agn_irSel_i_ONLY)\n",
    "ch1_xr, ch2_xr, ch3_xr, ch4_xr = SelectIRAC(agn_xrSel_i_ONLY)\n",
    "ch1_ix, ch2_ix, ch3_ix, ch4_ix = SelectIRAC(agn_i_BOTH)\n",
    "\n",
    "# verify \n",
    "print('Number of IR sources:\\t', len(ch1_ir))\n",
    "print('Number of Xray sources:\\t', len(ch1_xr))\n",
    "print('Number of Both sources:\\t', len(ch1_ix))"
   ]
  },
  {
   "cell_type": "markdown",
   "metadata": {},
   "source": [
    "# Plot IRAC Colors"
   ]
  }
 ],
 "metadata": {
  "kernelspec": {
   "display_name": "Python 3.9.12 ('py3env')",
   "language": "python",
   "name": "python3"
  },
  "language_info": {
   "codemirror_mode": {
    "name": "ipython",
    "version": 3
   },
   "file_extension": ".py",
   "mimetype": "text/x-python",
   "name": "python",
   "nbconvert_exporter": "python",
   "pygments_lexer": "ipython3",
   "version": "3.9.12"
  },
  "orig_nbformat": 4,
  "vscode": {
   "interpreter": {
    "hash": "9087279304570de5a36832bd291691fdf2a46b942e9196516ec718f5eedeadfe"
   }
  }
 },
 "nbformat": 4,
 "nbformat_minor": 2
}
