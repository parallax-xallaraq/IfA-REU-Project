{
 "cells": [
  {
   "cell_type": "code",
   "execution_count": 6,
   "metadata": {},
   "outputs": [],
   "source": [
    "# imports\n",
    "# from astropy.io import fits\n",
    "# import matplotlib.pyplot as plt\n",
    "import numpy as np\n",
    "import csv \n",
    "# import match"
   ]
  },
  {
   "cell_type": "code",
   "execution_count": 2,
   "metadata": {},
   "outputs": [],
   "source": [
    "# path variables \n",
    "path_cat = 'D:\\IfA REU\\Catalogs'\n",
    "path_fig = 'D:\\IfA REU\\IfA-REU-Project\\Figures'\n",
    "path_csv = 'D:\\IfA REU\\IfA-REU-Project\\Lists'"
   ]
  },
  {
   "cell_type": "markdown",
   "metadata": {},
   "source": [
    "# Get AGN IDs"
   ]
  },
  {
   "cell_type": "code",
   "execution_count": 9,
   "metadata": {},
   "outputs": [
    {
     "name": "stdout",
     "output_type": "stream",
     "text": [
      "['ID', 'i COSMOS2020', ' i CHANDRA 2016']\n"
     ]
    }
   ],
   "source": [
    "# initialize list\n",
    "agn_file = []\n",
    "\n",
    "# open csv file: D:\\IfA REU\\IfA-REU-Project\\Lists\\Match_COSMOS2020_IRAGN_to_Chandra2016_XrayAGN.csv\n",
    "with open(path_csv+'\\Match_COSMOS2020_IRAGN_to_Chandra2016_XrayAGN.csv', newline='') as csv_file : \n",
    "    reader = csv.reader(csv_file, delimiter=',', quotechar='\"')\n",
    "    # output file into list for easy access\n",
    "    for row in reader :\n",
    "        agn_file.append(row)\n",
    "\n",
    "# print column names\n",
    "print(agn_file[0])"
   ]
  },
  {
   "cell_type": "code",
   "execution_count": 19,
   "metadata": {},
   "outputs": [
    {
     "name": "stdout",
     "output_type": "stream",
     "text": [
      "100728 == 100728\n",
      "61879 == 61879\n",
      "1866 == 1866\n"
     ]
    }
   ],
   "source": [
    "# cut out heading names and transpose to access columns\n",
    "agn_id, agn_i20, agn_i16 = np.array(agn_file[1:], dtype=int).T\n",
    "\n",
    "# test: left and right must match\n",
    "print(agn_file[1][0], '==', agn_id[0])\n",
    "print(agn_file[1][1], '==', agn_i20[0])\n",
    "print(agn_file[1][2], '==', agn_i16[0])"
   ]
  },
  {
   "cell_type": "markdown",
   "metadata": {},
   "source": [
    "# Get Data From Catalogs"
   ]
  }
 ],
 "metadata": {
  "kernelspec": {
   "display_name": "Python 3.9.12 ('py3env')",
   "language": "python",
   "name": "python3"
  },
  "language_info": {
   "codemirror_mode": {
    "name": "ipython",
    "version": 3
   },
   "file_extension": ".py",
   "mimetype": "text/x-python",
   "name": "python",
   "nbconvert_exporter": "python",
   "pygments_lexer": "ipython3",
   "version": "3.9.12"
  },
  "orig_nbformat": 4,
  "vscode": {
   "interpreter": {
    "hash": "9087279304570de5a36832bd291691fdf2a46b942e9196516ec718f5eedeadfe"
   }
  }
 },
 "nbformat": 4,
 "nbformat_minor": 2
}
