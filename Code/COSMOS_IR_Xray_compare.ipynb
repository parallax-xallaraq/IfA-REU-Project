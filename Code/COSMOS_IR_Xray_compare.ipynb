{
 "cells": [
  {
   "cell_type": "code",
   "execution_count": null,
   "metadata": {},
   "outputs": [],
   "source": [
    "# imports\n",
    "# from astropy.io import fits\n",
    "# import matplotlib.pyplot as plt\n",
    "# import numpy as np\n",
    "# import csv \n",
    "# import match"
   ]
  },
  {
   "cell_type": "code",
   "execution_count": null,
   "metadata": {},
   "outputs": [],
   "source": [
    "# path variables \n",
    "path_cat = 'D:\\IfA REU\\Catalogs'\n",
    "path_fig = 'D:\\IfA REU\\IfA-REU-Project\\Figures'\n",
    "path_csv = 'D:\\IfA REU\\IfA-REU-Project\\Lists'"
   ]
  },
  {
   "cell_type": "markdown",
   "metadata": {},
   "source": [
    "# Get AGN IDs"
   ]
  },
  {
   "cell_type": "markdown",
   "metadata": {},
   "source": [
    "# Get Data From Catalogs"
   ]
  }
 ],
 "metadata": {
  "language_info": {
   "name": "python"
  },
  "orig_nbformat": 4
 },
 "nbformat": 4,
 "nbformat_minor": 2
}
