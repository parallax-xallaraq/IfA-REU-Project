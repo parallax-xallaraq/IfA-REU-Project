{
 "cells": [
  {
   "cell_type": "code",
   "execution_count": 1,
   "metadata": {},
   "outputs": [],
   "source": [
    "# imports\n",
    "from astropy.io import fits\n",
    "import matplotlib.pyplot as plt\n",
    "# import matplotlib as mpl\n",
    "import plotting as myP\n",
    "import numpy as np\n",
    "import csv \n",
    "import match"
   ]
  },
  {
   "cell_type": "code",
   "execution_count": 2,
   "metadata": {},
   "outputs": [],
   "source": [
    "# path variables \n",
    "path_cat = 'D:\\IfA REU\\Catalogs'\n",
    "path_fig = 'D:\\IfA REU\\IfA-REU-Project\\Figures'\n",
    "path_csv = 'D:\\IfA REU\\IfA-REU-Project\\Lists'"
   ]
  },
  {
   "cell_type": "markdown",
   "metadata": {},
   "source": [
    "# Read AGN Lists From CSV"
   ]
  },
  {
   "cell_type": "code",
   "execution_count": 3,
   "metadata": {},
   "outputs": [],
   "source": [
    "# read from a given csv file and return a list of its contents \n",
    "def ReadFile(filename) : \n",
    "    # initialize list\n",
    "    file = []\n",
    "\n",
    "    # open csv file\n",
    "    with open(path_csv+filename, newline='') as csv_file : \n",
    "        reader = csv.reader(csv_file, delimiter=',', quotechar='\"')\n",
    "        # output file into list for easy access\n",
    "        for row in reader :\n",
    "            file.append(row)\n",
    "\n",
    "    # print column names \n",
    "    print(filename, '\\tcolumns: ', file[0])\n",
    "\n",
    "    # return an array of type int with column names clipped off\n",
    "    return( np.array(file[1:], dtype=int) )\n"
   ]
  },
  {
   "cell_type": "code",
   "execution_count": 6,
   "metadata": {},
   "outputs": [
    {
     "name": "stdout",
     "output_type": "stream",
     "text": [
      "\\Match_COSMOS2020_IRAGN_to_COSMOS2020.csv \tcolumns:  ['ID', 'i']\n",
      "\\Match_Chandra2016_XrayAGN_to_COSMOS2020.csv \tcolumns:  ['ID', 'i']\n",
      "\\Match_COSMOS2020_IRAGN_to_Chandra2016.csv \tcolumns:  ['ID', 'i']\n",
      "\\Match_Chandra2016_XrayAGN_to_Chandra2016.csv \tcolumns:  ['ID', 'i']\n"
     ]
    }
   ],
   "source": [
    "## read AGN ID and index from csv files\n",
    "# COSMOS 2020\n",
    "agn_irSel20 = ReadFile('\\Match_COSMOS2020_IRAGN_to_COSMOS2020.csv')\n",
    "agn_xrSel20 = ReadFile('\\Match_Chandra2016_XrayAGN_to_COSMOS2020.csv')\n",
    "# Chandra 2016\n",
    "agn_irSel16 = ReadFile('\\Match_COSMOS2020_IRAGN_to_Chandra2016.csv')\n",
    "agn_xrSel16 = ReadFile('\\Match_Chandra2016_XrayAGN_to_Chandra2016.csv')\n",
    "\n",
    "## transpose arrays to get columns\n",
    "# COSMOS 2020\n",
    "agn_irSel20_id, agn_irSel20_i = agn_irSel20.T\n",
    "agn_xrSel20_id, agn_xrSel20_i = agn_xrSel20.T\n",
    "# Chandra 2016\n",
    "agn_irSel16_id, agn_irSel16_i = agn_irSel16.T\n",
    "agn_xrSel16_id, agn_xrSel16_i = agn_xrSel16.T"
   ]
  },
  {
   "cell_type": "code",
   "execution_count": 9,
   "metadata": {},
   "outputs": [
    {
     "name": "stdout",
     "output_type": "stream",
     "text": [
      "Number of IR AGN in COSMOS 2020:\t 2287\n",
      "Number of Xray AGN in COSMOS 2020:\t 2176\n",
      "Number of IR AGN in Chandra 2016:\t 746\n",
      "Number of Xray AGN in Chandra 2016:\t 2232\n"
     ]
    }
   ],
   "source": [
    "# print info\n",
    "print('Number of IR AGN in COSMOS 2020:\\t',    len(agn_irSel20_id))\n",
    "print('Number of Xray AGN in COSMOS 2020:\\t',  len(agn_xrSel20_id))\n",
    "print('Number of IR AGN in Chandra 2016:\\t',   len(agn_irSel16_id))\n",
    "print('Number of Xray AGN in Chandra 2016:\\t', len(agn_xrSel16_id))"
   ]
  },
  {
   "cell_type": "code",
   "execution_count": null,
   "metadata": {},
   "outputs": [],
   "source": [
    "# # test: left and right must match\n",
    "# print(agn_irSel20[0][0], '==', agn_irSel20_id[0])\n",
    "# print(agn_irSel20[0][1], '==', agn_irSel20_i[0])\n",
    "# print(agn_xrSel20[0][0], '==', agn_xrSel20_id[0])\n",
    "# print(agn_xrSel20[0][1], '==', agn_xrSel20_i[0])"
   ]
  },
  {
   "cell_type": "markdown",
   "metadata": {},
   "source": [
    "# Get Data From Catalogs"
   ]
  },
  {
   "cell_type": "code",
   "execution_count": null,
   "metadata": {},
   "outputs": [],
   "source": [
    "# open COSMOS 2020 catalog file and get data \n",
    "inf20 = fits.open(path_cat+'\\COSMOS2020_CLASSIC_R1_v2.0_master.fits')\n",
    "data20 = inf20[1].data\n",
    "cols20 = inf20[1].columns\n",
    "inf20.close()"
   ]
  },
  {
   "cell_type": "code",
   "execution_count": null,
   "metadata": {},
   "outputs": [],
   "source": [
    "# get IRAC data (unit = 'uJy')\n",
    "ch1_data  = np.array(data20['SPLASH_CH1_FLUX']) # 3.5686 um\n",
    "print('Ch1 read')\n",
    "ch2_data  = np.array(data20['SPLASH_CH2_FLUX']) # 4.5067 um\n",
    "print('Ch2 read')\n",
    "ch3_data  = np.array(data20['SPLASH_CH3_FLUX']) # 5.7788 um\n",
    "print('Ch3 read')\n",
    "ch4_data  = np.array(data20['SPLASH_CH4_FLUX']) # 7.9958 um \n",
    "print('Ch4 read')"
   ]
  },
  {
   "cell_type": "code",
   "execution_count": null,
   "metadata": {},
   "outputs": [],
   "source": [
    "# open COSMOS 2016 catalog file and get data \n",
    "inf16 = fits.open(path_cat+'\\chandra_COSMOS_legacy_opt_NIR_counterparts_20160113_4d.fits')\n",
    "data16 = inf16[1].data\n",
    "cols16 = inf16[1].columns\n",
    "inf16.close()"
   ]
  },
  {
   "cell_type": "code",
   "execution_count": null,
   "metadata": {},
   "outputs": [],
   "source": [
    "# get data arrays from columns\n",
    "L0510_data = np.array(data16['Lx_0510'])        # x-ray luminosity in the 0.5-10 KeV band\n",
    "print('L0510 read')"
   ]
  },
  {
   "cell_type": "markdown",
   "metadata": {},
   "source": [
    "# Isolate Data By Selection Method"
   ]
  },
  {
   "cell_type": "code",
   "execution_count": null,
   "metadata": {},
   "outputs": [],
   "source": [
    "# match agn ids\n",
    "key_ir, key_xr = match.match(agn_irSel20_id, agn_xrSel20_id)\n",
    "\n",
    "# initialize\n",
    "mask_ir = np.ones(agn_irSel20_id.size, dtype=bool)\n",
    "mask_xr = np.ones(agn_xrSel20_id.size, dtype=bool)\n",
    "\n",
    "# set matched index to false\n",
    "mask_ir[key_ir] = False\n",
    "mask_xr[key_xr] = False\n",
    "\n",
    "# remove xray selected agn from ir selected list\n",
    "agn_irSel20_id_ONLY = agn_irSel20_id[mask_ir]\n",
    "agn_irSel20_i_ONLY  = agn_irSel20_i[mask_ir]\n",
    "\n",
    "# remove ir selected agn from xray selected list \n",
    "agn_xrSel20_id_ONLY = agn_xrSel20_id[mask_xr]\n",
    "agn_xrSel20_i_ONLY  = agn_xrSel20_i[mask_xr]\n",
    "\n",
    "# create list of ir/xray match\n",
    "agn20_id_BOTH = agn_irSel20_id[key_ir]\n",
    "agn20_i_BOTH  = agn_irSel20_i[key_ir]"
   ]
  },
  {
   "cell_type": "code",
   "execution_count": null,
   "metadata": {},
   "outputs": [],
   "source": [
    "# print info \n",
    "print('Number of IR only:\\t',   len(agn_irSel20_i_ONLY))\n",
    "print('Number of Xray only:\\t', len(agn_xrSel20_i_ONLY))\n",
    "print('Number of matches:\\t',   len(agn20_i_BOTH))"
   ]
  },
  {
   "cell_type": "code",
   "execution_count": null,
   "metadata": {},
   "outputs": [],
   "source": [
    "# returns the IRAC channels only at indeces i \n",
    "def SelectIRAC(i):\n",
    "    # get data\n",
    "    a = ch1_data[i]\n",
    "    b = ch2_data[i]\n",
    "    c = ch3_data[i]\n",
    "    d = ch4_data[i]\n",
    "\n",
    "    # mask bad values \n",
    "    mask = (a > 0) & (b > 0) & (c > 0) & (d > 0)\n",
    "\n",
    "    # apply mask \n",
    "    af = a[mask]\n",
    "    bf = b[mask]\n",
    "    cf = c[mask]\n",
    "    df = d[mask] \n",
    "\n",
    "    # print info\n",
    "    print('Col \\t Min \\t\\t Max \\t\\t Count')\n",
    "    print('-------------------------------------------------------------')\n",
    "    print('CH1 \\t', min(af), '\\t', max(af), '\\t', len(af))\n",
    "    print('CH2 \\t', min(bf), '\\t', max(bf), '\\t', len(bf))\n",
    "    print('CH3 \\t', min(cf), '\\t', max(cf), '\\t', len(cf))\n",
    "    print('CH4 \\t', min(df), '\\t', max(df), '\\t', len(df))\n",
    "    print('-------------------------------------------------------------')\n",
    "    # return data \n",
    "    return af,bf,cf,df"
   ]
  },
  {
   "cell_type": "code",
   "execution_count": null,
   "metadata": {},
   "outputs": [],
   "source": [
    "# filter data by selection method\n",
    "ch1_ir, ch2_ir, ch3_ir, ch4_ir = SelectIRAC(agn_irSel20_i_ONLY)\n",
    "ch1_xr, ch2_xr, ch3_xr, ch4_xr = SelectIRAC(agn_xrSel20_i_ONLY)\n",
    "ch1_ix, ch2_ix, ch3_ix, ch4_ix = SelectIRAC(agn20_i_BOTH)"
   ]
  },
  {
   "cell_type": "markdown",
   "metadata": {},
   "source": [
    "# Plot IRAC Colors With Exclusive Selection Lists"
   ]
  },
  {
   "cell_type": "code",
   "execution_count": null,
   "metadata": {},
   "outputs": [],
   "source": [
    "# set standard plot format\n",
    "myP.SetStyle()"
   ]
  },
  {
   "cell_type": "code",
   "execution_count": null,
   "metadata": {},
   "outputs": [],
   "source": [
    "# calculate colors for ir \n",
    "x_ir = np.log10( ch3_ir / ch1_ir ) # x = log10 ( f_5.6um / f_3.6um )\n",
    "y_ir = np.log10( ch4_ir / ch2_ir ) # y = log10 ( f_8.0um / f_4.5 um )\n",
    "\n",
    "# calculate colors for xray \n",
    "x_xr = np.log10( ch3_xr / ch1_xr ) # x = log10 ( f_5.6um / f_3.6um )\n",
    "y_xr = np.log10( ch4_xr / ch2_xr ) # y = log10 ( f_8.0um / f_4.5 um )\n",
    "\n",
    "# calculate colors for matched ir/xray\n",
    "x_ix = np.log10( ch3_ix / ch1_ix ) # x = log10 ( f_5.6um / f_3.6um )\n",
    "y_ix = np.log10( ch4_ix / ch2_ix ) # y = log10 ( f_8.0um / f_4.5 um )"
   ]
  },
  {
   "cell_type": "code",
   "execution_count": null,
   "metadata": {},
   "outputs": [],
   "source": [
    "# plot data\n",
    "plt.plot(x_ir, y_ir, '.', c=myP.c_ir,       markersize=1, label='IR selected')\n",
    "plt.plot(x_xr, y_xr, 'x', c=myP.c_xray,     markersize=1, label='X-ray selected')\n",
    "plt.plot(x_ix, y_ix, '*', c=myP.c_ir_xray,  markersize=1, label='both IR and X-ray')\n",
    "\n",
    "# draw box\n",
    "myP.PlotDonleyWedge()\n",
    "\n",
    "# customize\n",
    "plt.legend(markerscale=8)\n",
    "plt.title('IR and X-ray selected AGN from COSMOS sources') \n",
    "\n",
    "# set axis size and save\n",
    "plt.axis([-1.5,2.5,-1.5,2.5]) \n",
    "plt.savefig(path_fig+'\\COSMOS_IR-Xray_selection_FULL.png',bbox_inches =\"tight\",pad_inches=0.2,facecolor='w',edgecolor='w')\n",
    "plt.axis([-0.7,1.0,-0.7,1.0]) \n",
    "plt.savefig(path_fig+'\\COSMOS_IR-Xray_selection_ZOOM.png',bbox_inches =\"tight\",pad_inches=0.2,facecolor='w',edgecolor='w')\n",
    "\n",
    "# display\n",
    "plt.show()"
   ]
  },
  {
   "cell_type": "markdown",
   "metadata": {},
   "source": [
    "# Plot IRAC Colors With Xray Color Bar"
   ]
  }
 ],
 "metadata": {
  "kernelspec": {
   "display_name": "Python 3.9.12 ('py3env')",
   "language": "python",
   "name": "python3"
  },
  "language_info": {
   "codemirror_mode": {
    "name": "ipython",
    "version": 3
   },
   "file_extension": ".py",
   "mimetype": "text/x-python",
   "name": "python",
   "nbconvert_exporter": "python",
   "pygments_lexer": "ipython3",
   "version": "3.9.12"
  },
  "orig_nbformat": 4,
  "vscode": {
   "interpreter": {
    "hash": "9087279304570de5a36832bd291691fdf2a46b942e9196516ec718f5eedeadfe"
   }
  }
 },
 "nbformat": 4,
 "nbformat_minor": 2
}
