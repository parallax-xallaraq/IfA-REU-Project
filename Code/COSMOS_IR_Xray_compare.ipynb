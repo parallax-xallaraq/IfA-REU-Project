{
 "cells": [
  {
   "cell_type": "code",
   "execution_count": 1,
   "metadata": {},
   "outputs": [],
   "source": [
    "# imports\n",
    "from astropy.io import fits\n",
    "import matplotlib.pyplot as plt\n",
    "# import matplotlib as mpl\n",
    "import plotting as myP\n",
    "import numpy as np\n",
    "import csv \n",
    "import match"
   ]
  },
  {
   "cell_type": "code",
   "execution_count": 2,
   "metadata": {},
   "outputs": [],
   "source": [
    "# path variables \n",
    "path_cat = 'D:\\IfA REU\\Catalogs'\n",
    "path_fig = 'D:\\IfA REU\\IfA-REU-Project\\Figures'\n",
    "path_csv = 'D:\\IfA REU\\IfA-REU-Project\\Lists'"
   ]
  },
  {
   "cell_type": "markdown",
   "metadata": {},
   "source": [
    "# Read AGN Lists From CSV"
   ]
  },
  {
   "cell_type": "code",
   "execution_count": 3,
   "metadata": {},
   "outputs": [],
   "source": [
    "# read from a given csv file and return a list of its contents \n",
    "def ReadFile(filename) : \n",
    "    # initialize list\n",
    "    file = []\n",
    "\n",
    "    # open csv file\n",
    "    with open(path_csv+filename, newline='') as csv_file : \n",
    "        reader = csv.reader(csv_file, delimiter=',', quotechar='\"')\n",
    "        # output file into list for easy access\n",
    "        for row in reader :\n",
    "            file.append(row)\n",
    "\n",
    "    # print column names \n",
    "    print(filename, '\\tcolumns: ', file[0])\n",
    "\n",
    "    # return an array of type int with column names clipped off\n",
    "    return( np.array(file[1:], dtype=int) )\n"
   ]
  },
  {
   "cell_type": "code",
   "execution_count": 4,
   "metadata": {},
   "outputs": [
    {
     "name": "stdout",
     "output_type": "stream",
     "text": [
      "\\Match_COSMOS2020_IRAGN_to_COSMOS2020.csv \tcolumns:  ['ID', 'i']\n",
      "\\Match_Chandra2016_XrayAGN_to_COSMOS2020.csv \tcolumns:  ['ID', 'i']\n"
     ]
    }
   ],
   "source": [
    "# read AGN ID and index from csv files\n",
    "agn_irSel20 = ReadFile('\\Match_COSMOS2020_IRAGN_to_COSMOS2020.csv')\n",
    "agn_xrSel20 = ReadFile('\\Match_Chandra2016_XrayAGN_to_COSMOS2020.csv')\n",
    "\n",
    "# transpose arrays to get columns\n",
    "agn_irSel20_id, agn_irSel20_i = agn_irSel20.T\n",
    "agn_xrSel20_id, agn_xrSel20_i = agn_xrSel20.T"
   ]
  },
  {
   "cell_type": "code",
   "execution_count": 5,
   "metadata": {},
   "outputs": [
    {
     "name": "stdout",
     "output_type": "stream",
     "text": [
      "Number of IR AGN in COSMOS 2020:\t 2287\n",
      "Number of Xray AGN in COSMOS 2020:\t 2176\n"
     ]
    }
   ],
   "source": [
    "# print info\n",
    "print('Number of IR AGN in COSMOS 2020:\\t',    len(agn_irSel20_id))\n",
    "print('Number of Xray AGN in COSMOS 2020:\\t',  len(agn_xrSel20_id))"
   ]
  },
  {
   "cell_type": "code",
   "execution_count": 6,
   "metadata": {},
   "outputs": [],
   "source": [
    "# # test: left and right must match\n",
    "# print(agn_irSel20[0][0], '==', agn_irSel20_id[0])\n",
    "# print(agn_irSel20[0][1], '==', agn_irSel20_i[0])\n",
    "# print(agn_xrSel20[0][0], '==', agn_xrSel20_id[0])\n",
    "# print(agn_xrSel20[0][1], '==', agn_xrSel20_i[0])"
   ]
  },
  {
   "cell_type": "markdown",
   "metadata": {},
   "source": [
    "# Get Data From Catalogs"
   ]
  },
  {
   "cell_type": "code",
   "execution_count": 7,
   "metadata": {},
   "outputs": [],
   "source": [
    "# open COSMOS 2020 catalog file and get data \n",
    "inf20 = fits.open(path_cat+'\\COSMOS2020_CLASSIC_R1_v2.0_master.fits')\n",
    "data20 = inf20[1].data\n",
    "cols20 = inf20[1].columns\n",
    "inf20.close()"
   ]
  },
  {
   "cell_type": "code",
   "execution_count": 8,
   "metadata": {},
   "outputs": [
    {
     "name": "stdout",
     "output_type": "stream",
     "text": [
      "Ch1 read\n",
      "Ch2 read\n",
      "Ch3 read\n",
      "Ch4 read\n",
      "id read\n"
     ]
    }
   ],
   "source": [
    "# get IRAC data (unit = 'uJy')\n",
    "ch1_data  = np.array(data20['SPLASH_CH1_FLUX']) # 3.5686 um\n",
    "print('Ch1 read')\n",
    "ch2_data  = np.array(data20['SPLASH_CH2_FLUX']) # 4.5067 um\n",
    "print('Ch2 read')\n",
    "ch3_data  = np.array(data20['SPLASH_CH3_FLUX']) # 5.7788 um\n",
    "print('Ch3 read')\n",
    "ch4_data  = np.array(data20['SPLASH_CH4_FLUX']) # 7.9958 um \n",
    "print('Ch4 read')\n",
    "# get ID\n",
    "id20_data = np.array(data20['ID_COSMOS2015'])\n",
    "print('id read')"
   ]
  },
  {
   "cell_type": "code",
   "execution_count": 9,
   "metadata": {},
   "outputs": [],
   "source": [
    "# open COSMOS 2016 catalog file and get data \n",
    "inf16 = fits.open(path_cat+'\\chandra_COSMOS_legacy_opt_NIR_counterparts_20160113_4d.fits')\n",
    "data16 = inf16[1].data\n",
    "cols16 = inf16[1].columns\n",
    "inf16.close()"
   ]
  },
  {
   "cell_type": "code",
   "execution_count": 10,
   "metadata": {},
   "outputs": [
    {
     "name": "stdout",
     "output_type": "stream",
     "text": [
      "id read\n",
      "L0510 read\n"
     ]
    }
   ],
   "source": [
    "# get data arrays from columns\n",
    "id16_data = np.array(data16['id_k_uv'])\n",
    "print('id read')\n",
    "L0510_data = np.array(data16['Lx_0510']) # x-ray luminosity in the 0.5-10 KeV band\n",
    "print('L0510 read')"
   ]
  },
  {
   "cell_type": "markdown",
   "metadata": {},
   "source": [
    "# Isolate Data By Selection Method"
   ]
  },
  {
   "cell_type": "code",
   "execution_count": 11,
   "metadata": {},
   "outputs": [],
   "source": [
    "# match agn ids\n",
    "key_ir, key_xr = match.match(agn_irSel20_id, agn_xrSel20_id)\n",
    "\n",
    "# initialize\n",
    "mask_ir = np.ones(agn_irSel20_id.size, dtype=bool)\n",
    "mask_xr = np.ones(agn_xrSel20_id.size, dtype=bool)\n",
    "\n",
    "# set matched index to false\n",
    "mask_ir[key_ir] = False\n",
    "mask_xr[key_xr] = False\n",
    "\n",
    "# remove xray selected agn from ir selected list\n",
    "agn_irSel20_id_ONLY = agn_irSel20_id[mask_ir]\n",
    "agn_irSel20_i_ONLY  = agn_irSel20_i[mask_ir]\n",
    "\n",
    "# remove ir selected agn from xray selected list \n",
    "agn_xrSel20_id_ONLY = agn_xrSel20_id[mask_xr]\n",
    "agn_xrSel20_i_ONLY  = agn_xrSel20_i[mask_xr]\n",
    "\n",
    "# create list of ir/xray match\n",
    "agn20_id_BOTH = agn_irSel20_id[key_ir]\n",
    "agn20_i_BOTH  = agn_irSel20_i[key_ir]"
   ]
  },
  {
   "cell_type": "code",
   "execution_count": 12,
   "metadata": {},
   "outputs": [
    {
     "name": "stdout",
     "output_type": "stream",
     "text": [
      "Number of IR only:\t 1640\n",
      "Number of Xray only:\t 1529\n",
      "Number of matches:\t 647\n"
     ]
    }
   ],
   "source": [
    "# print info \n",
    "print('Number of IR only:\\t',   len(agn_irSel20_i_ONLY))\n",
    "print('Number of Xray only:\\t', len(agn_xrSel20_i_ONLY))\n",
    "print('Number of matches:\\t',   len(agn20_i_BOTH))"
   ]
  },
  {
   "cell_type": "code",
   "execution_count": 13,
   "metadata": {},
   "outputs": [],
   "source": [
    "# returns the IRAC channels only at indeces i \n",
    "def SelectIRAC(i, applyMask=True, printInfo=True):\n",
    "    # get data\n",
    "    a = ch1_data[i]\n",
    "    b = ch2_data[i]\n",
    "    c = ch3_data[i]\n",
    "    d = ch4_data[i]\n",
    "\n",
    "    if(applyMask == True) :\n",
    "        # mask bad values \n",
    "        mask = (a > 0) & (b > 0) & (c > 0) & (d > 0)\n",
    "        # apply mask \n",
    "        a = a[mask]\n",
    "        b = b[mask]\n",
    "        c = c[mask]\n",
    "        d = d[mask] \n",
    "\n",
    "    if(printInfo == True) : \n",
    "        # print info\n",
    "        print('Col \\t Min \\t\\t Max \\t\\t Count')\n",
    "        print('-------------------------------------------------------------')\n",
    "        print('CH1 \\t', min(a), '\\t', max(a), '\\t', len(a))\n",
    "        print('CH2 \\t', min(b), '\\t', max(b), '\\t', len(b))\n",
    "        print('CH3 \\t', min(c), '\\t', max(c), '\\t', len(c))\n",
    "        print('CH4 \\t', min(d), '\\t', max(d), '\\t', len(d))\n",
    "        print('-------------------------------------------------------------')\n",
    "    \n",
    "    # return data \n",
    "    return a,b,c,d"
   ]
  },
  {
   "cell_type": "code",
   "execution_count": 14,
   "metadata": {},
   "outputs": [],
   "source": [
    "# filter data by selection method\n",
    "ch1_ir, ch2_ir, ch3_ir, ch4_ir = SelectIRAC(agn_irSel20_i_ONLY, True, False)\n",
    "ch1_xr, ch2_xr, ch3_xr, ch4_xr = SelectIRAC(agn_xrSel20_i_ONLY, True, False)\n",
    "ch1_ix, ch2_ix, ch3_ix, ch4_ix = SelectIRAC(agn20_i_BOTH, True, False)"
   ]
  },
  {
   "cell_type": "markdown",
   "metadata": {},
   "source": [
    "# Plot IRAC Colors With Exclusive Selection Lists"
   ]
  },
  {
   "cell_type": "code",
   "execution_count": 15,
   "metadata": {},
   "outputs": [],
   "source": [
    "# calculate colors for ir \n",
    "x_ir = np.log10( ch3_ir / ch1_ir ) # x = log10 ( f_5.6um / f_3.6um )\n",
    "y_ir = np.log10( ch4_ir / ch2_ir ) # y = log10 ( f_8.0um / f_4.5 um )\n",
    "\n",
    "# calculate colors for xray \n",
    "x_xr = np.log10( ch3_xr / ch1_xr ) # x = log10 ( f_5.6um / f_3.6um )\n",
    "y_xr = np.log10( ch4_xr / ch2_xr ) # y = log10 ( f_8.0um / f_4.5 um )\n",
    "\n",
    "# calculate colors for matched ir/xray\n",
    "x_ix = np.log10( ch3_ix / ch1_ix ) # x = log10 ( f_5.6um / f_3.6um )\n",
    "y_ix = np.log10( ch4_ix / ch2_ix ) # y = log10 ( f_8.0um / f_4.5 um )"
   ]
  },
  {
   "cell_type": "code",
   "execution_count": 16,
   "metadata": {},
   "outputs": [
    {
     "data": {
      "image/png": "[encoded data removed]",
      "text/plain": [
       "<Figure size 432x288 with 1 Axes>"
      ]
     },
     "metadata": {
      "needs_background": "light"
     },
     "output_type": "display_data"
    }
   ],
   "source": [
    "# set standard plot format\n",
    "myP.SetStyle()\n",
    "\n",
    "# plot data\n",
    "plt.plot(x_ir, y_ir, 'o', c=myP.c_ir,       markersize=1, label='IR selected')\n",
    "plt.plot(x_xr, y_xr, 'o', c=myP.c_xray,     markersize=1, label='X-ray selected')\n",
    "plt.plot(x_ix, y_ix, 'o', c=myP.c_ir_xray,  markersize=1, label='both IR and X-ray')\n",
    "\n",
    "# draw box\n",
    "myP.PlotDonleyWedge()\n",
    "\n",
    "# customize\n",
    "plt.legend(markerscale=5)\n",
    "plt.title('IR and X-ray selected AGN from COSMOS sources') \n",
    "\n",
    "# set axis size and save\n",
    "plt.axis([-1.5,2.5,-1.5,2.5]) \n",
    "plt.savefig(path_fig+'\\COSMOS_IR-Xray_selection_FULL.png',bbox_inches =\"tight\",pad_inches=0.2,facecolor='w',edgecolor='w')\n",
    "plt.axis([-0.7,1.0,-0.7,1.0]) \n",
    "plt.savefig(path_fig+'\\COSMOS_IR-Xray_selection_ZOOM.png',bbox_inches =\"tight\",pad_inches=0.2,facecolor='w',edgecolor='w')\n",
    "\n",
    "# display\n",
    "plt.show()"
   ]
  },
  {
   "cell_type": "markdown",
   "metadata": {},
   "source": [
    "# Match Xray Data to IRAC Datapoints"
   ]
  },
  {
   "cell_type": "code",
   "execution_count": 17,
   "metadata": {},
   "outputs": [],
   "source": [
    "## Build full agn lists:\n",
    "##      agn_full_ids\n",
    "##      agn_full_i20\n",
    "\n",
    "# merge agn lists into one\n",
    "agn_full_ids = np.unique(np.concatenate((agn_irSel20_id,agn_xrSel20_id)))\n",
    "\n",
    "# match full agn list against COSMOS 2020 to get i\n",
    "key_full20, agn_full_i20 = match.match(agn_full_ids, id20_data)\n"
   ]
  },
  {
   "cell_type": "code",
   "execution_count": 18,
   "metadata": {},
   "outputs": [],
   "source": [
    "## Build xray matched agn lists:\n",
    "##      agn_yX_ids\n",
    "##      agn_yX_i16\n",
    "##      agn_yX_i20\n",
    "\n",
    "# match full agn list against Chandra 2016 to get id and i for xray data \n",
    "key_full16, agn_yX_i16 = match.match(agn_full_ids, id16_data)\n",
    "\n",
    "# get list of agn with xray matches \n",
    "agn_yX_ids = agn_full_ids[key_full16]\n",
    "\n",
    "# match xray data agn against COSMOS 2020 to get i for xray list \n",
    "key_yxid, agn_yX_i20 = match.match(agn_yX_ids, id20_data)"
   ]
  },
  {
   "cell_type": "code",
   "execution_count": 19,
   "metadata": {},
   "outputs": [],
   "source": [
    "## Build no-xray matched agn lists:\n",
    "##      agn_nX_ids\n",
    "##      agn_nX_i20\n",
    "\n",
    "# match agn with xray against the full list to get index matches\n",
    "key_yx, key_full = match.match(agn_yX_ids, agn_full_ids)\n",
    "\n",
    "# create mask that is false for any xray matches \n",
    "mask_nX = np.ones(agn_full_ids.size, dtype=bool)\n",
    "mask_nX[key_full] = False\n",
    "\n",
    "# apply mask to get lists with no xray data \n",
    "agn_nX_ids = agn_full_ids[mask_nX]\n",
    "agn_nX_i20 = agn_full_i20[mask_nX]"
   ]
  },
  {
   "cell_type": "code",
   "execution_count": 20,
   "metadata": {},
   "outputs": [
    {
     "name": "stdout",
     "output_type": "stream",
     "text": [
      "Number of total AGN:\t\t\t 3816\n",
      "Number of AGN with Xray data:\t\t 2275\n",
      "Number of AGN without Xray data:\t 1541\n"
     ]
    }
   ],
   "source": [
    "# print information \n",
    "print('Number of total AGN:\\t\\t\\t',         len(agn_full_ids))\n",
    "print('Number of AGN with Xray data:\\t\\t',  len(agn_yX_ids))\n",
    "print('Number of AGN without Xray data:\\t', len(agn_nX_ids))\n",
    "# print('(Note that values may be -99)')"
   ]
  },
  {
   "cell_type": "code",
   "execution_count": 21,
   "metadata": {},
   "outputs": [
    {
     "name": "stdout",
     "output_type": "stream",
     "text": [
      "Kicked from yX: 15\n"
     ]
    }
   ],
   "source": [
    "# get xray data\n",
    "Lx = L0510_data[agn_yX_i16]\n",
    "\n",
    "# get masks for (in)valid data \n",
    "mask_goodX = Lx > 0 \n",
    "mask_badX = ~ mask_goodX\n",
    "\n",
    "# apply mask for valid data\n",
    "agn_yX_ids_Xmasked = agn_yX_ids[mask_goodX]\n",
    "agn_yX_i16_Xmasked = agn_yX_i16[mask_goodX]\n",
    "agn_yX_i20_Xmasked = agn_yX_i20[mask_goodX]\n",
    "Lx_Xmasked         = Lx[mask_goodX]\n",
    "\n",
    "# apply invalid mask to get the removed ids/i20 \n",
    "kicked_ids = agn_yX_ids[mask_badX]\n",
    "kicked_i20 = agn_yX_i20[mask_badX]\n",
    "print('Kicked from yX:', len(kicked_ids))\n",
    "\n",
    "# add the removed yX ids/i20s to nX arrays\n",
    "agn_nX_ids_Xmasked = np.concatenate((agn_nX_ids, kicked_ids))\n",
    "agn_nX_i20_Xmasked = np.concatenate((agn_nX_i20, kicked_i20))\n"
   ]
  },
  {
   "cell_type": "code",
   "execution_count": 22,
   "metadata": {},
   "outputs": [
    {
     "name": "stdout",
     "output_type": "stream",
     "text": [
      "Number of total AGN:\t\t\t 3816\n",
      "Number of AGN with Xray data:\t\t 2260\n",
      "Number of AGN without Xray data:\t 1556\n"
     ]
    }
   ],
   "source": [
    "# print information \n",
    "print('Number of total AGN:\\t\\t\\t',         len(agn_full_ids))\n",
    "print('Number of AGN with Xray data:\\t\\t',  len(agn_yX_ids_Xmasked))\n",
    "print('Number of AGN without Xray data:\\t', len(agn_nX_ids_Xmasked))"
   ]
  },
  {
   "cell_type": "code",
   "execution_count": 23,
   "metadata": {},
   "outputs": [
    {
     "name": "stdout",
     "output_type": "stream",
     "text": [
      "Col \t Min \t\t Max \t\t Count\n",
      "-------------------------------------------------------------\n",
      "CH1 \t -99.9 \t 2890.8818 \t 2260\n",
      "CH2 \t -99.9 \t 2585.7314 \t 2260\n",
      "CH3 \t -99.9 \t 4258.4307 \t 2260\n",
      "CH4 \t -99.9 \t 6295.71 \t 2260\n",
      "-------------------------------------------------------------\n",
      "Col \t Min \t\t Max \t\t Count\n",
      "-------------------------------------------------------------\n",
      "CH1 \t 0.06996247 \t 557.9681 \t 1556\n",
      "CH2 \t 0.027118225 \t 1051.9921 \t 1556\n",
      "CH3 \t 0.36891517 \t 2789.9287 \t 1556\n",
      "CH4 \t 0.32237768 \t 5239.906 \t 1556\n",
      "-------------------------------------------------------------\n"
     ]
    }
   ],
   "source": [
    "# Get unmasked IRAC data\n",
    "ch1_yX, ch2_yX, ch3_yX, ch4_yX = SelectIRAC(agn_yX_i20_Xmasked, False, True) \n",
    "ch1_nX, ch2_nX, ch3_nX, ch4_nX = SelectIRAC(agn_nX_i20_Xmasked, False, True) "
   ]
  },
  {
   "cell_type": "code",
   "execution_count": 24,
   "metadata": {},
   "outputs": [],
   "source": [
    "# mask for valid IRAC data \n",
    "mask_goodI = (ch1_yX > 0) & (ch2_yX > 0) & (ch3_yX > 0) & (ch4_yX > 0)\n",
    "\n",
    "# apply mask to yX channels\n",
    "ch1_yX_good = ch1_yX[mask_goodI]\n",
    "ch2_yX_good = ch2_yX[mask_goodI]\n",
    "ch3_yX_good = ch3_yX[mask_goodI]\n",
    "ch4_yX_good = ch4_yX[mask_goodI]\n",
    "\n",
    "# apply mask to Xray data\n",
    "Lx_IXmasked = Lx_Xmasked[mask_goodI]\n",
    "\n",
    "# apply mask to yX lists\n",
    "agn_yX_ids_IXmasked = agn_yX_ids_Xmasked[mask_goodI]\n",
    "agn_yX_i16_IXmasked = agn_yX_i16_Xmasked[mask_goodI]\n",
    "agn_yX_i20_IXmasked = agn_yX_i20_Xmasked[mask_goodI]"
   ]
  },
  {
   "cell_type": "markdown",
   "metadata": {},
   "source": [
    "# Plot IRAC Colors With Xray Color Bar"
   ]
  },
  {
   "cell_type": "code",
   "execution_count": 25,
   "metadata": {},
   "outputs": [],
   "source": [
    "# calculate colors for with Xray\n",
    "x_yX = np.log10( ch3_yX_good / ch1_yX_good ) # x = log10 ( f_5.6um / f_3.6um )\n",
    "y_yX = np.log10( ch4_yX_good / ch2_yX_good ) # y = log10 ( f_8.0um / f_4.5 um )\n",
    "\n",
    "# calculate colors for without Xray\n",
    "x_nX = np.log10( ch3_nX / ch1_nX ) # x = log10 ( f_5.6um / f_3.6um )\n",
    "y_nX = np.log10( ch4_nX / ch2_nX ) # y = log10 ( f_8.0um / f_4.5 um )"
   ]
  },
  {
   "cell_type": "code",
   "execution_count": 26,
   "metadata": {},
   "outputs": [
    {
     "data": {
      "image/png": "[encoded data removed]",
      "text/plain": [
       "<Figure size 432x288 with 2 Axes>"
      ]
     },
     "metadata": {
      "needs_background": "light"
     },
     "output_type": "display_data"
    }
   ],
   "source": [
    "# plot data\n",
    "# plt.plot(x_yX,  y_yX, '.', c='blue', markersize=1)\n",
    "# plt.plot(x_nX,  y_nX, '.', c='gray', markersize=1)\n",
    "\n",
    "plt.scatter(x_nX, y_nX, s=1, c='lightgrey')\n",
    "plt.scatter(x_yX, y_yX, s=1, c=Lx_IXmasked, cmap='CMRmap')\n",
    "\n",
    "plt.colorbar(label='$\\log(L_x) \\,\\, (0.5-10keV) \\,\\, [erg \\,\\, s^{-1}]$')\n",
    "\n",
    "# draw box\n",
    "myP.PlotDonleyWedge()\n",
    "\n",
    "# customize\n",
    "# plt.legend(markerscale=8)\n",
    "plt.title('IR and X-ray selected AGN from COSMOS sources') \n",
    "\n",
    "# set axis size and save\n",
    "plt.axis([-1.5,2.5,-1.5,2.5]) \n",
    "plt.savefig(path_fig+'\\COSMOS_IR-Xray_XrayColorBar_FULL.png',bbox_inches =\"tight\",pad_inches=0.2,facecolor='w',edgecolor='w')\n",
    "plt.axis([-0.7,1.0,-0.7,1.0]) \n",
    "plt.savefig(path_fig+'\\COSMOS_IR-Xray_XrayColorBar_ZOOM.png',bbox_inches =\"tight\",pad_inches=0.2,facecolor='w',edgecolor='w')\n",
    "\n",
    "# display\n",
    "plt.show()"
   ]
  },
  {
   "cell_type": "markdown",
   "metadata": {},
   "source": [
    "# Dump"
   ]
  },
  {
   "cell_type": "code",
   "execution_count": 27,
   "metadata": {},
   "outputs": [],
   "source": [
    "# # merge lists into one\n",
    "# agn_full_id = np.unique(np.concatenate((agn_irSel20_id,agn_xrSel20_id)))\n",
    "# print(len(agn_full_id))\n",
    "\n",
    "# # split list into two: with and without xray data \n",
    "# key_full, key_id16 = match.match(agn_full_id, id16_data)\n",
    "\n",
    "# # get luminosities at matched id\n",
    "# Lx_full = L0510_data[key_id16]\n",
    "\n",
    "# # mask bad values \n",
    "# mask_nx = (Lx_full > 0)\n",
    "\n",
    "# # apply mask\n"
   ]
  },
  {
   "cell_type": "code",
   "execution_count": 28,
   "metadata": {},
   "outputs": [],
   "source": [
    "# # match ids of ir agn to the xray catalog\n",
    "# key_irSel, key_ir_id16 = match.match(agn_irSel20_id, id16_data)\n",
    "\n",
    "# # mask for no xray matches\n",
    "# mask_nX = np.ones(agn_irSel20_id.size, dtype=bool)\n",
    "# mask_nX[key_irSel] = False\n",
    "\n",
    "# # get 'no X' lists \n",
    "# agn_irSel20_id_nX = agn_irSel20_id[mask_nX]\n",
    "# agn_irSel20_i_nX  = agn_irSel20_i[mask_nX]\n",
    "\n",
    "# # get 'yes X' lists \n",
    "# agn_irSel20_id_yX = agn_irSel20_id[key_irSel]\n",
    "# agn_irSel20_i_yX  = agn_irSel20_i[key_irSel]\n",
    "\n",
    "# # get xray luminosities for *yX\n",
    "# agn_irSel20_Lx = L0510_data[key_ir_id16]\n"
   ]
  },
  {
   "cell_type": "code",
   "execution_count": 29,
   "metadata": {},
   "outputs": [],
   "source": [
    "# # match ids of xray_ONLY agn to the xray catalog\n",
    "# key_xrSel, key_xr_id16 = match.match(agn_xrSel20_id_ONLY, id16_data)\n",
    "\n",
    "# # ... all agn_xrSel20_id_ONLY have xray matches. No need to make more lists \n",
    "\n",
    "# # get xray luminosities \n",
    "# agn_xrSel20_Lx = L0510_data[key_xr_id16]"
   ]
  },
  {
   "cell_type": "code",
   "execution_count": 30,
   "metadata": {},
   "outputs": [],
   "source": [
    "# # match ir selected agn to the xray catalog\n",
    "# key20, key16 = match.match(agn_irSel20_id, agn_irSel16_id)\n",
    "\n",
    "# # mask \n",
    "# mask_woX = np.ones(agn_irSel20_id.size, dtype=bool)\n",
    "# mask_woX[key20] = False\n",
    "\n",
    "# # get array of xray data for ir agn\n",
    "# agn_irSel16_id_wX = agn_irSel16_id[key16]\n",
    "# agn_irSel16_i_wX  = agn_irSel16_i[key16]\n",
    "\n",
    "# # get array of ir selected agn with Xray data \n",
    "# agn_irSel20_id_wX = agn_irSel20_id[key20]\n",
    "# agn_irSel20_i_wX  = agn_irSel20_i[key20]\n",
    "\n",
    "# # get array of ir selected agn without Xray data \n",
    "# agn_irSel20_id_woX = agn_irSel20_id[mask_woX]\n",
    "# agn_irSel20_i_woX  = agn_irSel20_i[mask_woX]"
   ]
  },
  {
   "cell_type": "code",
   "execution_count": 31,
   "metadata": {},
   "outputs": [],
   "source": [
    "# # Get IRAC data for ir selected agn \n",
    "# ch1_wX, ch2_wX, ch3_wX, ch4_wX     = SelectIRAC(agn_irSel20_i_wX, False, False)\n",
    "# ch1_woX, ch2_woX, ch3_woX, ch4_woX = SelectIRAC(agn_irSel20_i_woX, False, False)\n",
    "\n",
    "# # Get Xray luminosity for ir selected agn\n",
    "# Lx_ir = L0510_data[agn_irSel16_i_wX] \n",
    "\n",
    "# # NOTE: ch#_wX and Lx_ir are parallel lists "
   ]
  },
  {
   "cell_type": "code",
   "execution_count": 32,
   "metadata": {},
   "outputs": [],
   "source": [
    "# # Get IRAC data for xray_ONLY selected agn \n",
    "# ch1_X, ch2_X, ch3_X, ch4_X = SelectIRAC(agn_xrSel20_i_ONLY, False, False)\n",
    "\n",
    "# # filter out bad values \n",
    "# mask_X = (ch1_X > 0) & (ch2_X > 0) & (ch3_X > 0) & (ch4_X > 0)\n",
    "\n",
    "# # apply mask\n",
    "# agn_xrSel20_id_ONLY_VALID =  agn_xrSel20_id_ONLY[mask_X]\n",
    "# agn_xrSel20_i_ONLY_VALID  =  agn_xrSel20_i_ONLY[mask_X]\n",
    "# ch1_X = ch1_X[mask_X]\n",
    "# ch2_X = ch2_X[mask_X]\n",
    "# ch3_X = ch3_X[mask_X]\n",
    "# ch4_X = ch4_X[mask_X]\n"
   ]
  },
  {
   "cell_type": "code",
   "execution_count": 33,
   "metadata": {},
   "outputs": [],
   "source": [
    "# # test\n",
    "# print('Do IR and Xray lists match?')\n",
    "# print('Length:', len(agn_irSel20_id_wX), '==', len(agn_irSel16_id_wX))\n",
    "# print('First ID:',  agn_irSel20_id_wX[0], '==', agn_irSel16_id_wX[0])\n",
    "# print('\\n')\n",
    "\n",
    "# print('Does the Xray data match?')\n",
    "# print('ID:', agn_irSel16_id_wX[0])\n",
    "# i0 = agn_irSel16_i_wX[0]\n",
    "# print('i:', i0)\n",
    "# print('Lx:', Lx_ir[0])\n",
    "# print('Lx:', L0510_data[i0])\n",
    "# print('\\n')\n",
    "\n",
    "# print('Do the two wX and woX lists sum to the full irSel20?')\n",
    "# print(len(agn_irSel20_id), '==', len(agn_irSel20_id_wX)+len(agn_irSel20_id_woX))\n"
   ]
  },
  {
   "cell_type": "markdown",
   "metadata": {},
   "source": [
    "# Plot IRAC Colors With Xray Color Bar"
   ]
  },
  {
   "cell_type": "code",
   "execution_count": 34,
   "metadata": {},
   "outputs": [],
   "source": [
    "# # calculate colors for with X\n",
    "# x_wX = np.log10( ch3_wX / ch1_wX ) # x = log10 ( f_5.6um / f_3.6um )\n",
    "# y_wX = np.log10( ch4_wX / ch2_wX ) # y = log10 ( f_8.0um / f_4.5 um )\n",
    "\n",
    "# # calculate colors for with X\n",
    "# x_woX = np.log10( ch3_woX / ch1_woX ) # x = log10 ( f_5.6um / f_3.6um )\n",
    "# y_woX = np.log10( ch4_woX / ch2_woX ) # y = log10 ( f_8.0um / f_4.5 um )"
   ]
  },
  {
   "cell_type": "code",
   "execution_count": 35,
   "metadata": {},
   "outputs": [],
   "source": [
    "# # plot data\n",
    "# plt.plot(x_wX,  y_wX,  '.', c='blue', markersize=1)\n",
    "# plt.plot(x_woX, y_woX, '.', c='gray', markersize=1)\n",
    "\n",
    "# # draw box\n",
    "# myP.PlotDonleyWedge()\n",
    "\n",
    "# # customize\n",
    "# # plt.legend(markerscale=8)\n",
    "# plt.title('IR and X-ray selected AGN from COSMOS sources') \n",
    "\n",
    "# # set axis size and save\n",
    "# # plt.axis([-1.5,2.5,-1.5,2.5]) \n",
    "# # plt.savefig(path_fig+'\\COSMOS_IR-Xray_selection_FULL.png',bbox_inches =\"tight\",pad_inches=0.2,facecolor='w',edgecolor='w')\n",
    "# plt.axis([-0.7,1.0,-0.7,1.0]) \n",
    "# # plt.savefig(path_fig+'\\COSMOS_IR-Xray_selection_ZOOM.png',bbox_inches =\"tight\",pad_inches=0.2,facecolor='w',edgecolor='w')\n",
    "\n",
    "# # display\n",
    "# plt.show()"
   ]
  }
 ],
 "metadata": {
  "kernelspec": {
   "display_name": "Python 3.9.12 ('py3env')",
   "language": "python",
   "name": "python3"
  },
  "language_info": {
   "codemirror_mode": {
    "name": "ipython",
    "version": 3
   },
   "file_extension": ".py",
   "mimetype": "text/x-python",
   "name": "python",
   "nbconvert_exporter": "python",
   "pygments_lexer": "ipython3",
   "version": "3.9.12"
  },
  "orig_nbformat": 4,
  "vscode": {
   "interpreter": {
    "hash": "9087279304570de5a36832bd291691fdf2a46b942e9196516ec718f5eedeadfe"
   }
  }
 },
 "nbformat": 4,
 "nbformat_minor": 2
}
