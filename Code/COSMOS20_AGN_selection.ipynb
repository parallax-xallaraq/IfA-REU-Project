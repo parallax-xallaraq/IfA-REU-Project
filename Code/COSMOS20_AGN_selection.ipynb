{
 "cells": [
  {
   "cell_type": "code",
   "execution_count": 1,
   "metadata": {},
   "outputs": [],
   "source": [
    "##### Imports and useful variables \n",
    "\n",
    "# imports\n",
    "from astropy.io import fits\n",
    "import matplotlib.pyplot as plt\n",
    "import matplotlib as mpl\n",
    "import numpy as np \n",
    "\n",
    "# variables \n",
    "path_fig = 'D:\\IfA REU\\IfA-REU-Project\\Figures'"
   ]
  },
  {
   "cell_type": "markdown",
   "metadata": {},
   "source": [
    "# Get COSMOS 2020 Data"
   ]
  },
  {
   "cell_type": "code",
   "execution_count": 2,
   "metadata": {},
   "outputs": [],
   "source": [
    "##### Get data from catalog file\n",
    "\n",
    "# open COSMOS master file and get data \n",
    "inf = fits.open('D:\\IfA REU\\Catalogs\\COSMOS2020_CLASSIC_R1_v2.0_master.fits')\n",
    "data = inf[1].data\n",
    "cols = inf[1].columns\n",
    "head = inf[0].header\n",
    "inf.close()\n",
    "\n",
    "# NOTE: Only run this once! It gets stuck if you try to run this again. \n",
    "#       If it gets stuck, interrupt and restart the jupyter kernel then run again. "
   ]
  },
  {
   "cell_type": "code",
   "execution_count": 3,
   "metadata": {},
   "outputs": [],
   "source": [
    "##### List important columns \n",
    "\n",
    "# IRAC Columns (unit = 'uJy')\n",
    "ch1 = 'SPLASH_CH1_FLUX' # 3.5686 um\n",
    "ch2 = 'SPLASH_CH2_FLUX' # 4.5067 um\n",
    "ch3 = 'SPLASH_CH3_FLUX' # 5.7788 um\n",
    "ch4 = 'SPLASH_CH4_FLUX' # 7.9958 um \n",
    "\n",
    "# identifier \n",
    "id  = 'ID'\n",
    "\n",
    "# redshift\n",
    "z = 'lp_zBEST'"
   ]
  },
  {
   "cell_type": "code",
   "execution_count": 4,
   "metadata": {},
   "outputs": [],
   "source": [
    "##### Get data from columns and print info \n",
    "\n",
    "# get IRAC data\n",
    "ch1_data = np.array(data[ch1])\n",
    "ch2_data = np.array(data[ch2])\n",
    "ch3_data = np.array(data[ch3])\n",
    "ch4_data = np.array(data[ch4])\n",
    "# get ids\n",
    "ids_data = np.array(data[id])\n",
    "# get redshift \n",
    "z_data   = np.array(data[z])\n",
    "\n",
    "# print info\n",
    "print('Col \\t Min \\t\\t Max \\t\\t Count')\n",
    "print('----------------------------------------------------')\n",
    "print('CH1 \\t', min(ch1_data), '\\t',   max(ch1_data), '\\t',    len(ch1_data))\n",
    "print('CH2 \\t', min(ch2_data), '\\t',   max(ch2_data), '\\t',    len(ch2_data))\n",
    "print('CH3 \\t', min(ch3_data), '\\t\\t', max(ch3_data), '\\t',    len(ch3_data))\n",
    "print('CH4 \\t', min(ch4_data), '\\t\\t', max(ch4_data), '\\t',    len(ch4_data))\n",
    "print('ID  \\t', min(ids_data), '\\t\\t', max(ids_data), '\\t',    len(ids_data))\n",
    "print('z  \\t',  min(z_data),   '\\t\\t', max(z_data),   '\\t\\t',  len(z_data))"
   ]
  },
  {
   "cell_type": "code",
   "execution_count": null,
   "metadata": {},
   "outputs": [],
   "source": [
    "##### Filter out bad data from the columns and print info \n",
    "\n",
    "# boolean array, true when data is valid and false otherwise\n",
    "irac_good = (ch1_data > 0) & (ch2_data > 0) & (ch3_data > 0) & (ch4_data > 0)\n",
    "z_good    = (z_data != -99) & (z_data != 99.9)\n",
    "\n",
    "# final selection \n",
    "all_good  = irac_good & z_good\n",
    "\n",
    "# filter data\n",
    "ch1_data_good = ch1_data[all_good]\n",
    "ch2_data_good = ch2_data[all_good]\n",
    "ch3_data_good = ch3_data[all_good]\n",
    "ch4_data_good = ch4_data[all_good]\n",
    "ids_data_good = ids_data[all_good]\n",
    "z_data_good   = z_data[all_good]\n",
    "\n",
    "# print info\n",
    "print('Col \\t Min \\t\\t Max \\t\\t Count')\n",
    "print('----------------------------------------------------')\n",
    "print('CH1 \\t', min(ch1_data_good), '\\t',   max(ch1_data_good), '\\t', len(ch1_data_good))\n",
    "print('CH2 \\t', min(ch2_data_good), '\\t',   max(ch2_data_good), '\\t', len(ch2_data_good))\n",
    "print('CH3 \\t', min(ch3_data_good), '\\t',   max(ch3_data_good), '\\t', len(ch3_data_good))\n",
    "print('CH4 \\t', min(ch4_data_good), '\\t',   max(ch4_data_good), '\\t', len(ch4_data_good))\n",
    "print('ID  \\t', min(ids_data_good), '\\t',   max(ids_data_good), '\\t', len(ids_data_good))\n",
    "print('z   \\t', min(z_data_good),   '\\t\\t', max(z_data_good),   '\\t', len(z_data_good))"
   ]
  },
  {
   "cell_type": "markdown",
   "metadata": {},
   "source": [
    "# IR AGN Selection (Donley et al., 2012) \n",
    "\n",
    "x = log10 ( f5.8 μm / f3.6 μm ), \n",
    "y = log10 ( f8.0 μm / f4.5 μm ) \n",
    "\n",
    "x >= 0.08 AND \n",
    "y >= 0.15 AND\n",
    "y >= (1.21 x) − 0.27 AND\n",
    "y <= (1.21 x) + 0.27 AND\n",
    "f4.5 μm > f3.6 μm AND\n",
    "f5.8 μm > f4.5 μm AND\n",
    "f8.0 μm > f5.8 μm"
   ]
  },
  {
   "cell_type": "code",
   "execution_count": null,
   "metadata": {},
   "outputs": [],
   "source": [
    "##### Draw the selection wedge for Donley 2012 on a plot \n",
    "\n",
    "def PlotDonleyWedge() : \n",
    "    # constants\n",
    "    x_min = 0.08    # x >= 0.08\n",
    "    y_min = 0.15    # y >= 0.15\n",
    "    max = 10        # arbritrary \n",
    "\n",
    "    # calculate intercepts\n",
    "    x_int_ymin = (y_min + 0.27)/1.21  # intercept between y_min and (y>=1.21x-0.27)\n",
    "    y_int_xmin = (1.21*x_min) + 0.27  # intercept between x_min and (y>=1.21x+0.27)\n",
    "\n",
    "    # calculate y_low intercepts (y>=1.21x-0.27)\n",
    "    y1_low = (1.21*x_int_ymin)  - 0.27   \n",
    "    y2_low = (1.21*max)         - 0.27\n",
    "\n",
    "    # calculate y_high intercepts (y>=1.21x+0.27)\n",
    "    y1_high = (1.21*x_min)      + 0.27\n",
    "    y2_high = (1.21*max)        + 0.27\n",
    "\n",
    "    # plot lines between intercepts \n",
    "    plt.plot( [x_min,       x_min],         [y_min,     y_int_xmin], 'k' )    # x >= 0.08\n",
    "    plt.plot( [x_min,       x_int_ymin],    [y_min,     y_min],      'k' )    # y >= 0.15\n",
    "    plt.plot( [x_int_ymin,  max],           [y1_low,    y2_low],     'k' )    # y >= 1.21x - 0.27\n",
    "    plt.plot( [x_min,       max],           [y1_high,   y2_high],    'k' )    # y <= 1.21x + 0.27\n",
    "\n",
    "    # name the x and y axis \n",
    "    plt.xlabel('$\\log(f_{5.8um}/f_{3.6um})$') \n",
    "    plt.ylabel('$\\log(f_{8.0um}/f_{4.5um})$') "
   ]
  },
  {
   "cell_type": "code",
   "execution_count": null,
   "metadata": {},
   "outputs": [],
   "source": [
    "##### redifine the defaults for plots\n",
    "\n",
    "def FormatPlot() :\n",
    "    mpl.rcParams['figure.figsize'] = 6, 4   # figure size in inches\n",
    "    mpl.rcParams['axes.titlesize'] = 16     # size of title\n",
    "    mpl.rcParams['axes.titlepad'] = 16      # space between title and plot \n",
    "    mpl.rcParams['axes.labelsize'] = 14     # font size of the x and y labels\n",
    "    mpl.rcParams['lines.linewidth'] = 0.5   # line width in points\n"
   ]
  },
  {
   "cell_type": "code",
   "execution_count": null,
   "metadata": {},
   "outputs": [],
   "source": [
    "##### draw the Donley Wedge on a plot as a test \n",
    "\n",
    "# plot \n",
    "PlotDonleyWedge()\n",
    "FormatPlot()\n",
    "plt.axis([-0.4,1,-0.4,1]) \n",
    "plt.title('AGN Selection Wedge (Donley et al., 2012)') \n",
    "plt.show()"
   ]
  },
  {
   "cell_type": "code",
   "execution_count": null,
   "metadata": {},
   "outputs": [],
   "source": [
    "##### plot all the galaxies with IRAC data\n",
    "\n",
    "# calculate colors for each galaxy\n",
    "x = np.log10( ch3_data_good / ch1_data_good ) # x = log10 ( f_5.6um / f_3.6um )\n",
    "y = np.log10( ch4_data_good / ch2_data_good ) # y = log10 ( f_8.0um / f_4.5 um )\n",
    "\n",
    "# plot \n",
    "plt.plot(x, y, 'o', markersize=0.5)\n",
    "plt.axis([-5,5,-5,5]) \n",
    "plt.title('IRAC Ch4/Ch2 vs. Ch3/Ch1 for all COSMOS galaxies') \n",
    "plt.xlabel(r'$\\log(f_{5.8um}/f_{3.6um})$') \n",
    "plt.ylabel(r'$\\log(f_{8.0um}/f_{4.5um})$')\n",
    "plt.show()\n",
    "\n",
    "# print number of galaxies\n",
    "print('Galaxy count: ', len(x))"
   ]
  },
  {
   "cell_type": "code",
   "execution_count": null,
   "metadata": {},
   "outputs": [],
   "source": [
    "##### Get the galaxies within the Donley selection wedge\n",
    "\n",
    "# initialize empty lists\n",
    "x_agn   = []\n",
    "y_agn   = []\n",
    "z_agn   = []\n",
    "id_agn  = []\n",
    "\n",
    "# look through each galaxy and check if it is inside the selection box\n",
    "for i in range(len(x)):\n",
    "    # if the point is an agn...\n",
    "    if(x[i]>=0.08 and y[i]>=0.15 and y[i]>=(1.21*x[i]-0.27) and y[i]<=(1.21*x[i]+0.27)) :  \n",
    "        # ... add values to respective list \n",
    "        x_agn.append(x[i])\n",
    "        y_agn.append(y[i])\n",
    "        z_agn.append(z_data_good[i])\n",
    "        id_agn.append(ids_data_good[i])\n",
    "    # else, move to next point\n",
    "\n",
    "# convert lists to arrays as needed\n",
    "z_agn_arr = np.array(z_agn)\n"
   ]
  },
  {
   "cell_type": "code",
   "execution_count": null,
   "metadata": {},
   "outputs": [],
   "source": [
    "##### Plot Donley selected AGN in the wedge \n",
    "\n",
    "# plot agn in selection box \n",
    "plt.plot(x_agn, y_agn, 'o', markersize=0.8)\n",
    "PlotDonleyWedge()\n",
    "plt.axis([-0.5,2.5,-0.5,2.5]) \n",
    "plt.title('Donley-selected AGN from COSMOS galaxies') \n",
    "plt.savefig(path_fig+'\\DonleySelectedAGN.png',bbox_inches =\"tight\",pad_inches=0.2,facecolor='w',edgecolor='w')\n",
    "plt.show()\n",
    "\n",
    "# print number of galaxies\n",
    "print('Galaxy count: ', len(x_agn))"
   ]
  },
  {
   "cell_type": "markdown",
   "metadata": {},
   "source": [
    "# Properties of IR AGN Selection"
   ]
  },
  {
   "cell_type": "code",
   "execution_count": null,
   "metadata": {},
   "outputs": [],
   "source": [
    "##### Plot the histograms of the redshifts of the Donley selected AGN \n",
    "\n",
    "# subplots \n",
    "fig, (z_hist, z_hist_agn) = plt.subplots(1,2)\n",
    "\n",
    "## z_hist subplot\n",
    "\n",
    "# plot all redshift histogram\n",
    "z_hist.hist(z_data_good, edgecolor='w')\n",
    "\n",
    "# axis and titles \n",
    "z_hist.set_title('Redshift histogram \\nof all COSMOS galaxies')\n",
    "z_hist.set_xlabel('z')\n",
    "z_hist.set_ylabel('Number')\n",
    "\n",
    "# mean \n",
    "mean_all = z_data_good.mean()\n",
    "min_ylim_all, max_ylim_all = z_hist.get_ylim()\n",
    "z_hist.axvline(mean_all, color='k',linestyle='dashed')\n",
    "z_hist.text(mean_all*1.3, max_ylim_all*0.9, 'Mean: {:.2f}'.format(mean_all))\n",
    "\n",
    "## z_hist_agn subplot\n",
    "\n",
    "# plot agn redshift histogram\n",
    "z_hist_agn.hist(z_agn_arr,edgecolor='w')\n",
    "\n",
    "# axis and titles \n",
    "z_hist_agn.set_title('Redshift histogram \\nof Donley-selected AGN')\n",
    "z_hist_agn.set_xlabel('z')\n",
    "z_hist_agn.set_ylabel('Number')\n",
    "\n",
    "# mean \n",
    "mean_agn = z_agn_arr.mean()\n",
    "min_ylim_agn, max_ylim_agn = z_hist_agn.get_ylim()\n",
    "z_hist_agn.axvline(mean_agn, color='k',linestyle='dashed')\n",
    "z_hist_agn.text(mean_agn*1.3, max_ylim_agn*0.9, 'Mean: {:.2f}'.format(mean_agn))\n",
    "\n",
    "## end subplots \n",
    "\n",
    "# formatting and save  \n",
    "plt.tight_layout()\n",
    "plt.savefig(path_fig+'\\RedshiftHistogram.png',bbox_inches =\"tight\",pad_inches=0.2,facecolor='w',edgecolor='w')\n"
   ]
  },
  {
   "cell_type": "markdown",
   "metadata": {},
   "source": [
    "# Next Steps\n",
    "1. explore parameters of ir selected (redshifts distribution histogram (col=lp_zBEST)) (SED properties/luminositied later) --> do this before meeting w/ Dave tomorrow\n",
    "2. given x-ray catalog from paper --> Marchesi/Chandra catalog 2016 --> fits table \n",
    "3. match x-ray sources from Marchei to COSMOS 2020 catalog using ID \n",
    "4. plot x-ray and ir on same plot\n",
    "5. Later: Get Lx_* flux columns from Xray selecgted AGN distributions\n",
    "\n",
    "\n",
    "* start taking ntoes for paper, get started by end of week\n"
   ]
  }
 ],
 "metadata": {
  "interpreter": {
   "hash": "9087279304570de5a36832bd291691fdf2a46b942e9196516ec718f5eedeadfe"
  },
  "kernelspec": {
   "display_name": "Python 3.9.12 ('py3env')",
   "language": "python",
   "name": "python3"
  },
  "language_info": {
   "codemirror_mode": {
    "name": "ipython",
    "version": 3
   },
   "file_extension": ".py",
   "mimetype": "text/x-python",
   "name": "python",
   "nbconvert_exporter": "python",
   "pygments_lexer": "ipython3",
   "version": "3.9.12"
  },
  "orig_nbformat": 4
 },
 "nbformat": 4,
 "nbformat_minor": 2
}
