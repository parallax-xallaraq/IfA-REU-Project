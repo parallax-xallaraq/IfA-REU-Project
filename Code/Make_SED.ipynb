{
 "cells": [
  {
   "cell_type": "code",
   "execution_count": 1,
   "metadata": {},
   "outputs": [],
   "source": [
    "# imports\n",
    "from astropy.io import fits\n",
    "import matplotlib.pyplot as plt\n",
    "import matplotlib as mpl\n",
    "import plotting as myP\n",
    "import numpy as np\n",
    "import csv \n",
    "# import match"
   ]
  },
  {
   "cell_type": "code",
   "execution_count": 2,
   "metadata": {},
   "outputs": [],
   "source": [
    "# path variables \n",
    "path_cat = 'D:\\IfA REU\\Catalogs'\n",
    "path_fig = 'D:\\IfA REU\\IfA-REU-Project\\Figures'\n",
    "path_csv = 'D:\\IfA REU\\IfA-REU-Project\\Lists'"
   ]
  },
  {
   "cell_type": "markdown",
   "metadata": {},
   "source": [
    "# Read CSV"
   ]
  },
  {
   "cell_type": "code",
   "execution_count": 3,
   "metadata": {},
   "outputs": [],
   "source": [
    "# read from a given csv file and return a list of its contents \n",
    "def ReadFile(filename) : \n",
    "    # initialize list\n",
    "    file = []\n",
    "    # open csv file\n",
    "    with open(filename, newline='') as csv_file : \n",
    "        reader = csv.reader(csv_file, delimiter=',', quotechar='\"')\n",
    "        # output file into list for easy access\n",
    "        for row in reader :\n",
    "            file.append(row)\n",
    "    # print column names \n",
    "    print(filename, '\\tcolumns: ', file[0])\n",
    "    # return an array of type int with column names clipped off\n",
    "    return(file[1:])"
   ]
  },
  {
   "cell_type": "code",
   "execution_count": 17,
   "metadata": {},
   "outputs": [
    {
     "name": "stdout",
     "output_type": "stream",
     "text": [
      "D:\\IfA REU\\IfA-REU-Project\\Lists\\Match_COSMOS2020_IRAGN_to_COSMOS2020.csv \tcolumns:  ['ID', 'i']\n",
      "D:\\IfA REU\\Catalogs\\COSMOS_z_matches.csv \tcolumns:  ['ID', 'z']\n"
     ]
    }
   ],
   "source": [
    "# read AGN ID and index from csv files\n",
    "agn_irSel20 = np.array(ReadFile(path_csv+'\\Match_COSMOS2020_IRAGN_to_COSMOS2020.csv'), dtype=int)\n",
    "zMatch      = np.array(ReadFile(path_cat+'\\COSMOS_z_matches.csv'))"
   ]
  },
  {
   "cell_type": "code",
   "execution_count": 22,
   "metadata": {},
   "outputs": [],
   "source": [
    "# transpose arrays to get columns\n",
    "agn_irSel20_id, agn_irSel20_i = agn_irSel20.T\n",
    "zMatch_id, zMatch_z = zMatch.T\n",
    "\n",
    "# get correct data type\n",
    "zMatch_id = np.array(zMatch_id, dtype=int)\n",
    "zMatch_z  = np.array(zMatch_z,  dtype=float)"
   ]
  },
  {
   "cell_type": "markdown",
   "metadata": {},
   "source": [
    "# Read Catalog"
   ]
  },
  {
   "cell_type": "code",
   "execution_count": 5,
   "metadata": {},
   "outputs": [],
   "source": [
    "# open COSMOS 2020 catalog file and get data \n",
    "inf20 = fits.open(path_cat+'\\COSMOS2020_CLASSIC_R1_v2.0_master.fits')\n",
    "data20 = inf20[1].data\n",
    "cols20 = inf20[1].columns\n",
    "head20 = inf20[0].header\n",
    "inf20.close()"
   ]
  },
  {
   "cell_type": "code",
   "execution_count": 6,
   "metadata": {},
   "outputs": [],
   "source": [
    "# print(cols20)"
   ]
  },
  {
   "cell_type": "markdown",
   "metadata": {},
   "source": [
    "# Get Data From Catalog "
   ]
  },
  {
   "cell_type": "code",
   "execution_count": 31,
   "metadata": {},
   "outputs": [
    {
     "name": "stdout",
     "output_type": "stream",
     "text": [
      "Table shape: (1720700, 20)\n"
     ]
    }
   ],
   "source": [
    "# get photometry table values\n",
    "flux_nu_uJy = np.array([   \n",
    "        # The Galaxy Evolution Explorer (GALEX)\n",
    "        np.array(data20['GALEX_FUV_FLUX']), \n",
    "        np.array(data20['GALEX_NUV_FLUX']),\n",
    "        # Subaru / Hyper Suprime-Cam\n",
    "        np.array(data20['HSC_g_FLUX_APER2']),\n",
    "        np.array(data20['HSC_r_FLUX_APER2']),\n",
    "        np.array(data20['HSC_i_FLUX_APER2']),\n",
    "        np.array(data20['HSC_z_FLUX_APER2']),\n",
    "        np.array(data20['HSC_y_FLUX_APER2']),\n",
    "        # Paranal VISTA / VIRCAM\n",
    "        np.array(data20['UVISTA_J_FLUX_APER2']),\n",
    "        np.array(data20['UVISTA_H_FLUX_APER2']),\n",
    "        np.array(data20['UVISTA_Ks_FLUX_APER2']),\n",
    "        # Spitzer Large Area Survey with Hyper-Suprime-Cam (SPLASH) \n",
    "        np.array(data20['SPLASH_CH1_FLUX']),\n",
    "        np.array(data20['SPLASH_CH2_FLUX']),\n",
    "        np.array(data20['SPLASH_CH3_FLUX']),\n",
    "        np.array(data20['SPLASH_CH4_FLUX']),\n",
    "        # FIR\n",
    "        np.array(data20['FIR_24_FLUX']),    # Spitzer/MIPS.24mu\n",
    "        np.array(data20['FIR_100_FLUX']),   # Herschel/Pacs.green\n",
    "        np.array(data20['FIR_160_FLUX']),   # Herschel/Pacs.red\n",
    "        np.array(data20['FIR_250_FLUX']),   # Herschel/SPIRE.PSW\n",
    "        np.array(data20['FIR_350_FLUX']),   # Herschel/SPIRE.PMW\n",
    "        np.array(data20['FIR_500_FLUX'])    # Herschel/SPIRE.PLW\n",
    "    ])  \n",
    "\n",
    "# transpose so [i] is a source, not a column\n",
    "flux_nu_uJy = flux_nu_uJy.T\n",
    "\n",
    "# change -99 to NaN\n",
    "flux_nu_uJy = np.where(flux_nu_uJy == float(-99), float('nan'), flux_nu_uJy)\n",
    "\n",
    "# print info\n",
    "print('Table shape:', np.shape(flux_nu_uJy))"
   ]
  },
  {
   "cell_type": "code",
   "execution_count": 32,
   "metadata": {},
   "outputs": [
    {
     "name": "stdout",
     "output_type": "stream",
     "text": [
      "Number of Filters:  20\n"
     ]
    }
   ],
   "source": [
    "# list wavelengths of the photometry filters (in Angstroms)\n",
    "# -- Used lambda_ref from: http://svo2.cab.inta-csic.es/theory/fps3/\n",
    "lam_A = np.array([\n",
    "          1535.08,      # 'GALEX_FUV_FLUX'\n",
    "          2300.79,      # 'GALEX_NUV_FLUX'\n",
    "          4798.21,      # 'HSC_g_FLUX_APER2'\n",
    "          6218.44,      # 'HSC_r_FLUX_APER2'\n",
    "          7727.02,      # 'HSC_i_FLUX_APER2'\n",
    "          8908.50,      # 'HSC_z_FLUX_APER2'\n",
    "          9775.07,      # 'HSC_y_FLUX_APER2'\n",
    "         12524.83,      # 'UVISTA_J_FLUX_APER2'\n",
    "         16432.40,      # 'UVISTA_H_FLUX_APER2'\n",
    "         21521.52,      # 'UVISTA_Ks_FLUX_APER2'\n",
    "         35378.41,      # 'SPLASH_CH1_FLUX' \n",
    "         44780.49,      # 'SPLASH_CH2_FLUX' \n",
    "         56961.77,      # 'SPLASH_CH3_FLUX' \n",
    "         77978.39,      # 'SPLASH_CH4_FLUX' \n",
    "        235934.61,      # 'FIR_24_FLUX'      \n",
    "             1.01e+6,   # 'FIR_100_FLUX'\n",
    "             1.62e+6,   # 'FIR_160_FLUX'\n",
    "             2.48e+6,   # 'FIR_250_FLUX'\n",
    "             3.48e+6,   # 'FIR_350_FLUX'\n",
    "             5.0e+6     # 'FIR_500_FLUX'\n",
    "    ])\n",
    "\n",
    "# print info \n",
    "print('Number of Filters: ', len(lam_A))"
   ]
  },
  {
   "cell_type": "code",
   "execution_count": 23,
   "metadata": {},
   "outputs": [
    {
     "name": "stdout",
     "output_type": "stream",
     "text": [
      "Table shape: (2287, 20)\n"
     ]
    }
   ],
   "source": [
    "# get table of agn sources \n",
    "agn_flux_nu_uJy = flux_nu_uJy[agn_irSel20_i]\n",
    "\n",
    "# print info\n",
    "print('Table shape:', np.shape(agn_flux_nu_uJy))"
   ]
  },
  {
   "cell_type": "code",
   "execution_count": 11,
   "metadata": {},
   "outputs": [],
   "source": [
    "# TODO convert observed Jy to rest Jy "
   ]
  },
  {
   "cell_type": "markdown",
   "metadata": {},
   "source": [
    "# Convert Units"
   ]
  },
  {
   "cell_type": "code",
   "execution_count": 24,
   "metadata": {},
   "outputs": [],
   "source": [
    "# convert wavelength units\n",
    "lam_cm = lam_A * 10**(-8)\n",
    "lam_um = lam_A * 10**(-4)"
   ]
  },
  {
   "cell_type": "code",
   "execution_count": 25,
   "metadata": {},
   "outputs": [],
   "source": [
    "# speed of light (constant)\n",
    "c_cm = 2.99792458 * 10**(10) # cm/s\n",
    "\n",
    "# c/lambda^2\n",
    "c_lam2 = c_cm / lam_cm**2"
   ]
  },
  {
   "cell_type": "code",
   "execution_count": 26,
   "metadata": {},
   "outputs": [
    {
     "name": "stdout",
     "output_type": "stream",
     "text": [
      "Table shape: (2287, 20)\n"
     ]
    }
   ],
   "source": [
    "# convert Jy to cgs units: # 1 Jy = 10^-23 erg/s/cm2/Hz, uJy = 10^-6 Jy\n",
    "agn_flux_nu_ergscm2Hz = agn_flux_nu_uJy * 1E-23 * 1E-6\n",
    "\n",
    "# multiply F_nu by c/lam^2 to get F_lam\n",
    "agn_flux_lam_ergscm3 = np.multiply(agn_flux_nu_ergscm2Hz, c_lam2)\n",
    "\n",
    "# lam * F_lam [erg/s/cm]\n",
    "agn_lamflux_lam_ergscm2 = np.multiply(agn_flux_lam_ergscm3, lam_cm)\n",
    "\n",
    "# verify same shape \n",
    "print('Table shape:', np.shape(agn_lamflux_lam_ergscm2))"
   ]
  },
  {
   "cell_type": "markdown",
   "metadata": {},
   "source": [
    "# Make SED"
   ]
  },
  {
   "cell_type": "code",
   "execution_count": 27,
   "metadata": {},
   "outputs": [],
   "source": [
    "# TODO normalize to 1um\n",
    "# python function built in!"
   ]
  },
  {
   "cell_type": "code",
   "execution_count": 28,
   "metadata": {},
   "outputs": [],
   "source": [
    "# set standard plot format\n",
    "myP.SetStyle()"
   ]
  },
  {
   "cell_type": "code",
   "execution_count": 30,
   "metadata": {},
   "outputs": [
    {
     "data": {
      "image/png": "[encoded data removed]",
      "text/plain": [
       "<Figure size 432x288 with 1 Axes>"
      ]
     },
     "metadata": {
      "needs_background": "light"
     },
     "output_type": "display_data"
    }
   ],
   "source": [
    "# plot curves for 10 sources \n",
    "for i in range(10) : \n",
    "    plt.plot(lam_um, agn_lamflux_lam_ergscm2[i])\n",
    "\n",
    "# log scale axis\n",
    "plt.yscale('log')\n",
    "plt.xscale('log')\n",
    "\n",
    "# set lables \n",
    "plt.title('SEDs for 10 AGN') \n",
    "\n",
    "plt.xlabel('$\\lambda \\; [\\mu m]$')\n",
    "plt.ylabel('$\\lambda F_{\\lambda} \\; [erg \\; s^{-1} \\; cm^{-2}]$')\n",
    "\n",
    "# show plot\n",
    "plt.show()"
   ]
  }
 ],
 "metadata": {
  "kernelspec": {
   "display_name": "Python 3.9.12 ('py3env')",
   "language": "python",
   "name": "python3"
  },
  "language_info": {
   "codemirror_mode": {
    "name": "ipython",
    "version": 3
   },
   "file_extension": ".py",
   "mimetype": "text/x-python",
   "name": "python",
   "nbconvert_exporter": "python",
   "pygments_lexer": "ipython3",
   "version": "3.9.12"
  },
  "orig_nbformat": 4,
  "vscode": {
   "interpreter": {
    "hash": "9087279304570de5a36832bd291691fdf2a46b942e9196516ec718f5eedeadfe"
   }
  }
 },
 "nbformat": 4,
 "nbformat_minor": 2
}
