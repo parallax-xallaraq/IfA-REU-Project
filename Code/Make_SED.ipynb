{
 "cells": [
  {
   "cell_type": "code",
   "execution_count": 33,
   "metadata": {},
   "outputs": [],
   "source": [
    "# imports\n",
    "from astropy.io import fits\n",
    "# import matplotlib.pyplot as plt\n",
    "# import matplotlib as mpl\n",
    "# import plotting as myP\n",
    "import numpy as np\n",
    "import csv \n",
    "# import match"
   ]
  },
  {
   "cell_type": "code",
   "execution_count": 2,
   "metadata": {},
   "outputs": [],
   "source": [
    "# path variables \n",
    "path_cat = 'D:\\IfA REU\\Catalogs'\n",
    "path_fig = 'D:\\IfA REU\\IfA-REU-Project\\Figures'\n",
    "path_csv = 'D:\\IfA REU\\IfA-REU-Project\\Lists'"
   ]
  },
  {
   "cell_type": "markdown",
   "metadata": {},
   "source": [
    "# Read CSV"
   ]
  },
  {
   "cell_type": "code",
   "execution_count": 35,
   "metadata": {},
   "outputs": [],
   "source": [
    "# read from a given csv file and return a list of its contents \n",
    "def ReadFile(filename) : \n",
    "    # initialize list\n",
    "    file = []\n",
    "    # open csv file\n",
    "    with open(path_csv+filename, newline='') as csv_file : \n",
    "        reader = csv.reader(csv_file, delimiter=',', quotechar='\"')\n",
    "        # output file into list for easy access\n",
    "        for row in reader :\n",
    "            file.append(row)\n",
    "    # print column names \n",
    "    print(filename, '\\tcolumns: ', file[0])\n",
    "    # return an array of type int with column names clipped off\n",
    "    return( np.array(file[1:], dtype=int) )"
   ]
  },
  {
   "cell_type": "code",
   "execution_count": 48,
   "metadata": {},
   "outputs": [
    {
     "name": "stdout",
     "output_type": "stream",
     "text": [
      "\\Match_COSMOS2020_IRAGN_to_COSMOS2020.csv \tcolumns:  ['ID', 'i']\n"
     ]
    }
   ],
   "source": [
    "# read AGN ID and index from csv files\n",
    "agn_irSel20 = ReadFile('\\Match_COSMOS2020_IRAGN_to_COSMOS2020.csv')\n",
    "\n",
    "# transpose arrays to get columns\n",
    "agn_irSel20_id, agn_irSel20_i = agn_irSel20.T"
   ]
  },
  {
   "cell_type": "markdown",
   "metadata": {},
   "source": [
    "# Read Catalog"
   ]
  },
  {
   "cell_type": "code",
   "execution_count": 3,
   "metadata": {},
   "outputs": [],
   "source": [
    "# open COSMOS 2020 catalog file and get data \n",
    "inf20 = fits.open(path_cat+'\\COSMOS2020_CLASSIC_R1_v2.0_master.fits')\n",
    "data20 = inf20[1].data\n",
    "cols20 = inf20[1].columns\n",
    "head20 = inf20[0].header\n",
    "inf20.close()"
   ]
  },
  {
   "cell_type": "code",
   "execution_count": 32,
   "metadata": {},
   "outputs": [],
   "source": [
    "# print(cols20)"
   ]
  },
  {
   "cell_type": "code",
   "execution_count": 46,
   "metadata": {},
   "outputs": [
    {
     "name": "stdout",
     "output_type": "stream",
     "text": [
      "Table shape: (1720700, 21)\n"
     ]
    }
   ],
   "source": [
    "# get photometry table values\n",
    "SED_flux_uJy = np.array([   \n",
    "        # ID \n",
    "        np.array(data20['ID_COSMOS2015']), \n",
    "        # The Galaxy Evolution Explorer (GALEX)\n",
    "        np.array(data20['GALEX_FUV_FLUX']), \n",
    "        np.array(data20['GALEX_NUV_FLUX']),\n",
    "        # Subaru / Hyper Suprime-Cam\n",
    "        np.array(data20['HSC_g_FLUX_APER2']),\n",
    "        np.array(data20['HSC_r_FLUX_APER2']),\n",
    "        np.array(data20['HSC_i_FLUX_APER2']),\n",
    "        np.array(data20['HSC_z_FLUX_APER2']),\n",
    "        np.array(data20['HSC_y_FLUX_APER2']),\n",
    "        # Paranal VISTA / VIRCAM\n",
    "        np.array(data20['UVISTA_J_FLUX_APER2']),\n",
    "        np.array(data20['UVISTA_H_FLUX_APER2']),\n",
    "        np.array(data20['UVISTA_Ks_FLUX_APER2']),\n",
    "        # Spitzer Large Area Survey with Hyper-Suprime-Cam (SPLASH) \n",
    "        np.array(data20['SPLASH_CH1_FLUX']),\n",
    "        np.array(data20['SPLASH_CH2_FLUX']),\n",
    "        np.array(data20['SPLASH_CH3_FLUX']),\n",
    "        np.array(data20['SPLASH_CH4_FLUX']),\n",
    "        # FIR\n",
    "        np.array(data20['FIR_24_FLUX']),\n",
    "        np.array(data20['FIR_100_FLUX']),\n",
    "        np.array(data20['FIR_160_FLUX']),\n",
    "        np.array(data20['FIR_250_FLUX']),\n",
    "        np.array(data20['FIR_350_FLUX']),\n",
    "        np.array(data20['FIR_500_FLUX'])\n",
    "    ])  \n",
    "\n",
    "# transpose so [i] is a source, not a column\n",
    "SED_flux_uJy = SED_flux_uJy.T\n",
    "\n",
    "# print info\n",
    "print('Table shape:', np.shape(SED_flux_uJy))"
   ]
  },
  {
   "cell_type": "code",
   "execution_count": 47,
   "metadata": {},
   "outputs": [
    {
     "name": "stdout",
     "output_type": "stream",
     "text": [
      "Table shape: (2287, 21)\n"
     ]
    }
   ],
   "source": [
    "# get table of agn sources \n",
    "SED_flux_uJy_agn = SED_flux_uJy[agn_irSel20_i]\n",
    "\n",
    "# print info\n",
    "print('Table shape:', np.shape(SED_flux_uJy_agn))"
   ]
  },
  {
   "cell_type": "code",
   "execution_count": 53,
   "metadata": {},
   "outputs": [
    {
     "name": "stdout",
     "output_type": "stream",
     "text": [
      "Number of Filters:  20\n"
     ]
    }
   ],
   "source": [
    "# list wavelengths of the photometry filters (in Angstroms)\n",
    "# -- Used lambda_ref from: http://svo2.cab.inta-csic.es/theory/fps3/\n",
    "SED_lam_A = np.array([\n",
    "           1535.08,     # 'GALEX_FUV_FLUX'\n",
    "           2300.79,     # 'GALEX_NUV_FLUX'\n",
    "           4798.21,     # 'HSC_g_FLUX_APER2'\n",
    "           6218.44,     # 'HSC_r_FLUX_APER2'\n",
    "           7727.02,     # 'HSC_i_FLUX_APER2'\n",
    "           8908.50,     # 'HSC_z_FLUX_APER2'\n",
    "           9775.07,     # 'HSC_y_FLUX_APER2'\n",
    "          12524.83,     # 'UVISTA_J_FLUX_APER2'\n",
    "          16432.40,     # 'UVISTA_H_FLUX_APER2'\n",
    "          21521.52,     # 'UVISTA_Ks_FLUX_APER2'\n",
    "          35378.41,     # 'SPLASH_CH1_FLUX'         # vv  -- are these right? \n",
    "          44780.49,     # 'SPLASH_CH2_FLUX'         # Used IRAC channels (there are diff numbers in Laigle et al. 2016)\n",
    "          56961.77,     # 'SPLASH_CH3_FLUX'         # http://svo2.cab.inta-csic.es/theory/fps3/index.php?mode=browse&gname=Spitzer&asttype=\n",
    "          77978.39,     # 'SPLASH_CH4_FLUX'         # ^^\n",
    "         240000.00,     # 'FIR_24_FLUX'         # vv -- are these accurate enough?\n",
    "        1000000.00,     # 'FIR_100_FLUX'\n",
    "        1600000.00,     # 'FIR_160_FLUX'\n",
    "        2500000.00,     # 'FIR_250_FLUX'\n",
    "        3500000.00,     # 'FIR_350_FLUX'\n",
    "        5000000.00      # 'FIR_500_FLUX'        # ^^ \n",
    "    ])\n",
    "\n",
    "# print info \n",
    "print('Number of Filters: ', len(SED_lam_A))"
   ]
  }
 ],
 "metadata": {
  "kernelspec": {
   "display_name": "Python 3.9.12 ('py3env')",
   "language": "python",
   "name": "python3"
  },
  "language_info": {
   "codemirror_mode": {
    "name": "ipython",
    "version": 3
   },
   "file_extension": ".py",
   "mimetype": "text/x-python",
   "name": "python",
   "nbconvert_exporter": "python",
   "pygments_lexer": "ipython3",
   "version": "3.9.12"
  },
  "orig_nbformat": 4,
  "vscode": {
   "interpreter": {
    "hash": "9087279304570de5a36832bd291691fdf2a46b942e9196516ec718f5eedeadfe"
   }
  }
 },
 "nbformat": 4,
 "nbformat_minor": 2
}
