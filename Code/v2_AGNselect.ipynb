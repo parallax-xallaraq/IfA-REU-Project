{
 "cells": [
  {
   "cell_type": "markdown",
   "metadata": {},
   "source": [
    "TODO\n",
    "1. open catalogs\n",
    "2. get relevant information from catalogs\n",
    "3. get sources that meet AGN crietera (MIR and Xray)\n",
    "4. get sources that meet data restrictions\n",
    "5. make full sample plots, highlight sources to be used in paper"
   ]
  },
  {
   "cell_type": "code",
   "execution_count": 1,
   "metadata": {},
   "outputs": [],
   "source": [
    "# imports\n",
    "from astropy.io import fits\n",
    "import matplotlib.pyplot as plt\n",
    "import plotting as myP\n",
    "import numpy as np\n",
    "# import csv \n",
    "import match"
   ]
  },
  {
   "cell_type": "code",
   "execution_count": 2,
   "metadata": {},
   "outputs": [],
   "source": [
    "# path variables \n",
    "path_cat = 'D:\\\\IfA REU\\\\Catalogs'\n",
    "path_fig = 'D:\\\\IfA REU\\\\IfA-REU-Project\\\\Figures'\n",
    "path_csv = 'D:\\\\IfA REU\\\\IfA-REU-Project\\\\Lists'"
   ]
  },
  {
   "cell_type": "code",
   "execution_count": 3,
   "metadata": {},
   "outputs": [],
   "source": [
    "# set style\n",
    "myP.SetStyle()"
   ]
  },
  {
   "cell_type": "markdown",
   "metadata": {},
   "source": [
    "# Get Data"
   ]
  },
  {
   "cell_type": "code",
   "execution_count": 4,
   "metadata": {},
   "outputs": [],
   "source": [
    "# open COSMOS2020 catalog and get data \n",
    "inf20 = fits.open(path_cat+'\\\\COSMOS2020_CLASSIC_R1_v2.0_master.fits')\n",
    "data20 = inf20[1].data\n",
    "cols20 = inf20[1].columns\n",
    "inf20.close()\n",
    "# NOTE: Only run this once! It gets stuck if you try to run this again. If it gets stuck, interrupt and restart the jupyter kernel then run again. "
   ]
  },
  {
   "cell_type": "code",
   "execution_count": 5,
   "metadata": {},
   "outputs": [],
   "source": [
    "# open C-COSMOS 2016 catalog file and get data \n",
    "inf16 = fits.open(path_cat+'\\\\chandra_COSMOS_legacy_opt_NIR_counterparts_20160113_4d.fits')\n",
    "data16 = inf16[1].data\n",
    "cols16 = inf16[1].columns\n",
    "inf16.close()\n",
    "# NOTE: Only run this once! It gets stuck if you try to run this again. If it gets stuck, interrupt and restart the jupyter kernel then run again. "
   ]
  },
  {
   "cell_type": "code",
   "execution_count": 6,
   "metadata": {},
   "outputs": [
    {
     "name": "stdout",
     "output_type": "stream",
     "text": [
      "Cropped:  ['ID', 'z']\n"
     ]
    }
   ],
   "source": [
    "# open table with redshifts \n",
    "zTable = np.array(myP.ReadFile(path_cat+'\\COSMOS_z_matches.csv'))"
   ]
  },
  {
   "cell_type": "markdown",
   "metadata": {},
   "source": [
    "# Read relevant columns from catalogs"
   ]
  },
  {
   "cell_type": "code",
   "execution_count": 7,
   "metadata": {},
   "outputs": [],
   "source": [
    "# get columns from COSMOS2020 for MIR selection \n",
    "data20_id       = np.array(data20['ID_COSMOS2015'])     # id\n",
    "data20_ch1      = np.array(data20['SPLASH_CH1_FLUX'])   # 3.5686 um\n",
    "data20_ch2      = np.array(data20['SPLASH_CH2_FLUX'])   # 4.5067 um\n",
    "data20_ch3      = np.array(data20['SPLASH_CH3_FLUX'])   # 5.7788 um\n",
    "data20_ch4      = np.array(data20['SPLASH_CH4_FLUX'])   # 7.9958 um \n",
    "data20_24um     = np.array(data20['FIR_24_FLUX'])       # Spitzer/MIPS.24mu\n",
    "data20_24umErr  = np.array(data20['FIR_24_FLUXERR'])    # Spitzer/MIPS.24mu error "
   ]
  },
  {
   "cell_type": "code",
   "execution_count": 8,
   "metadata": {},
   "outputs": [],
   "source": [
    "# get columns from C-COSMOS 2016 for X-ray selection \n",
    "L0510_data = np.array(data16['Lx_0510'])            # x-ray luminosity in the 0.5-10 KeV band\n",
    "k0510_data = np.array(data16['abs_corr_0510'])      # absorbtion correction coefficient in the 0.5-10 KeV band\n",
    "data16_id  = np.array(data16['id_k_uv'])            # id "
   ]
  },
  {
   "cell_type": "code",
   "execution_count": 9,
   "metadata": {},
   "outputs": [],
   "source": [
    "# get redshifts \n",
    "zTable_id, zTable_z = zTable.T # transpose to get columns \n",
    "zTable_id = np.array(zTable_id, dtype=int) # get correct data type\n",
    "zTable_z  = np.array(zTable_z,  dtype=float)"
   ]
  },
  {
   "cell_type": "markdown",
   "metadata": {},
   "source": [
    "# Data Cuts\n",
    "1. Must have id\n",
    "2. must have redshift\n",
    "3. must have all four IRAC detections\n",
    "4. must have 24um detection with fractional error < 50%"
   ]
  },
  {
   "cell_type": "code",
   "execution_count": 10,
   "metadata": {},
   "outputs": [],
   "source": [
    "def IndexToMask(iList, size) : \n",
    "    mask = np.zeros(size, dtype=bool)\n",
    "    mask[iList] = True \n",
    "    return(mask)"
   ]
  },
  {
   "cell_type": "code",
   "execution_count": 11,
   "metadata": {},
   "outputs": [],
   "source": [
    "# 1. all sources must have id \n",
    "\n",
    "# data cut mask \n",
    "data20_id_cut1 = (data20_id > 0)    # mask to be used on data20 cols\n",
    "data16_id_cut1 = (data16_id > 0)    # mask to be used on data16 cols"
   ]
  },
  {
   "cell_type": "code",
   "execution_count": 12,
   "metadata": {},
   "outputs": [],
   "source": [
    "# 2. all sources mut have a redshift from either catalog \n",
    "\n",
    "# mask for valid redshifts \n",
    "z_valid = (zTable_z >= 0) & (zTable_z < 99)\n",
    "zTable_id_v = zTable_id[z_valid]\n",
    "\n",
    "# match redshift to source \n",
    "key_id20, key_z = match.match(data20_id, zTable_id_v)\n",
    "key_id16, key_z = match.match(data16_id, zTable_id_v)\n",
    "\n",
    "# data cut mask \n",
    "data20_id_cut2 = IndexToMask(key_id20, len(data20_id))   # mask to be used on data20 cols\n",
    "data16_id_cut2 = IndexToMask(key_id16, len(data16_id))   # mask to be used on data16 cols"
   ]
  },
  {
   "cell_type": "code",
   "execution_count": 13,
   "metadata": {},
   "outputs": [],
   "source": [
    "# 3. all sources must have IRAC detections in all four channels \n",
    "\n",
    "# get nonzero IRAC detection mask \n",
    "data20_irac_valid = (data20_ch1 > 0) & (data20_ch2 > 0) & (data20_ch3 > 0) & (data20_ch4 > 0)\n",
    "data20_id_irac = data20_id[data20_irac_valid]\n",
    "\n",
    "# match id20s to id16 for irac-detected sources \n",
    "key_id20, key_id16 = match.match(data20_id_irac, data16_id)\n",
    "\n",
    "# data cut mask \n",
    "data20_id_cut3 = data20_irac_valid                      # mask to be used on data20 cols\n",
    "data16_id_cut3 = IndexToMask(key_id16, len(data16_id))  # mask to be used on data16 cols"
   ]
  },
  {
   "cell_type": "code",
   "execution_count": 14,
   "metadata": {},
   "outputs": [],
   "source": [
    "# 4. all sources must have a 24um detection with a fractional error less than 50%\n",
    "\n",
    "# get COSMOS2020 sources with small error on 24um \n",
    "data20_24um_valid = (data20_24um > 0) & (data20_24umErr > 0 ) & (data20_24um/data20_24umErr < 0.5)\n",
    "data20_id_24um = data20_id[data20_24um_valid]\n",
    "\n",
    "# match id20s to id16 for irac-detected sources \n",
    "key_id20, key_id16 = match.match(data20_id_irac, data16_id)\n",
    "\n",
    "# data cut mask \n",
    "data20_id_cut4 = data20_24um_valid                      # mask to be used on data20 cols\n",
    "data16_id_cut4 = IndexToMask(key_id16, len(data16_id))  # mask to be used on data16 cols\n"
   ]
  },
  {
   "cell_type": "code",
   "execution_count": 15,
   "metadata": {},
   "outputs": [
    {
     "name": "stdout",
     "output_type": "stream",
     "text": [
      "~~~~~~~~~~~~~~~~~~~~~~~~~~~~~~~~~~~~~~~~~~~~~~~~~~~~~~\n",
      "TOTAL NUMBER OF SOURCES\n",
      "COSMOS2020:\t 1720700\n",
      "C-COSMOS 2016:\t 4016\n",
      "~~~~~~~~~~~~~~~~~~~~~~~~~~~~~~~~~~~~~~~~~~~~~~~~~~~~~~\n",
      "CUT 1: have ID\n",
      "COSMOS2020:\t 865086\n",
      "C-COSMOS 2016 :\t 3619\n",
      "~~~~~~~~~~~~~~~~~~~~~~~~~~~~~~~~~~~~~~~~~~~~~~~~~~~~~~\n",
      "CUT 2: have redshift\n",
      "COSMOS2020:\t 485793\n",
      "C-COSMOS 2016:\t 3455\n",
      "~~~~~~~~~~~~~~~~~~~~~~~~~~~~~~~~~~~~~~~~~~~~~~~~~~~~~~\n",
      "CUT 3: have four IRAC detections\n",
      "COSMOS2020:\t 100469\n",
      "C-COSMOS 2016:\t 3218\n",
      "~~~~~~~~~~~~~~~~~~~~~~~~~~~~~~~~~~~~~~~~~~~~~~~~~~~~~~\n",
      "CUT 4: have good 24um detection\n",
      "COSMOS2020:\t 38418\n",
      "C-COSMOS 2016:\t 3218\n",
      "~~~~~~~~~~~~~~~~~~~~~~~~~~~~~~~~~~~~~~~~~~~~~~~~~~~~~~\n"
     ]
    }
   ],
   "source": [
    "# print info\n",
    "print('~~~~~~~~~~~~~~~~~~~~~~~~~~~~~~~~~~~~~~~~~~~~~~~~~~~~~~')\n",
    "print('TOTAL NUMBER OF SOURCES')\n",
    "print('COSMOS2020:\\t',      len(data20_id))\n",
    "print('C-COSMOS 2016:\\t',   len(data16_id))\n",
    "print('~~~~~~~~~~~~~~~~~~~~~~~~~~~~~~~~~~~~~~~~~~~~~~~~~~~~~~')\n",
    "print('CUT 1: have ID')\n",
    "print('COSMOS2020:\\t',       sum(data20_id_cut1))\n",
    "print('C-COSMOS 2016 :\\t',   sum(data16_id_cut1))\n",
    "print('~~~~~~~~~~~~~~~~~~~~~~~~~~~~~~~~~~~~~~~~~~~~~~~~~~~~~~')\n",
    "print('CUT 2: have redshift')\n",
    "print('COSMOS2020:\\t',       sum(data20_id_cut2))\n",
    "print('C-COSMOS 2016:\\t',    sum(data16_id_cut2))\n",
    "print('~~~~~~~~~~~~~~~~~~~~~~~~~~~~~~~~~~~~~~~~~~~~~~~~~~~~~~')\n",
    "print('CUT 3: have four IRAC detections')\n",
    "print('COSMOS2020:\\t',       sum(data20_id_cut3))\n",
    "print('C-COSMOS 2016:\\t',    sum(data16_id_cut3))\n",
    "print('~~~~~~~~~~~~~~~~~~~~~~~~~~~~~~~~~~~~~~~~~~~~~~~~~~~~~~')\n",
    "print('CUT 4: have good 24um detection')\n",
    "print('COSMOS2020:\\t',       sum(data20_id_cut4))\n",
    "print('C-COSMOS 2016:\\t',    sum(data16_id_cut4))\n",
    "print('~~~~~~~~~~~~~~~~~~~~~~~~~~~~~~~~~~~~~~~~~~~~~~~~~~~~~~')"
   ]
  },
  {
   "cell_type": "markdown",
   "metadata": {},
   "source": [
    "# MIR Selection"
   ]
  },
  {
   "cell_type": "code",
   "execution_count": 16,
   "metadata": {},
   "outputs": [],
   "source": [
    "def InDonleyWedge(x,y):\n",
    "    if( x>=0.08 and \n",
    "        y>=0.15 and \n",
    "        y>=(1.21*x-0.27) and \n",
    "        y<=(1.21*x+0.27)\n",
    "    ) :  \n",
    "        return(True) \n",
    "    else :\n",
    "        return(False)"
   ]
  },
  {
   "cell_type": "code",
   "execution_count": 17,
   "metadata": {},
   "outputs": [],
   "source": [
    "def IsMonatomicallRising(\n",
    "    f36,    # IRAC Ch 1\n",
    "    f45,    # IRAC Ch 2\n",
    "    f58,    # IRAC Ch 3\n",
    "    f80     # IRAC Ch 4\n",
    "):\n",
    "    if( f45 > f36 and\n",
    "        f58 > f45 and\n",
    "        f80 > f58\n",
    "    ):\n",
    "        return(True)\n",
    "    else :\n",
    "        return(False)\n",
    "    "
   ]
  },
  {
   "cell_type": "code",
   "execution_count": 18,
   "metadata": {},
   "outputs": [],
   "source": [
    "def AGN_DonleyCriterea(\n",
    "        f36,    # IRAC Ch 1\n",
    "        f45,    # IRAC Ch 2\n",
    "        f58,    # IRAC Ch 3\n",
    "        f80     # IRAC Ch 4\n",
    "    ) : \n",
    "\n",
    "    # get number of sources (assume all IRAC channels are same length)\n",
    "    numSources = len(f36)\n",
    "    # initialize mask of False\n",
    "    AGNmask = np.zeros( numSources, dtype=bool)\n",
    "\n",
    "    # look at each source \n",
    "    for i in range(numSources): \n",
    "        # must be nonzero\n",
    "        if ((f36[i] <= 0) or\n",
    "            (f45[i] <= 0) or\n",
    "            (f58[i] <= 0) or\n",
    "            (f80[i] <= 0)   ):\n",
    "                continue \n",
    "            \n",
    "        # must fall inside wedge and be monatomically rising\n",
    "        x = np.log10(f58[i]/f36[i])\n",
    "        y = np.log10(f80[i]/f45[i])\n",
    "        if( InDonleyWedge(x,y) and \n",
    "            IsMonatomicallRising(f36[i],f45[i],f58[i],f80[i]) \n",
    "        ):\n",
    "            AGNmask[i] = True \n",
    "\n",
    "    # return mask where True is an AGN \n",
    "    return(AGNmask)\n"
   ]
  },
  {
   "cell_type": "code",
   "execution_count": 19,
   "metadata": {},
   "outputs": [],
   "source": [
    "# get mask of sources that meet Donley 2012 criterea for COSMOS2020 col\n",
    "mirAGNmask = AGN_DonleyCriterea(\n",
    "                data20_ch1,    # IRAC Ch 1\n",
    "                data20_ch2,    # IRAC Ch 2\n",
    "                data20_ch3,    # IRAC Ch 3\n",
    "                data20_ch4     # IRAC Ch 4\n",
    "            )\n",
    "\n",
    "# apply mask to get sources \n",
    "data20_id_agn = data20_id[mirAGNmask]"
   ]
  }
 ],
 "metadata": {
  "kernelspec": {
   "display_name": "Python 3.9.12 ('py3env')",
   "language": "python",
   "name": "python3"
  },
  "language_info": {
   "codemirror_mode": {
    "name": "ipython",
    "version": 3
   },
   "file_extension": ".py",
   "mimetype": "text/x-python",
   "name": "python",
   "nbconvert_exporter": "python",
   "pygments_lexer": "ipython3",
   "version": "3.9.12"
  },
  "orig_nbformat": 4,
  "vscode": {
   "interpreter": {
    "hash": "9087279304570de5a36832bd291691fdf2a46b942e9196516ec718f5eedeadfe"
   }
  }
 },
 "nbformat": 4,
 "nbformat_minor": 2
}
