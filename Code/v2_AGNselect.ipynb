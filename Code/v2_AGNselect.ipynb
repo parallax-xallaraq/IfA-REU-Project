{
 "cells": [
  {
   "cell_type": "markdown",
   "metadata": {},
   "source": [
    "TODO\n",
    "1. open catalogs\n",
    "2. get relevant information from catalogs\n",
    "3. get sources that meet AGN crietera (MIR and Xray)\n",
    "4. get sources that meet data restrictions\n",
    "5. make full sample plots, highlight sources to be used in paper"
   ]
  },
  {
   "cell_type": "code",
   "execution_count": 2,
   "metadata": {},
   "outputs": [],
   "source": [
    "# imports\n",
    "from astropy.io import fits\n",
    "# import matplotlib.pyplot as plt\n",
    "import plotting as myP\n",
    "import numpy as np\n",
    "# import csv \n",
    "# import match"
   ]
  },
  {
   "cell_type": "code",
   "execution_count": 2,
   "metadata": {},
   "outputs": [],
   "source": [
    "# path variables \n",
    "path_cat = 'D:\\\\IfA REU\\\\Catalogs'\n",
    "path_fig = 'D:\\\\IfA REU\\\\IfA-REU-Project\\\\Figures'\n",
    "path_csv = 'D:\\\\IfA REU\\\\IfA-REU-Project\\\\Lists'"
   ]
  },
  {
   "cell_type": "markdown",
   "metadata": {},
   "source": [
    "# Get Data"
   ]
  },
  {
   "cell_type": "code",
   "execution_count": 5,
   "metadata": {},
   "outputs": [],
   "source": [
    "# open COSMOS2020 catalog and get data \n",
    "inf20 = fits.open(path_cat+'\\\\COSMOS2020_CLASSIC_R1_v2.0_master.fits')\n",
    "data20 = inf20[1].data\n",
    "cols20 = inf20[1].columns\n",
    "inf20.close()\n",
    "# NOTE: Only run this once! It gets stuck if you try to run this again. If it gets stuck, interrupt and restart the jupyter kernel then run again. "
   ]
  },
  {
   "cell_type": "code",
   "execution_count": 4,
   "metadata": {},
   "outputs": [],
   "source": [
    "# open C-COSMOS 2016 catalog file and get data \n",
    "inf16 = fits.open(path_cat+'\\\\chandra_COSMOS_legacy_opt_NIR_counterparts_20160113_4d.fits')\n",
    "data16 = inf16[1].data\n",
    "cols16 = inf16[1].columns\n",
    "inf16.close()\n",
    "# NOTE: Only run this once! It gets stuck if you try to run this again. If it gets stuck, interrupt and restart the jupyter kernel then run again. "
   ]
  },
  {
   "cell_type": "code",
   "execution_count": null,
   "metadata": {},
   "outputs": [],
   "source": [
    "# open table with redshifts \n",
    "zTable = np.array(myP.ReadFile(path_cat+'\\COSMOS_z_matches.csv'))\n",
    "zTable_ID, zTable_Z = zTable.T # transpose to get columns "
   ]
  }
 ],
 "metadata": {
  "kernelspec": {
   "display_name": "Python 3.9.12 ('py3env')",
   "language": "python",
   "name": "python3"
  },
  "language_info": {
   "codemirror_mode": {
    "name": "ipython",
    "version": 3
   },
   "file_extension": ".py",
   "mimetype": "text/x-python",
   "name": "python",
   "nbconvert_exporter": "python",
   "pygments_lexer": "ipython3",
   "version": "3.9.12"
  },
  "orig_nbformat": 4,
  "vscode": {
   "interpreter": {
    "hash": "9087279304570de5a36832bd291691fdf2a46b942e9196516ec718f5eedeadfe"
   }
  }
 },
 "nbformat": 4,
 "nbformat_minor": 2
}
