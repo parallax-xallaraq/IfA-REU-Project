{
 "cells": [
  {
   "cell_type": "code",
   "execution_count": 1,
   "metadata": {},
   "outputs": [],
   "source": [
    "# # IMPORTS\n",
    "# astronomy\n",
    "from astropy.io import fits\n",
    "# plotting \n",
    "from matplotlib.ticker import (MultipleLocator, AutoMinorLocator)\n",
    "import matplotlib.pyplot as plt\n",
    "import matplotlib as mpl\n",
    "# data \n",
    "import numpy as np\n",
    "# file IO\n",
    "import csv\n",
    "# my python files \n",
    "import match\n",
    "import v2_AGN_DataAndPlotting as adp\n",
    "import v2_SED as SED\n",
    "adp.SetStyle()"
   ]
  },
  {
   "cell_type": "markdown",
   "metadata": {},
   "source": [
    "# Data"
   ]
  },
  {
   "cell_type": "code",
   "execution_count": 3,
   "metadata": {},
   "outputs": [
    {
     "name": "stdout",
     "output_type": "stream",
     "text": [
      "['ID', 'GROUP', 'Z', 'LOG_LIR', 'LOG_LX', 'LOG_LXLIM', 'LOG_LXIR', 'LOG_NH', 'SIG_POS', 'SIG_NEG', 'LOG_NH_COSMOS']\n"
     ]
    }
   ],
   "source": [
    "# get data\n",
    "f = adp.UnpackTable(adp.path_csv+'\\\\AGN_NH_estimates_Kelly+2024_COSMOS.csv')\n",
    "for k,v in f.items() :\n",
    "    if(k == 'ID') : \n",
    "        f[k] = np.array(v, dtype=int)\n",
    "    elif(k == 'GROUP') : \n",
    "        f[k] = np.array(v, dtype=str)\n",
    "    else :\n",
    "        f[k] = np.array(v, dtype=float)\n",
    "\n",
    "print(list(f.keys()))\n",
    "\n",
    "def SplitByColor(dataNew: dict) -> dict : \n",
    "    agnInfo = {}\n",
    "    for color in ['RED', 'GRN', 'BLU'] : \n",
    "        idx = np.where(dataNew['GROUP'] == color)\n",
    "\n",
    "        agnInfo[color] = {}\n",
    "        for key, val in dataNew.items() : \n",
    "            agnInfo[color][key] = val[idx]\n",
    "\n",
    "    return agnInfo\n",
    "\n",
    "agnInfo = SplitByColor(f)"
   ]
  }
 ],
 "metadata": {
  "kernelspec": {
   "display_name": "Python 3",
   "language": "python",
   "name": "python3"
  },
  "language_info": {
   "codemirror_mode": {
    "name": "ipython",
    "version": 3
   },
   "file_extension": ".py",
   "mimetype": "text/x-python",
   "name": "python",
   "nbconvert_exporter": "python",
   "pygments_lexer": "ipython3",
   "version": "3.11.9"
  }
 },
 "nbformat": 4,
 "nbformat_minor": 2
}
