{
 "cells": [
  {
   "cell_type": "code",
   "execution_count": 1,
   "metadata": {},
   "outputs": [],
   "source": [
    "# # IMPORTS\n",
    "# astronomy\n",
    "from astropy.io import fits\n",
    "# data \n",
    "import numpy as np\n",
    "import csv\n",
    "# my python files \n",
    "import match\n",
    "import v2_AGN_DataAndPlotting as adp\n"
   ]
  },
  {
   "cell_type": "code",
   "execution_count": 2,
   "metadata": {},
   "outputs": [],
   "source": [
    "def PrintNumber(myDict) :\n",
    "    for key,val in myDict.items():\n",
    "        if(isinstance(val,np.ndarray)):\n",
    "            print(key,'\\t',len(val)) \n",
    "        elif(isinstance(val,dict)):\n",
    "            print(key,end='')\n",
    "            for key1,val1 in val.items():\n",
    "                print('\\t',key1,'\\t',len(val1))"
   ]
  },
  {
   "cell_type": "code",
   "execution_count": 3,
   "metadata": {},
   "outputs": [
    {
     "name": "stdout",
     "output_type": "stream",
     "text": [
      "Cropped:  ['Row 1 = MIR exclusive AGN with id, redshift, and IRAC (n=422). Row 2 = MIR-X-ray inclusive AGN with id, redshift, and IRAC (n=671). Row 3 = X-ray exclusive AGN with id, redshift, and IRAC (n=1638). ']\n",
      "RED \t 422\n",
      "GRN \t 671\n",
      "BLU \t 1638\n"
     ]
    }
   ],
   "source": [
    "# read AGN IDs\n",
    "agnIDs = adp.ReadFile(adp.path_csv+'\\\\v2_AGNid_tricolor.csv')\n",
    "\n",
    "# convert agnIDs into dict of integer numpy arrays \n",
    "agnIDs_dict = {\n",
    "    'RED' : np.array(agnIDs[0], dtype=int),\n",
    "    'GRN' : np.array(agnIDs[1], dtype=int),\n",
    "    'BLU' : np.array(agnIDs[2], dtype=int)\n",
    "}\n",
    "\n",
    "# verify nmber of sources\n",
    "PrintNumber(agnIDs_dict)"
   ]
  },
  {
   "cell_type": "code",
   "execution_count": 4,
   "metadata": {},
   "outputs": [
    {
     "name": "stdout",
     "output_type": "stream",
     "text": [
      "Cropped:  ['ID', 'z']\n",
      "Number of redshifts: 487252\n"
     ]
    }
   ],
   "source": [
    "# get redshifts\n",
    "zDict = adp.ReadRedshifts(file=adp.path_cat+'\\COSMOS_z_matches.csv')"
   ]
  },
  {
   "cell_type": "code",
   "execution_count": 5,
   "metadata": {},
   "outputs": [
    {
     "name": "stdout",
     "output_type": "stream",
     "text": [
      "RED\t ID \t 422\n",
      "\t z \t 422\n",
      "GRN\t ID \t 671\n",
      "\t z \t 671\n",
      "BLU\t ID \t 1638\n",
      "\t z \t 1638\n"
     ]
    }
   ],
   "source": [
    "agnInfo = {}\n",
    "for key,val in agnIDs_dict.items():\n",
    "    # match redshift to AGN\n",
    "    key_zid, key_idz = match.match(zDict['ID'], val)\n",
    "    agnInfo[key] = {\n",
    "        'ID' : val[key_idz],\n",
    "        'z'  : zDict['z'][key_zid]\n",
    "    }\n",
    "# verify number of sources\n",
    "PrintNumber(agnInfo)"
   ]
  },
  {
   "cell_type": "code",
   "execution_count": 6,
   "metadata": {},
   "outputs": [],
   "source": [
    "# open COSMOS 2020 catalog file and get data \n",
    "with fits.open(adp.path_cat+'\\\\COSMOS2020_CLASSIC_R1_v2.0_master.fits') as hdul20:\n",
    "    data20 = hdul20[1].data\n",
    "    cols20 = hdul20[1].columns"
   ]
  },
  {
   "cell_type": "code",
   "execution_count": 7,
   "metadata": {},
   "outputs": [],
   "source": [
    "# # open COSMOS 2016 catalog file and get data \n",
    "# with fits.open(adp.path_cat+'\\\\chandra_COSMOS_legacy_opt_NIR_counterparts_20160113_4d.fits') as hdul16:\n",
    "#     data16 = hdul16[1].data\n",
    "#     cols16 = hdul16[1].columns"
   ]
  },
  {
   "cell_type": "code",
   "execution_count": 8,
   "metadata": {},
   "outputs": [],
   "source": [
    "# # get data arrays from columns\n",
    "# id_data16 = np.array(data16['id_k_uv'])\n",
    "# print('.', end='')\n",
    "# L0510_data16 = np.array(data16['Lx_0510']) # x-ray luminosity in the 0.5-10 KeV band\n",
    "# print('.', end='')\n",
    "# k0510_data16 = np.array(data16['abs_corr_0510'])  # absorbtion correction coefficient in the 0.5-10 KeV band\n",
    "# print('.', end='')"
   ]
  },
  {
   "cell_type": "code",
   "execution_count": 9,
   "metadata": {},
   "outputs": [
    {
     "name": "stderr",
     "output_type": "stream",
     "text": [
      "C:\\Users\\polar\\AppData\\Local\\Temp\\ipykernel_20276\\2962619769.py:7: RuntimeWarning: divide by zero encountered in log10\n",
      "  dataNew['Lx_05_10']     = np.log10(np.array(dataNew['Lx_05_10'],     dtype=float)) # log scale\n",
      "C:\\Users\\polar\\AppData\\Local\\Temp\\ipykernel_20276\\2962619769.py:7: RuntimeWarning: invalid value encountered in log10\n",
      "  dataNew['Lx_05_10']     = np.log10(np.array(dataNew['Lx_05_10'],     dtype=float)) # log scale\n",
      "C:\\Users\\polar\\AppData\\Local\\Temp\\ipykernel_20276\\2962619769.py:8: RuntimeWarning: divide by zero encountered in log10\n",
      "  dataNew['Lx_hard_2_10'] = np.log10(np.array(dataNew['Lx_hard_2_10'], dtype=float)) # log scale\n",
      "C:\\Users\\polar\\AppData\\Local\\Temp\\ipykernel_20276\\2962619769.py:8: RuntimeWarning: invalid value encountered in log10\n",
      "  dataNew['Lx_hard_2_10'] = np.log10(np.array(dataNew['Lx_hard_2_10'], dtype=float)) # log scale\n"
     ]
    }
   ],
   "source": [
    "# read file \n",
    "dataNew = adp.UnpackTable(adp.path_csv+'\\\\New_Lx_cat.csv')\n",
    "\n",
    "# fix types\n",
    "dataNew['ID']   = np.array(dataNew['ID'], dtype=int)\n",
    "dataNew['z']    = np.array(dataNew['z'],  dtype=float)\n",
    "dataNew['Lx_05_10']     = np.log10(np.array(dataNew['Lx_05_10'],     dtype=float)) # log scale\n",
    "dataNew['Lx_hard_2_10'] = np.log10(np.array(dataNew['Lx_hard_2_10'], dtype=float)) # log scale\n",
    "\n",
    "# replace C-COSMOS 2016 for X-ray selection \n",
    "id_data16 = dataNew['ID']\n",
    "L0510_data16 = dataNew['Lx_05_10']"
   ]
  },
  {
   "cell_type": "code",
   "execution_count": 10,
   "metadata": {},
   "outputs": [
    {
     "name": "stdout",
     "output_type": "stream",
     "text": [
      "RED\t ID \t 422\n",
      "\t z \t 422\n",
      "\t Lx \t 422\n",
      "GRN\t ID \t 671\n",
      "\t z \t 671\n",
      "\t Lx \t 671\n",
      "BLU\t ID \t 1638\n",
      "\t z \t 1638\n",
      "\t Lx \t 1638\n"
     ]
    }
   ],
   "source": [
    "# add Lx to dict \n",
    "for key,val in agnInfo.items() : \n",
    "    # match ids\n",
    "    idagn, id16 = match.match(val['ID'], id_data16)\n",
    "    # if all agns have a match\n",
    "    if(len(id16) == len(val['ID'])) : \n",
    "        # fast match\n",
    "        # Lx = adp.IntrinsicLuminosity(\n",
    "        #         L0510_data16[id16],\n",
    "        #         k0510_data16[id16]\n",
    "        #     )\n",
    "        Lx = L0510_data16[id16]\n",
    "    # some agns do not have Lx data\n",
    "    else : \n",
    "        idsWithLx = id_data16[id16]\n",
    "        Lx = []\n",
    "        TEST = []\n",
    "        # for each agn id\n",
    "        for i in range(len(val['ID'])) : \n",
    "            thisID = val['ID'][i]\n",
    "            # check if the agn has Lx data\n",
    "            if( thisID in idsWithLx) : \n",
    "                # get Lx\n",
    "                i = np.where(id_data16 == thisID)[0][0]\n",
    "                TEST.append(id_data16[i])\n",
    "                # Lx.append(\n",
    "                #     adp.IntrinsicLuminosity(\n",
    "                #         L0510_data16[[i]],\n",
    "                #         k0510_data16[[i]]\n",
    "                #     )[0]\n",
    "                # )\n",
    "                Lx.append( (L0510_data16[[i]])[0] )\n",
    "            # agn has no Lx data\n",
    "            else : \n",
    "                Lx.append(-99)\n",
    "    # add to info\n",
    "    val['Lx'] = Lx\n",
    "\n",
    "# verify number of sources\n",
    "PrintNumber(agnInfo)"
   ]
  },
  {
   "cell_type": "code",
   "execution_count": 11,
   "metadata": {},
   "outputs": [
    {
     "name": "stdout",
     "output_type": "stream",
     "text": [
      "List saved: v2_AGN_tricolor_data.csv\n"
     ]
    }
   ],
   "source": [
    "with open(adp.path_csv+'\\\\v2_AGN_tricolor_data.csv', mode='w',newline='') as csv_file:\n",
    "    # initialize csv\n",
    "    writer = csv.writer(csv_file)\n",
    "    # write column names \n",
    "    writer.writerow(['ID', 'Group', 'z', 'Lx'])\n",
    "    # for each agn group\n",
    "    for key,val in agnInfo.items() : \n",
    "        # for each agn source\n",
    "        for i in range(len(val['ID'])) :\n",
    "            # write data \n",
    "            writer.writerow([ val['ID'][i], key,val['z'][i],val['Lx'][i]])\n",
    "    # confirm \n",
    "    print('List saved: v2_AGN_tricolor_data.csv')"
   ]
  }
 ],
 "metadata": {
  "kernelspec": {
   "display_name": "py3env",
   "language": "python",
   "name": "python3"
  },
  "language_info": {
   "codemirror_mode": {
    "name": "ipython",
    "version": 3
   },
   "file_extension": ".py",
   "mimetype": "text/x-python",
   "name": "python",
   "nbconvert_exporter": "python",
   "pygments_lexer": "ipython3",
   "version": "3.9.12"
  },
  "orig_nbformat": 4
 },
 "nbformat": 4,
 "nbformat_minor": 2
}
