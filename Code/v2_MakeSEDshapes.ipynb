{
 "cells": [
  {
   "cell_type": "code",
   "execution_count": 1,
   "metadata": {},
   "outputs": [],
   "source": [
    "# # IMPORTS\n",
    "# astronomy\n",
    "from astropy.io import fits\n",
    "# plotting \n",
    "from matplotlib.ticker import AutoMinorLocator\n",
    "import matplotlib.pyplot as plt\n",
    "# data \n",
    "import numpy as np\n",
    "# my python files \n",
    "import match\n",
    "import v2_AGN_DataAndPlotting as adp\n",
    "import v2_SED as SED"
   ]
  },
  {
   "attachments": {},
   "cell_type": "markdown",
   "metadata": {},
   "source": [
    "# Get Data"
   ]
  },
  {
   "cell_type": "code",
   "execution_count": 2,
   "metadata": {},
   "outputs": [],
   "source": [
    "def PrintNumber(myDict) :\n",
    "    for key,val in myDict.items():\n",
    "        if(isinstance(val,np.ndarray)):\n",
    "            print(key,'\\t',len(val)) \n",
    "        elif(isinstance(val,dict)):\n",
    "            print(key,end='')\n",
    "            for key1,val1 in val.items():\n",
    "                print('\\t',key1,'\\t',len(val1))"
   ]
  },
  {
   "cell_type": "code",
   "execution_count": 3,
   "metadata": {},
   "outputs": [
    {
     "name": "stdout",
     "output_type": "stream",
     "text": [
      "Cropped:  ['Row 1 = MIR exclusive AGN with id, redshift, and IRAC (n=472). Row 2 = MIR-X-ray inclusive AGN with id, redshift, and IRAC (n=663). Row 3 = X-ray exclusive AGN with id, redshift, and IRAC (n=1717). ']\n",
      "RED \t 472\n",
      "GRN \t 663\n",
      "BLU \t 1717\n"
     ]
    }
   ],
   "source": [
    "# read AGN IDs\n",
    "agnIDs = adp.ReadFile(adp.path_csv+'\\\\v2_AGNid_tricolor.csv')\n",
    "\n",
    "# convert agnIDs into dict of integer numpy arrays \n",
    "agnIDs_dict = {\n",
    "    'RED' : np.array(agnIDs[0], dtype=int),\n",
    "    'GRN' : np.array(agnIDs[1], dtype=int),\n",
    "    'BLU' : np.array(agnIDs[2], dtype=int)\n",
    "}\n",
    "\n",
    "# verify nmber of sources\n",
    "PrintNumber(agnIDs_dict)"
   ]
  },
  {
   "cell_type": "code",
   "execution_count": 4,
   "metadata": {},
   "outputs": [
    {
     "name": "stdout",
     "output_type": "stream",
     "text": [
      "Cropped:  ['ID', 'z']\n",
      "Number of redshifts: 485793\n"
     ]
    }
   ],
   "source": [
    "# get redshifts\n",
    "zDict = adp.ReadRedshifts(file=adp.path_cat+'\\COSMOS_z_matches.csv')"
   ]
  },
  {
   "cell_type": "code",
   "execution_count": 5,
   "metadata": {},
   "outputs": [
    {
     "name": "stdout",
     "output_type": "stream",
     "text": [
      "RED\t ID \t 472\n",
      "\t z \t 472\n",
      "GRN\t ID \t 663\n",
      "\t z \t 663\n",
      "BLU\t ID \t 1717\n",
      "\t z \t 1717\n"
     ]
    }
   ],
   "source": [
    "agnInfo = {}\n",
    "for key,val in agnIDs_dict.items():\n",
    "    # match redshift to AGN\n",
    "    key_zid, key_idz = match.match(zDict['ID'], val)\n",
    "    agnInfo[key] = {\n",
    "        'ID' : val[key_idz],\n",
    "        'z'  : zDict['z'][key_zid]\n",
    "    }\n",
    "# verify number of sources\n",
    "PrintNumber(agnInfo)"
   ]
  },
  {
   "cell_type": "code",
   "execution_count": 6,
   "metadata": {},
   "outputs": [],
   "source": [
    "# open COSMOS 2020 catalog file and get data \n",
    "with fits.open(adp.path_cat+'\\\\COSMOS2020_CLASSIC_R1_v2.0_master.fits') as hdul20:\n",
    "    data20 = hdul20[1].data"
   ]
  },
  {
   "attachments": {},
   "cell_type": "markdown",
   "metadata": {},
   "source": [
    "# Prep SEDs"
   ]
  },
  {
   "cell_type": "code",
   "execution_count": 7,
   "metadata": {},
   "outputs": [],
   "source": [
    "# get starting info \n",
    "Fnu_uJy = SED.GetPhotometry(data20, print=False)\n",
    "IDs_all = SED.GetID(data20, print=False)\n",
    "lam_A   = SED.GetObservedWavelengths_A(print=False)"
   ]
  },
  {
   "cell_type": "code",
   "execution_count": 8,
   "metadata": {},
   "outputs": [
    {
     "name": "stdout",
     "output_type": "stream",
     "text": [
      "RED\t ID \t 472\n",
      "\t z \t 472\n",
      "\t Rest Wavelength \t 472\n",
      "\t Energy Density \t 472\n",
      "\t Energy Density Normalized at 1um \t 472\n",
      "\t Luminosity at 1um \t 472\n",
      "GRN\t ID \t 663\n",
      "\t z \t 663\n",
      "\t Rest Wavelength \t 663\n",
      "\t Energy Density \t 663\n",
      "\t Energy Density Normalized at 1um \t 663\n",
      "\t Luminosity at 1um \t 663\n",
      "BLU\t ID \t 1717\n",
      "\t z \t 1717\n",
      "\t Rest Wavelength \t 1717\n",
      "\t Energy Density \t 1717\n",
      "\t Energy Density Normalized at 1um \t 1717\n",
      "\t Luminosity at 1um \t 1717\n"
     ]
    }
   ],
   "source": [
    "for key,val in agnInfo.items():\n",
    "    # match photometry to AGN\n",
    "    key_agn, key_phot = match.match(val['ID'], IDs_all)\n",
    "    # get phot\n",
    "    Fnu = Fnu_uJy[key_phot]\n",
    "    # get rest wavelength \n",
    "    lamR = SED.ConvertToRestWavelength(val['z'], print=False)\n",
    "    # get energy density and normalize\n",
    "    lamFlam = SED.ConvertToEnergyDensity(lamR, Fnu, print=False)\n",
    "    lamFlam_norm = SED.NormalizeSED_1um(lamR, lamFlam, print=False)\n",
    "    # get luminosity at 1um\n",
    "    lum1um = SED.Lum_at1um(lamFlam, lamR, val['z'], )\n",
    "    # append info\n",
    "    val['Rest Wavelength'] = lamR\n",
    "    val['Energy Density'] = lamFlam\n",
    "    val['Energy Density Normalized at 1um'] = lamFlam_norm\n",
    "    val['Luminosity at 1um'] = lum1um\n",
    "\n",
    "# verify number of sources\n",
    "PrintNumber(agnInfo)"
   ]
  },
  {
   "cell_type": "code",
   "execution_count": 9,
   "metadata": {},
   "outputs": [],
   "source": [
    "def GetMaskOfRedshiftsInRange(z,minZ,maxZ):\n",
    "    return( (z > minZ) & (z <= maxZ) )\n",
    "\n",
    "def SplitAGNByZ(agnInfo) : \n",
    "    # initialize dict with redshift ranges \n",
    "    zRanges = [ (0,1),(1,1.5),(1.5,2),(2,3),(3,99) ]\n",
    "    agnInfo_byZ = {\n",
    "        '$0 < z \\leq 1$'   : {},\n",
    "        '$1 < z \\leq 1.5$' : {},\n",
    "        '$1.5 < z \\leq 2$' : {},\n",
    "        '$2 < z \\leq 3$'   : {},\n",
    "        '$3 < z \\leq 6$'   : {}\n",
    "    }\n",
    "    # for each redshift range...\n",
    "    i=0\n",
    "    for zrange, agnAtZ in agnInfo_byZ.items() :\n",
    "        # ... and each red/grn/blu...\n",
    "        for color, dataDict in agnInfo.items() : \n",
    "            agnAtZ[color] = {}\n",
    "            zmask = GetMaskOfRedshiftsInRange(dataDict['z'],zRanges[i][0],zRanges[i][1])\n",
    "            # ... and each measurement ...\n",
    "            for key,data in dataDict.items() : \n",
    "                # ... add only agn in this redshift range\n",
    "                agnAtZ[color][key] = data[zmask]\n",
    "        # increment to next redshift range \n",
    "        i+=1\n",
    "\n",
    "    return(agnInfo_byZ)\n",
    "\n",
    "\n",
    "agnInfo_byZ = SplitAGNByZ(agnInfo)"
   ]
  },
  {
   "attachments": {},
   "cell_type": "markdown",
   "metadata": {},
   "source": [
    "# SED shapes"
   ]
  }
 ],
 "metadata": {
  "kernelspec": {
   "display_name": "py3env",
   "language": "python",
   "name": "python3"
  },
  "language_info": {
   "codemirror_mode": {
    "name": "ipython",
    "version": 3
   },
   "file_extension": ".py",
   "mimetype": "text/x-python",
   "name": "python",
   "nbconvert_exporter": "python",
   "pygments_lexer": "ipython3",
   "version": "3.9.12"
  },
  "orig_nbformat": 4
 },
 "nbformat": 4,
 "nbformat_minor": 2
}
