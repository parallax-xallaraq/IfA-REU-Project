{
 "cells": [
  {
   "cell_type": "code",
   "execution_count": 36,
   "metadata": {},
   "outputs": [],
   "source": [
    "# imports\n",
    "from astropy.io import fits\n",
    "import matplotlib.pyplot as plt\n",
    "import matplotlib as mpl\n",
    "import numpy as np\n",
    "# import csv "
   ]
  },
  {
   "cell_type": "code",
   "execution_count": 3,
   "metadata": {},
   "outputs": [],
   "source": [
    "# path variables \n",
    "path_cat = 'D:\\IfA REU\\Catalogs'\n",
    "path_fig = 'D:\\IfA REU\\IfA-REU-Project\\Figures'\n",
    "path_csv = 'D:\\IfA REU\\IfA-REU-Project\\Lists'"
   ]
  },
  {
   "cell_type": "markdown",
   "metadata": {},
   "source": [
    "# Get Chandra 2016 Catalog Data"
   ]
  },
  {
   "cell_type": "code",
   "execution_count": 4,
   "metadata": {},
   "outputs": [],
   "source": [
    "# open COSMOS 2016 catalog file and get data \n",
    "inf16 = fits.open('D:\\IfA REU\\Catalogs\\chandra_COSMOS_legacy_opt_NIR_counterparts_20160113_4d.fits')\n",
    "data16 = inf16[1].data\n",
    "cols16 = inf16[1].columns\n",
    "inf16.close()"
   ]
  },
  {
   "cell_type": "code",
   "execution_count": 12,
   "metadata": {},
   "outputs": [],
   "source": [
    "# print(cols16)"
   ]
  },
  {
   "cell_type": "code",
   "execution_count": 55,
   "metadata": {},
   "outputs": [],
   "source": [
    "# get data arrays from columns\n",
    "L0510_data = np.array(data16['Lx_0510'])        # x-ray luminosity in the 0.5-10 KeV band\n",
    "k0510_data = np.array(data16['abs_corr_0510'])  # absorbtion correction coefficient in the 0.5-10 KeV band\n",
    "z_data = np.array(data16['z_best'])             # best redshift \n"
   ]
  },
  {
   "cell_type": "code",
   "execution_count": 19,
   "metadata": {},
   "outputs": [
    {
     "name": "stdout",
     "output_type": "stream",
     "text": [
      "Col \t\t Min \t\t Max \t\t Count\n",
      "-------------------------------------------------------------\n",
      "Lx 0510 \t -99.0 \t\t 45.703 \t 4016\n",
      "k 0510 \t\t -99.0 \t\t 1.0 \t\t 4016\n",
      "z  \t\t -99.0 \t\t 6.84 \t\t 4016\n"
     ]
    }
   ],
   "source": [
    "##### print info\n",
    "print('Col \\t\\t Min \\t\\t Max \\t\\t Count')\n",
    "print('-------------------------------------------------------------')\n",
    "print('Lx 0510 \\t',     min(L0510_data),    '\\t\\t',   max(L0510_data),  '\\t',   len(L0510_data))\n",
    "print('k 0510 \\t\\t',    min(k0510_data),    '\\t\\t',   max(k0510_data),  '\\t\\t', len(k0510_data))\n",
    "print('z  \\t\\t',        min(z_data),        '\\t\\t',   max(z_data),      '\\t\\t', len(z_data))"
   ]
  },
  {
   "cell_type": "code",
   "execution_count": 28,
   "metadata": {},
   "outputs": [],
   "source": [
    "# determine valid list index\n",
    "good = (L0510_data > 0) & (k0510_data > 0) & (z_data > 0)\n",
    "\n",
    "# filter data\n",
    "L0510_data_good = L0510_data[good]\n",
    "k0510_data_good = k0510_data[good]\n",
    "z_data_good = z_data[good]"
   ]
  },
  {
   "cell_type": "code",
   "execution_count": 29,
   "metadata": {},
   "outputs": [
    {
     "name": "stdout",
     "output_type": "stream",
     "text": [
      "Col \t\t Min \t\t Max \t\t Count\n",
      "-------------------------------------------------------------\n",
      "Lx 0510 \t 39.594 \t 45.703 \t 2862\n",
      "k 0510 \t\t 0.421 \t\t 1.0 \t\t 2862\n",
      "z  \t\t 0.029 \t\t 6.564 \t\t 2862\n"
     ]
    }
   ],
   "source": [
    "# print info\n",
    "print('Col \\t\\t Min \\t\\t Max \\t\\t Count')\n",
    "print('-------------------------------------------------------------')\n",
    "print('Lx 0510 \\t',     min(L0510_data_good),    '\\t',     max(L0510_data_good),  '\\t',   len(L0510_data_good))\n",
    "print('k 0510 \\t\\t',    min(k0510_data_good),    '\\t\\t',   max(k0510_data_good),  '\\t\\t', len(k0510_data_good))\n",
    "print('z  \\t\\t',        min(z_data_good),        '\\t\\t',   max(z_data_good),      '\\t\\t', len(z_data_good))"
   ]
  },
  {
   "cell_type": "markdown",
   "metadata": {},
   "source": [
    "# Plot Redshift VS Luminosity"
   ]
  },
  {
   "cell_type": "code",
   "execution_count": 53,
   "metadata": {},
   "outputs": [],
   "source": [
    "# redefine the defaults for plots \n",
    "mpl.rcParams['figure.figsize']  = 6, 4  # figure size in inches\n",
    "mpl.rcParams['axes.titlesize']  = 16    # size of title\n",
    "mpl.rcParams['axes.titlepad']   = 16    # space between title and plot \n",
    "mpl.rcParams['axes.labelsize']  = 14    # font size of the x and y labels\n",
    "mpl.rcParams['axes.labelpad']   = 10    # space between label and axis\n",
    "mpl.rcParams['lines.linewidth'] = 0.5   # line width in points"
   ]
  },
  {
   "cell_type": "code",
   "execution_count": 56,
   "metadata": {},
   "outputs": [],
   "source": [
    "# correct for absorbtion: k_abs = L_abs / L_int --> L_int = L_abs / k_abs\n",
    "# Lint = np.log10( L0510_data_good / k0510_data_good )\n",
    "Lint = L0510_data_good / k0510_data_good"
   ]
  },
  {
   "cell_type": "code",
   "execution_count": 57,
   "metadata": {},
   "outputs": [
    {
     "data": {
      "text/plain": [
       "Text(0, 0.5, 'Intrinsic X-ray luminosity')"
      ]
     },
     "execution_count": 57,
     "metadata": {},
     "output_type": "execute_result"
    },
    {
     "data": {
      "image/png": "[encoded data removed]",
      "text/plain": [
       "<Figure size 432x288 with 1 Axes>"
      ]
     },
     "metadata": {
      "needs_background": "light"
     },
     "output_type": "display_data"
    }
   ],
   "source": [
    "plt.plot(z_data_good, Lint, 'o', c='firebrick', markersize=0.3)\n",
    "plt.title('Redshift VS. X_Ray Luminosity from all Chandra 2016 sources')\n",
    "plt.xlabel('z')\n",
    "plt.ylabel('Intrinsic X-ray luminosity')"
   ]
  }
 ],
 "metadata": {
  "interpreter": {
   "hash": "9087279304570de5a36832bd291691fdf2a46b942e9196516ec718f5eedeadfe"
  },
  "kernelspec": {
   "display_name": "Python 3.9.12 ('py3env')",
   "language": "python",
   "name": "python3"
  },
  "language_info": {
   "codemirror_mode": {
    "name": "ipython",
    "version": 3
   },
   "file_extension": ".py",
   "mimetype": "text/x-python",
   "name": "python",
   "nbconvert_exporter": "python",
   "pygments_lexer": "ipython3",
   "version": "3.9.12"
  },
  "orig_nbformat": 4
 },
 "nbformat": 4,
 "nbformat_minor": 2
}
