{
 "cells": [
  {
   "cell_type": "code",
   "execution_count": 1,
   "metadata": {},
   "outputs": [],
   "source": [
    "# imports\n",
    "from astropy.io import fits\n",
    "from scipy import interpolate as sin\n",
    "import matplotlib.pyplot as plt\n",
    "import matplotlib as mpl\n",
    "import plotting as myP\n",
    "import numpy as np\n",
    "import csv \n",
    "import match\n",
    "import SED"
   ]
  },
  {
   "cell_type": "code",
   "execution_count": 2,
   "metadata": {},
   "outputs": [],
   "source": [
    "# path variables \n",
    "path_cat = 'D:\\IfA REU\\Catalogs'\n",
    "path_fig = 'D:\\IfA REU\\IfA-REU-Project\\Figures'\n",
    "path_csv = 'D:\\IfA REU\\IfA-REU-Project\\Lists'"
   ]
  },
  {
   "cell_type": "markdown",
   "metadata": {},
   "source": [
    "# Get Data"
   ]
  },
  {
   "cell_type": "code",
   "execution_count": 3,
   "metadata": {},
   "outputs": [
    {
     "name": "stdout",
     "output_type": "stream",
     "text": [
      "Cropped:  ['Row 1 = red IR selected AGN. Row 2 = yellow both IR-Xray AGN. Row 3 = blue X-ray selected AGN. Values are ID_COSMOS2015.']\n",
      "Red:\t 886\n",
      "Yel:\t 1529\n",
      "Blu:\t 647\n"
     ]
    }
   ],
   "source": [
    "# read AGN IDs\n",
    "agnIDs = myP.ReadFile(path_csv+'\\ID_RedYelBlu_AGNselection.csv')\n",
    "# split agnIDs into AGN colors \n",
    "red_ID = np.array(agnIDs[0], dtype=int)\n",
    "yel_ID = np.array(agnIDs[1], dtype=int)\n",
    "blu_ID = np.array(agnIDs[2], dtype=int)\n",
    "# print info  \n",
    "print('Red:\\t', len(red_ID))\n",
    "print('Yel:\\t', len(yel_ID))\n",
    "print('Blu:\\t', len(blu_ID)) # number is different from Figures\\COSMOS_IR-Xray_selection_ZOOM_legend.png because we are not filtering for IRAC colors"
   ]
  },
  {
   "cell_type": "code",
   "execution_count": 4,
   "metadata": {},
   "outputs": [
    {
     "name": "stdout",
     "output_type": "stream",
     "text": [
      "Cropped:  ['ID', 'z']\n",
      "Number of sources w/ z: 485793\n"
     ]
    }
   ],
   "source": [
    "# read redshifts\n",
    "zAll = np.array(myP.ReadFile(path_cat+'\\COSMOS_z_matches.csv'))\n",
    "zID, zZ = zAll.T\n",
    "# get correct data type\n",
    "zID = np.array(zID, dtype=int)\n",
    "zZ  = np.array(zZ,  dtype=float)\n",
    "# apply mask to remove bad redshifts\n",
    "mask_z = (zZ >= 0) & (zZ < 99)\n",
    "zID = zID[mask_z]\n",
    "zZ  = zZ[mask_z]\n",
    "# print info\n",
    "print('Number of sources w/ z:', len(zID))"
   ]
  },
  {
   "cell_type": "code",
   "execution_count": 10,
   "metadata": {},
   "outputs": [
    {
     "name": "stdout",
     "output_type": "stream",
     "text": [
      "Red:\t 886 = 886\n",
      "Yel:\t 1529 = 1529\n",
      "Blu:\t 647 = 647\n"
     ]
    }
   ],
   "source": [
    "# match redshift against AGN color IDs\n",
    "key_z_red, key_red_z= match.match(zID, red_ID)\n",
    "key_z_yel, key_yel_z= match.match(zID, yel_ID)\n",
    "key_z_blu, key_blu_z= match.match(zID, blu_ID)\n",
    "\n",
    "# get redshift arrays for AGN by color \n",
    "red_z = zZ[key_z_red]\n",
    "yel_z = zZ[key_z_yel]\n",
    "blu_z = zZ[key_z_blu]\n",
    "\n",
    "# get AGN arrays w/ redshifts\n",
    "red_ID_wZ = red_ID[key_red_z]\n",
    "yel_ID_wZ = yel_ID[key_yel_z]\n",
    "blu_ID_wZ = blu_ID[key_blu_z]\n",
    "\n",
    "# verify \n",
    "print('Red:\\t', len(red_ID_wZ), '=', len(red_z))\n",
    "print('Yel:\\t', len(yel_ID_wZ), '=', len(yel_z))\n",
    "print('Blu:\\t', len(blu_ID_wZ), '=', len(blu_z))\n"
   ]
  },
  {
   "cell_type": "code",
   "execution_count": 6,
   "metadata": {},
   "outputs": [],
   "source": [
    "# open COSMOS 2020 catalog file and get data \n",
    "inf20 = fits.open(path_cat+'\\COSMOS2020_CLASSIC_R1_v2.0_master.fits')\n",
    "data20 = inf20[1].data\n",
    "inf20.close()"
   ]
  },
  {
   "cell_type": "code",
   "execution_count": 7,
   "metadata": {},
   "outputs": [
    {
     "name": "stdout",
     "output_type": "stream",
     "text": [
      "Array shape:\t (1720700, 20)\n",
      "Array shape:\t (1720700,)\n",
      "Array shape:\t (20,)\n"
     ]
    }
   ],
   "source": [
    "Fnu_uJy = SED.GetPhotometry(data20)\n",
    "IDs_all = SED.GetID(data20)\n",
    "lam_A   = SED.GetObservedWavelengths_A()"
   ]
  },
  {
   "cell_type": "code",
   "execution_count": 8,
   "metadata": {},
   "outputs": [
    {
     "name": "stdout",
     "output_type": "stream",
     "text": [
      "Red:\t 886 = 886\n",
      "Yel:\t 1529 = 1529\n",
      "Blu:\t 647 = 647\n"
     ]
    }
   ],
   "source": [
    "# match AGN color IDS against photometry \n",
    "key_IDall_red, key_red_IDall = match.match(IDs_all, red_ID_wZ)\n",
    "key_IDall_yel, key_yel_IDall = match.match(IDs_all, yel_ID_wZ)\n",
    "key_IDall_blu, key_blu_IDall = match.match(IDs_all, blu_ID_wZ)\n",
    "\n",
    "# get photometry for AGN colors \n",
    "red_Fnu_uJy = Fnu_uJy[key_IDall_red]\n",
    "yel_Fnu_uJy = Fnu_uJy[key_IDall_yel]\n",
    "blu_Fnu_uJy = Fnu_uJy[key_IDall_blu]\n",
    "\n",
    "# get AGN arrays with photometry \n",
    "red_ID_wZ_wPhot = red_ID_wZ[key_red_IDall]\n",
    "yel_ID_wZ_wPhot = yel_ID_wZ[key_yel_IDall]\n",
    "blu_ID_wZ_wPhot = blu_ID_wZ[key_blu_IDall]\n",
    "\n",
    "# verify \n",
    "print('Red:\\t', len(red_ID_wZ_wPhot), '=', len(red_Fnu_uJy))\n",
    "print('Yel:\\t', len(yel_ID_wZ_wPhot), '=', len(yel_Fnu_uJy))\n",
    "print('Blu:\\t', len(blu_ID_wZ_wPhot), '=', len(blu_Fnu_uJy))\n"
   ]
  },
  {
   "cell_type": "code",
   "execution_count": 12,
   "metadata": {},
   "outputs": [
    {
     "name": "stdout",
     "output_type": "stream",
     "text": [
      "Array shape:\t (886, 20)\n",
      "Array shape:\t (1529, 20)\n",
      "Array shape:\t (647, 20)\n"
     ]
    }
   ],
   "source": [
    "# get table of rest wavelengths for AGN colors\n",
    "red_lamR_A = SED.ConvertToRestWavelength(red_z)\n",
    "yel_lamR_A = SED.ConvertToRestWavelength(yel_z)\n",
    "blu_lamR_A = SED.ConvertToRestWavelength(blu_z)"
   ]
  },
  {
   "cell_type": "code",
   "execution_count": 13,
   "metadata": {},
   "outputs": [
    {
     "name": "stdout",
     "output_type": "stream",
     "text": [
      "Array shape:\t (886, 20)\n",
      "Array shape:\t (1529, 20)\n",
      "Array shape:\t (647, 20)\n"
     ]
    }
   ],
   "source": [
    "# convert Fnu to lamFlam\n",
    "red_lamFlam_ergscm2 = SED.ConvertToEnergyDensity(red_lamR_A, red_Fnu_uJy)\n",
    "yel_lamFlam_ergscm2 = SED.ConvertToEnergyDensity(yel_lamR_A, yel_Fnu_uJy)\n",
    "blu_lamFlam_ergscm2 = SED.ConvertToEnergyDensity(blu_lamR_A, blu_Fnu_uJy)"
   ]
  },
  {
   "cell_type": "code",
   "execution_count": 14,
   "metadata": {},
   "outputs": [
    {
     "name": "stdout",
     "output_type": "stream",
     "text": [
      "Array shape:\t (886, 20)\n",
      "Array shape:\t (1529, 20)\n",
      "Array shape:\t (647, 20)\n"
     ]
    }
   ],
   "source": [
    "# normalize each agn source\n",
    "# agn_lamflux_lam_ergscm2_NORM = SED.NormalizeSED_1um(lamR_A, agn_lamflux_lam_ergscm2)\n",
    "red_lamFlam_ergscm2_norm = SED.NormalizeSED_1um(red_lamR_A, red_lamFlam_ergscm2)\n",
    "yel_lamFlam_ergscm2_norm = SED.NormalizeSED_1um(yel_lamR_A, yel_lamFlam_ergscm2)\n",
    "blu_lamFlam_ergscm2_norm = SED.NormalizeSED_1um(blu_lamR_A, blu_lamFlam_ergscm2)"
   ]
  },
  {
   "cell_type": "code",
   "execution_count": 15,
   "metadata": {},
   "outputs": [],
   "source": [
    "# set standard plot format\n",
    "myP.SetStyle()"
   ]
  },
  {
   "cell_type": "code",
   "execution_count": 18,
   "metadata": {},
   "outputs": [],
   "source": [
    "# concert angstrom to micron\n",
    "red_lamR_um = red_lamR_A * 1E-4\n",
    "yel_lamR_um = yel_lamR_A * 1E-4\n",
    "blu_lamR_um = blu_lamR_A * 1E-4"
   ]
  },
  {
   "cell_type": "code",
   "execution_count": 20,
   "metadata": {},
   "outputs": [],
   "source": [
    "# plot SEDs\n",
    "SED.PlotSED(red_lamR_um, red_lamFlam_ergscm2_norm, title='Red')\n",
    "SED.PlotSED(yel_lamR_um, yel_lamFlam_ergscm2_norm, title='Yellow')\n",
    "SED.PlotSED(blu_lamR_um, blu_lamFlam_ergscm2_norm, title='Blue')"
   ]
  }
 ],
 "metadata": {
  "kernelspec": {
   "display_name": "Python 3.9.12 ('py3env')",
   "language": "python",
   "name": "python3"
  },
  "language_info": {
   "codemirror_mode": {
    "name": "ipython",
    "version": 3
   },
   "file_extension": ".py",
   "mimetype": "text/x-python",
   "name": "python",
   "nbconvert_exporter": "python",
   "pygments_lexer": "ipython3",
   "version": "3.9.12"
  },
  "orig_nbformat": 4,
  "vscode": {
   "interpreter": {
    "hash": "9087279304570de5a36832bd291691fdf2a46b942e9196516ec718f5eedeadfe"
   }
  }
 },
 "nbformat": 4,
 "nbformat_minor": 2
}
