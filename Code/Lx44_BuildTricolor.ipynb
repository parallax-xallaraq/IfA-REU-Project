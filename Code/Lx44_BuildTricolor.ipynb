{
 "cells": [
  {
   "cell_type": "code",
   "execution_count": 1,
   "metadata": {},
   "outputs": [],
   "source": [
    "# # IMPORTS\n",
    "# astronomy\n",
    "from astropy.io import fits\n",
    "# plotting \n",
    "from matplotlib.ticker import (MultipleLocator, AutoMinorLocator)\n",
    "import matplotlib.pyplot as plt\n",
    "import matplotlib as mpl\n",
    "# data \n",
    "import numpy as np\n",
    "# file IO\n",
    "import csv\n",
    "# my python files \n",
    "import match\n",
    "import v2_AGN_DataAndPlotting as adp\n",
    "import v2_SED as SED"
   ]
  },
  {
   "cell_type": "markdown",
   "metadata": {},
   "source": [
    "# Read Data"
   ]
  },
  {
   "cell_type": "code",
   "execution_count": 2,
   "metadata": {},
   "outputs": [],
   "source": [
    "# open COSMOS 2020 catalog file and get data \n",
    "with fits.open(adp.path_cat+'\\\\COSMOS2020_CLASSIC_R1_v2.0_master.fits') as hdul20:\n",
    "    data20 = hdul20[1].data\n",
    "    cols20 = hdul20[1].columns"
   ]
  },
  {
   "cell_type": "code",
   "execution_count": 3,
   "metadata": {},
   "outputs": [
    {
     "name": "stdout",
     "output_type": "stream",
     "text": [
      "....."
     ]
    }
   ],
   "source": [
    "# get IRAC data (unit = 'uJy')\n",
    "ch1_data20  = np.array(data20['SPLASH_CH1_FLUX']) # 3.5686 um\n",
    "print('.', end='')\n",
    "ch2_data20  = np.array(data20['SPLASH_CH2_FLUX']) # 4.5067 um\n",
    "print('.', end='')\n",
    "ch3_data20  = np.array(data20['SPLASH_CH3_FLUX']) # 5.7788 um\n",
    "print('.', end='')\n",
    "ch4_data20  = np.array(data20['SPLASH_CH4_FLUX']) # 7.9958 um \n",
    "print('.', end='')\n",
    "# get ID\n",
    "id_data20 = np.array(data20['ID_COSMOS2015'])\n",
    "print('.', end='')"
   ]
  },
  {
   "cell_type": "code",
   "execution_count": 4,
   "metadata": {},
   "outputs": [
    {
     "name": "stderr",
     "output_type": "stream",
     "text": [
      "C:\\Users\\polar\\AppData\\Local\\Temp\\ipykernel_11772\\2168648500.py:7: RuntimeWarning: divide by zero encountered in log10\n",
      "  dataNew['Lx_05_10']     = np.log10(np.array(dataNew['Lx_05_10'],     dtype=float)) # log scale\n",
      "C:\\Users\\polar\\AppData\\Local\\Temp\\ipykernel_11772\\2168648500.py:7: RuntimeWarning: invalid value encountered in log10\n",
      "  dataNew['Lx_05_10']     = np.log10(np.array(dataNew['Lx_05_10'],     dtype=float)) # log scale\n",
      "C:\\Users\\polar\\AppData\\Local\\Temp\\ipykernel_11772\\2168648500.py:8: RuntimeWarning: divide by zero encountered in log10\n",
      "  dataNew['Lx_hard_2_10'] = np.log10(np.array(dataNew['Lx_hard_2_10'], dtype=float)) # log scale\n",
      "C:\\Users\\polar\\AppData\\Local\\Temp\\ipykernel_11772\\2168648500.py:8: RuntimeWarning: invalid value encountered in log10\n",
      "  dataNew['Lx_hard_2_10'] = np.log10(np.array(dataNew['Lx_hard_2_10'], dtype=float)) # log scale\n"
     ]
    }
   ],
   "source": [
    "# read file \n",
    "dataNew = adp.UnpackTable(adp.path_csv+'\\\\New_Lx_cat.csv')\n",
    "\n",
    "# fix types\n",
    "dataNew['ID']   = np.array(dataNew['ID'], dtype=int)\n",
    "dataNew['z']    = np.array(dataNew['z'],  dtype=float)\n",
    "dataNew['Lx_05_10']     = np.log10(np.array(dataNew['Lx_05_10'],     dtype=float)) # log scale\n",
    "dataNew['Lx_hard_2_10'] = np.log10(np.array(dataNew['Lx_hard_2_10'], dtype=float)) # log scale\n",
    "\n",
    "# replace C-COSMOS 2016 for X-ray selection \n",
    "id_data16 = dataNew['ID']\n",
    "# L0510_data16 = dataNew['Lx_05_10']\n",
    "L0510_data16 = dataNew['Lx_hard_2_10']"
   ]
  },
  {
   "cell_type": "code",
   "execution_count": 5,
   "metadata": {},
   "outputs": [
    {
     "name": "stdout",
     "output_type": "stream",
     "text": [
      "Cropped:  ['ID', 'z']\n",
      "Number of redshifts: 487252\n",
      "Number of redshifts <=1: 221725\n"
     ]
    }
   ],
   "source": [
    "# get redshifts less than or equal to zMax\n",
    "def GetRedshifts_lessEq(zMax, zDict, printInfo=True) : \n",
    "    # get mask of 0<z<zMax\n",
    "    mask_lt = (zDict['z'] >= 0.0) & (zDict['z'] <= zMax)\n",
    "    # make dict of z\n",
    "    zDict_lt = {\n",
    "        'ID' : zDict['ID'][mask_lt],\n",
    "        'z'  : zDict['z'][mask_lt]\n",
    "    }\n",
    "    # print info\n",
    "    if(printInfo):\n",
    "        print('Number of redshifts <='+str(zMax)+':', len(zDict_lt['z']))\n",
    "    # return dictionary of redshifts less than \n",
    "    return(zDict_lt)\n",
    "\n",
    "# get redshifts\n",
    "zDict = adp.ReadRedshifts(file=adp.path_cat+'\\COSMOS_z_matches.csv')\n",
    "zDict_le = GetRedshifts_lessEq(zMax=1,zDict=zDict)"
   ]
  },
  {
   "cell_type": "code",
   "execution_count": 10,
   "metadata": {},
   "outputs": [
    {
     "name": "stdout",
     "output_type": "stream",
     "text": [
      "Cropped:  ['Row 1 = MIR selected AGN (Donley et al, 2012) with id (n=1470). Row 2 = X-ray selected AGN (Lx > 10^44 erg/s) with id and redshift (n=869). ']\n",
      "Number of MIR AGN:\t 1470\n",
      "Number of Xray AGN:\t 869\n"
     ]
    }
   ],
   "source": [
    "def GetAGNduoFromFile(file, printInfo=True):\n",
    "    # read AGN IDs\n",
    "    agnIDs_file = adp.ReadFile(file)\n",
    "    # convert agnIDs into a dictionary of numpy arrays \n",
    "    agnIDs_dict = { \n",
    "        'MIR'  : np.array(agnIDs_file[0], dtype=int), \n",
    "        'XRAY' : np.array(agnIDs_file[1], dtype=int) \n",
    "        }\n",
    "    # print info\n",
    "    if(printInfo) :\n",
    "        print('Number of MIR AGN:\\t',    len(agnIDs_dict['MIR']))\n",
    "        print('Number of Xray AGN:\\t',   len(agnIDs_dict['XRAY']))\n",
    "    # return dict\n",
    "    return(agnIDs_dict)\n",
    "\n",
    "# get AGNs\n",
    "agnIDs = GetAGNduoFromFile(adp.path_csv+'\\\\Lx44_AGNid_Xray_MIR.csv')"
   ]
  },
  {
   "cell_type": "code",
   "execution_count": 11,
   "metadata": {},
   "outputs": [
    {
     "name": "stdout",
     "output_type": "stream",
     "text": [
      "Number of MIR AGN with z:\t 199\n",
      "Number of Xray AGN with z:\t 57\n",
      "~~~~~~~~~~~~~~~~~~~~~~~~~~~~~~~~~~~~~~~~~~~\n",
      "Number of MIR AGN without z:\t 1271\n",
      "Number of Xray AGN without z:\t 812\n",
      "~~~~~~~~~~~~~~~~~~~~~~~~~~~~~~~~~~~~~~~~~~~\n",
      "Total MIR AGN:\t 1470\n",
      "Total XRAY AGN:\t 869\n"
     ]
    }
   ],
   "source": [
    "def GetAGNduo_withZ(agnIdDict, zDict, printInfo=True) : \n",
    "    # match IDs between AGN and available redshifts\n",
    "    key_agnID_MIR,  key_z = match.match(agnIdDict['MIR'],  zDict['ID'])\n",
    "    key_agnID_XRAY, key_z = match.match(agnIdDict['XRAY'], zDict['ID'])\n",
    "    # create dict of AGN with redshfts\n",
    "    agnIDs_dict_z = {\n",
    "        'MIR'  : agnIdDict['MIR'][key_agnID_MIR],\n",
    "        'XRAY' : agnIdDict['XRAY'][key_agnID_XRAY]\n",
    "    }\n",
    "    # create dict of AGN withhout redshifts\n",
    "    noMIRz = np.ones(agnIdDict['MIR'].size, dtype=bool)\n",
    "    noXrayz = np.ones(agnIdDict['XRAY'].size, dtype=bool)\n",
    "    noMIRz[key_agnID_MIR] = False   # set match to False\n",
    "    noXrayz[key_agnID_XRAY] = False\n",
    "    agnIDs_dict_zNO = {\n",
    "        'MIR'  : agnIdDict['MIR'][noMIRz],\n",
    "        'XRAY' : agnIdDict['XRAY'][noXrayz]\n",
    "    }\n",
    "    # print info\n",
    "    if(printInfo) :\n",
    "        print('Number of MIR AGN with z:\\t',    len(agnIDs_dict_z['MIR']) )\n",
    "        print('Number of Xray AGN with z:\\t',   len(agnIDs_dict_z['XRAY']))\n",
    "        print('~~~~~~~~~~~~~~~~~~~~~~~~~~~~~~~~~~~~~~~~~~~')\n",
    "        print('Number of MIR AGN without z:\\t',    len(agnIDs_dict_zNO['MIR']) )\n",
    "        print('Number of Xray AGN without z:\\t',   len(agnIDs_dict_zNO['XRAY']))\n",
    "        print('~~~~~~~~~~~~~~~~~~~~~~~~~~~~~~~~~~~~~~~~~~~')\n",
    "        print('Total MIR AGN:\\t',    len(agnIDs_dict_z['MIR']) +len(agnIDs_dict_zNO['MIR']) )\n",
    "        print('Total XRAY AGN:\\t',   len(agnIDs_dict_z['XRAY'])+len(agnIDs_dict_zNO['XRAY']))\n",
    "    # return dict \n",
    "    return(agnIDs_dict_z, agnIDs_dict_zNO)\n",
    "\n",
    "# get AGN with z<=1 and z>1\n",
    "agnIDs_le, agnIDs_leNO = GetAGNduo_withZ(agnIDs, zDict_le)"
   ]
  },
  {
   "cell_type": "code",
   "execution_count": 12,
   "metadata": {},
   "outputs": [
    {
     "name": "stdout",
     "output_type": "stream",
     "text": [
      "Number of IR only:\t 1076\n",
      "Number of Xray only:\t 475\n",
      "Number of matches:\t 394\n",
      "~~~\n",
      "Number of IR only:\t 174\n",
      "Number of Xray only:\t 32\n",
      "Number of matches:\t 25\n",
      "~~~\n",
      "Number of IR only:\t 902\n",
      "Number of Xray only:\t 443\n",
      "Number of matches:\t 369\n"
     ]
    }
   ],
   "source": [
    "def TwoToTri(irID,xrID,printInfo=True):\n",
    "    # match agn ids to get overlap \n",
    "    key_ir, key_xr = match.match(irID, xrID)\n",
    "    # initialize\n",
    "    mask_ir = np.ones(irID.size, dtype=bool)\n",
    "    mask_xr = np.ones(xrID.size, dtype=bool)\n",
    "    # set matched index to false\n",
    "    mask_ir[key_ir] = False\n",
    "    mask_xr[key_xr] = False\n",
    "    # remove overlaped xray selected agn from ir selected list\n",
    "    irID_exc = irID[mask_ir]\n",
    "    # remove overlaped ir selected agn from xray selected list \n",
    "    xrID_exc = xrID[mask_xr]\n",
    "    # create list of ir/xray match\n",
    "    ixrID_inc = irID[key_ir]\n",
    "    # create and return dict of list of agn groups\n",
    "    idDict = {\n",
    "        'RED' : irID_exc,\n",
    "        'GRN' : ixrID_inc,\n",
    "        'BLU' : xrID_exc\n",
    "    }\n",
    "    if(printInfo):\n",
    "        # print info \n",
    "        print('Number of IR only:\\t',   len(idDict['RED']))\n",
    "        print('Number of Xray only:\\t', len(idDict['BLU']))\n",
    "        print('Number of matches:\\t',   len(idDict['GRN']))\n",
    "    return(idDict)\n",
    "\n",
    "# split into RED/YEl/BLU\n",
    "triID = TwoToTri(agnIDs['MIR'], agnIDs['XRAY'])\n",
    "print('~~~')\n",
    "triID_le = TwoToTri(agnIDs_le['MIR'], agnIDs_le['XRAY'])\n",
    "print('~~~')\n",
    "triID_leNO = TwoToTri(agnIDs_leNO['MIR'], agnIDs_leNO['XRAY'])"
   ]
  },
  {
   "cell_type": "code",
   "execution_count": 13,
   "metadata": {},
   "outputs": [
    {
     "name": "stdout",
     "output_type": "stream",
     "text": [
      "List saved: Lx44_AGNid_tricolor.csv\n"
     ]
    }
   ],
   "source": [
    "# write IDs of AGN by selection method\n",
    "with open(adp.path_csv+'\\\\Lx44_AGNid_tricolor.csv', mode='w', newline='') as csv_file:\n",
    "    # initialize csv\n",
    "    writer = csv.writer(csv_file, delimiter=',', quotechar='\"', quoting=csv.QUOTE_MINIMAL)\n",
    "    # write to file \n",
    "    writer.writerow([\n",
    "        'Row 1 = MIR exclusive AGN with id, redshift, and IRAC (n='+str(len(triID['RED']))+'). '+ \n",
    "        'Row 2 = MIR-X-ray inclusive AGN with id, redshift, and IRAC (n='+str(len(triID['GRN']))+'). '\n",
    "        'Row 3 = X-ray exclusive AGN with id, redshift, and IRAC (n='+str(len(triID['BLU']))+'). '\n",
    "    ])\n",
    "    writer.writerow(triID['RED'])\n",
    "    writer.writerow(triID['GRN'])\n",
    "    writer.writerow(triID['BLU'])\n",
    "    # confirm \n",
    "    print('List saved: Lx44_AGNid_tricolor.csv')"
   ]
  }
 ],
 "metadata": {
  "kernelspec": {
   "display_name": "py3env",
   "language": "python",
   "name": "python3"
  },
  "language_info": {
   "codemirror_mode": {
    "name": "ipython",
    "version": 3
   },
   "file_extension": ".py",
   "mimetype": "text/x-python",
   "name": "python",
   "nbconvert_exporter": "python",
   "pygments_lexer": "ipython3",
   "version": "3.9.12"
  }
 },
 "nbformat": 4,
 "nbformat_minor": 2
}
