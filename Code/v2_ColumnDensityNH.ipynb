{
 "cells": [
  {
   "cell_type": "code",
   "execution_count": 1,
   "metadata": {},
   "outputs": [],
   "source": [
    "# # IMPORTS\n",
    "# astronomy\n",
    "from astropy.io import fits\n",
    "# plotting \n",
    "from matplotlib.ticker import AutoMinorLocator\n",
    "import matplotlib.pyplot as plt\n",
    "# data \n",
    "import numpy as np\n",
    "# file IO\n",
    "import ast\n",
    "# my python files \n",
    "import match\n",
    "import v2_AGN_DataAndPlotting as adp\n",
    "import v2_SED as SED"
   ]
  },
  {
   "attachments": {},
   "cell_type": "markdown",
   "metadata": {},
   "source": [
    "# Data"
   ]
  },
  {
   "cell_type": "code",
   "execution_count": 9,
   "metadata": {},
   "outputs": [],
   "source": [
    "# open COSMOS 2020 catalog file and get data \n",
    "with fits.open(adp.path_cat+'\\\\COSMOS2020_CLASSIC_R1_v2.0_master.fits') as hdul20:\n",
    "    data20 = hdul20[1].data\n",
    "    cols20 = hdul20[1].columns"
   ]
  },
  {
   "cell_type": "code",
   "execution_count": null,
   "metadata": {},
   "outputs": [],
   "source": [
    "# # get IRAC data (unit = 'uJy')\n",
    "# ch1_data20  = np.array(data20['SPLASH_CH1_FLUX']) # 3.5686 um\n",
    "# print('.', end='')\n",
    "# ch2_data20  = np.array(data20['SPLASH_CH2_FLUX']) # 4.5067 um\n",
    "# print('.', end='')\n",
    "# ch3_data20  = np.array(data20['SPLASH_CH3_FLUX']) # 5.7788 um\n",
    "# print('.', end='')\n",
    "# ch4_data20  = np.array(data20['SPLASH_CH4_FLUX']) # 7.9958 um \n",
    "# print('.', end='')\n",
    "# # get ID\n",
    "# id_data20 = np.array(data20['ID_COSMOS2015'])\n",
    "# print('.', end='')"
   ]
  },
  {
   "cell_type": "code",
   "execution_count": null,
   "metadata": {},
   "outputs": [],
   "source": [
    "# open COSMOS 2016 catalog file and get data \n",
    "with fits.open(adp.path_cat+'\\\\chandra_COSMOS_legacy_opt_NIR_counterparts_20160113_4d.fits') as hdul16:\n",
    "    data16 = hdul16[1].data\n",
    "    cols16 = hdul16[1].columns"
   ]
  },
  {
   "cell_type": "code",
   "execution_count": null,
   "metadata": {},
   "outputs": [],
   "source": [
    "# # get data arrays from columns\n",
    "# id_data16 = np.array(data16['id_k_uv'])\n",
    "# # get column density NH\n",
    "# NH_data16 = np.array(data16['NH'])"
   ]
  },
  {
   "cell_type": "code",
   "execution_count": null,
   "metadata": {},
   "outputs": [],
   "source": [
    "# read AGN IDs\n",
    "agnIDs = adp.ReadFile(adp.path_csv+'\\\\v2_AGNid_tricolor.csv')\n",
    "\n",
    "# convert agnIDs into dict of integer numpy arrays \n",
    "agnIDs_dict = {\n",
    "    'RED' : np.array(agnIDs[0], dtype=int),\n",
    "    'GRN' : np.array(agnIDs[1], dtype=int),\n",
    "    'BLU' : np.array(agnIDs[2], dtype=int)\n",
    "}\n"
   ]
  }
 ],
 "metadata": {
  "kernelspec": {
   "display_name": "py3env",
   "language": "python",
   "name": "python3"
  },
  "language_info": {
   "codemirror_mode": {
    "name": "ipython",
    "version": 3
   },
   "file_extension": ".py",
   "mimetype": "text/x-python",
   "name": "python",
   "nbconvert_exporter": "python",
   "pygments_lexer": "ipython3",
   "version": "3.9.12"
  },
  "orig_nbformat": 4
 },
 "nbformat": 4,
 "nbformat_minor": 2
}
