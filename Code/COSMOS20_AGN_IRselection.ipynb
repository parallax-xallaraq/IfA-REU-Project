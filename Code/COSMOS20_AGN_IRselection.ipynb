{
 "cells": [
  {
   "cell_type": "code",
   "execution_count": 19,
   "metadata": {},
   "outputs": [],
   "source": [
    "# imports\n",
    "from astropy.io import fits\n",
    "import matplotlib.pyplot as plt\n",
    "import matplotlib as mpl\n",
    "import numpy as np \n",
    "import csv \n",
    "import match"
   ]
  },
  {
   "cell_type": "code",
   "execution_count": 2,
   "metadata": {},
   "outputs": [],
   "source": [
    "# path variables \n",
    "path_cat = 'D:\\IfA REU\\Catalogs'\n",
    "path_fig = 'D:\\IfA REU\\IfA-REU-Project\\Figures'\n",
    "path_csv = 'D:\\IfA REU\\IfA-REU-Project\\Lists'"
   ]
  },
  {
   "cell_type": "markdown",
   "metadata": {},
   "source": [
    "# Get COSMOS 2020 Data"
   ]
  },
  {
   "cell_type": "code",
   "execution_count": 3,
   "metadata": {},
   "outputs": [],
   "source": [
    "##### Get data from catalog file\n",
    "\n",
    "# open COSMOS master file and get data \n",
    "inf = fits.open(path_cat+'\\COSMOS2020_CLASSIC_R1_v2.0_master.fits')\n",
    "data = inf[1].data\n",
    "# cols = inf[1].columns\n",
    "# head = inf[0].header\n",
    "inf.close()\n",
    "\n",
    "# NOTE: Only run this once! It gets stuck if you try to run this again. \n",
    "#       If it gets stuck, interrupt and restart the jupyter kernel then run again. "
   ]
  },
  {
   "cell_type": "code",
   "execution_count": 4,
   "metadata": {},
   "outputs": [
    {
     "name": "stdout",
     "output_type": "stream",
     "text": [
      "Ch1 read\n",
      "Ch2 read\n",
      "Ch3 read\n",
      "Ch4 read\n",
      "ID read\n",
      "ID15 read\n",
      "z read\n"
     ]
    }
   ],
   "source": [
    "##### Get data from columns and print info \n",
    "\n",
    "# get IRAC data (unit = 'uJy')\n",
    "ch1_data  = np.array(data['SPLASH_CH1_FLUX']) # 3.5686 um\n",
    "print('Ch1 read')\n",
    "ch2_data  = np.array(data['SPLASH_CH2_FLUX']) # 4.5067 um\n",
    "print('Ch2 read')\n",
    "ch3_data  = np.array(data['SPLASH_CH3_FLUX']) # 5.7788 um\n",
    "print('Ch3 read')\n",
    "ch4_data  = np.array(data['SPLASH_CH4_FLUX']) # 7.9958 um \n",
    "print('Ch4 read')\n",
    "\n",
    "# get IDs\n",
    "id_data   = np.array(data['ID'])\n",
    "print('ID read')\n",
    "id15_data = np.array(data['ID_COSMOS2015'])\n",
    "print('ID15 read')\n",
    "\n",
    "# get redshift \n",
    "z_data    = np.array(data['lp_zBEST'])\n",
    "print('z read')"
   ]
  },
  {
   "cell_type": "code",
   "execution_count": 68,
   "metadata": {},
   "outputs": [
    {
     "name": "stdout",
     "output_type": "stream",
     "text": [
      "['This file contains the IDs of Donley et al 2012 selected AGN from the COSMOS 2020 catalog. These lists were generated in COSMOS20_AGN_selection.ipynb. Line 1 is the ID, Line 2 is the ID_COSMOS2015.']\n"
     ]
    }
   ],
   "source": [
    "##### get the ID lists from the Donley 2012 selected AGN csv file\n",
    "\n",
    "# initialize list\n",
    "id_irAGN_csv = []\n",
    "\n",
    "# open csv file\n",
    "with open(path_csv+'\\ID_COSMOS2020_Donley2012_AGN.csv', newline='') as csv_file : \n",
    "    # read file \n",
    "    reader = csv.reader(csv_file, delimiter=',', quotechar='\"')\n",
    "    # output file into list for easy access\n",
    "    for row in reader :\n",
    "        id_irAGN_csv.append(row)\n",
    "        \n",
    "#print description\n",
    "print(id_irAGN_csv[0])\n",
    "\n",
    "# save important IDs \n",
    "id_irAGN = np.asarray(id_irAGN_csv[2],dtype=int)"
   ]
  },
  {
   "cell_type": "code",
   "execution_count": 69,
   "metadata": {},
   "outputs": [],
   "source": [
    "##### read Deimos_z_matches\n",
    "\n",
    "# initialize list\n",
    "Deimos_z_matches = []\n",
    "\n",
    "# open and read csv file\n",
    "with open(path_cat+'\\Deimos_z_matches.csv', newline='') as csv_file : \n",
    "    reader = csv.reader(csv_file, delimiter=',', quotechar='\"')\n",
    "    # output file into list for easy access\n",
    "    for row in reader : \n",
    "        Deimos_z_matches.append(row)\n",
    "\n",
    "# cut off column names and then transpose table to access columns\n",
    "Deimos_z_matches_T = np.array(Deimos_z_matches[1:]).T\n",
    "\n",
    "# access columns and typecast \n",
    "Deimos_id15 = np.array(Deimos_z_matches_T[0], dtype=int)\n",
    "Deimos_z = np.array(Deimos_z_matches_T[1], dtype=float)\n"
   ]
  },
  {
   "cell_type": "code",
   "execution_count": 32,
   "metadata": {},
   "outputs": [
    {
     "name": "stdout",
     "output_type": "stream",
     "text": [
      "Col \t\t Min \t\t Max \t\t Count\n",
      "-------------------------------------------------------------\n",
      "CH1 \t\t -373.86588 \t 11499.407 \t 1720700\n",
      "CH2 \t\t -200.00957 \t 12870.739 \t 1720700\n",
      "CH3 \t\t -99.9 \t\t 17447.684 \t 1720700\n",
      "CH4 \t\t -99.9 \t\t 15091.21 \t 1720700\n",
      "ID  \t\t 1 \t\t 1720700 \t 1720700\n",
      "ID 2015 \t -99 \t\t 1182096 \t 1720700\n",
      "z  \t\t -99.0 \t\t 99.9 \t\t 1720700\n",
      "Deimos ID  \t 1000279 \t 999930 \t 9844\n",
      "Deimos z  \t 0.000000 \t 6.603700 \t 9844\n"
     ]
    }
   ],
   "source": [
    "##### print info\n",
    "print('Col \\t\\t Min \\t\\t Max \\t\\t Count')\n",
    "print('-------------------------------------------------------------')\n",
    "print('CH1 \\t\\t',       min(ch1_data), '\\t',   max(ch1_data), '\\t',    len(ch1_data))\n",
    "print('CH2 \\t\\t',       min(ch2_data), '\\t',   max(ch2_data), '\\t',    len(ch2_data))\n",
    "print('CH3 \\t\\t',       min(ch3_data), '\\t\\t', max(ch3_data), '\\t',    len(ch3_data))\n",
    "print('CH4 \\t\\t',       min(ch4_data), '\\t\\t', max(ch4_data), '\\t',    len(ch4_data))\n",
    "print('ID  \\t\\t',       min(id_data),  '\\t\\t', max(id_data),  '\\t',    len(id_data))\n",
    "print('ID 2015 \\t',     min(id15_data),'\\t\\t', max(id15_data),'\\t',    len(id15_data))\n",
    "print('z  \\t\\t',        min(z_data),   '\\t\\t', max(z_data),   '\\t\\t',  len(z_data))\n",
    "print('Deimos ID  \\t',  min(Deimos_id15),'\\t', max(Deimos_id15),'\\t',  len(Deimos_id15))\n",
    "print('Deimos z  \\t',   min(Deimos_z),   '\\t', max(Deimos_z),   '\\t',  len(Deimos_z))"
   ]
  },
  {
   "cell_type": "code",
   "execution_count": 36,
   "metadata": {},
   "outputs": [],
   "source": [
    "##### Filter out bad data from the columns and print info \n",
    "\n",
    "# boolean array, true when data is valid and false otherwise\n",
    "irac_good = (ch1_data > 0) & (ch2_data > 0) & (ch3_data > 0) & (ch4_data > 0)\n",
    "\n",
    "# filter data\n",
    "ch1_data_good  = ch1_data[irac_good]\n",
    "ch2_data_good  = ch2_data[irac_good]\n",
    "ch3_data_good  = ch3_data[irac_good]\n",
    "ch4_data_good  = ch4_data[irac_good]\n",
    "id_data_good   = id_data[irac_good]\n",
    "id15_data_good = id15_data[irac_good]\n",
    "z_data_good    = z_data[irac_good]\n"
   ]
  },
  {
   "cell_type": "code",
   "execution_count": 37,
   "metadata": {},
   "outputs": [
    {
     "name": "stdout",
     "output_type": "stream",
     "text": [
      "Col \t\t Min \t\t Max \t\t Count\n",
      "----------------------------------------------------\n",
      "CH1 \t\t 0.012139931 \t 11499.407 \t 100469\n",
      "CH2 \t\t 0.0009702638 \t 12870.739 \t 100469\n",
      "CH3 \t\t 0.00084613566 \t 13670.983 \t 100469\n",
      "CH4 \t\t 0.00084613566 \t 15091.21 \t 100469\n",
      "ID  \t\t 40189 \t\t 1631929 \t 100469\n",
      "ID 2015 \t 1520 \t\t 1174096 \t 100469\n",
      "z   \t\t -99.0 \t\t 99.9 \t\t 100469\n"
     ]
    }
   ],
   "source": [
    "###### info\n",
    "print('Col \\t\\t Min \\t\\t Max \\t\\t Count')\n",
    "print('----------------------------------------------------')\n",
    "print('CH1 \\t\\t',       min(ch1_data_good), '\\t',   max(ch1_data_good), '\\t',   len(ch1_data_good))\n",
    "print('CH2 \\t\\t',       min(ch2_data_good), '\\t',   max(ch2_data_good), '\\t',   len(ch2_data_good))\n",
    "print('CH3 \\t\\t',       min(ch3_data_good), '\\t',   max(ch3_data_good), '\\t',   len(ch3_data_good))\n",
    "print('CH4 \\t\\t',       min(ch4_data_good), '\\t',   max(ch4_data_good), '\\t',   len(ch4_data_good))\n",
    "print('ID  \\t\\t',       min(id_data_good),  '\\t\\t', max(id_data_good),  '\\t',   len(id_data_good))\n",
    "print('ID 2015 \\t',     min(id15_data_good),'\\t\\t', max(id15_data_good),'\\t',   len(id15_data_good))\n",
    "print('z   \\t\\t',       min(z_data_good),   '\\t\\t', max(z_data_good),   '\\t\\t', len(z_data_good))"
   ]
  },
  {
   "cell_type": "markdown",
   "metadata": {},
   "source": [
    "# IR AGN Selection (Donley et al., 2012) \n",
    "\n",
    "x = log10 ( f5.8 μm / f3.6 μm ), \n",
    "y = log10 ( f8.0 μm / f4.5 μm ) \n",
    "\n",
    "x >= 0.08 AND \n",
    "y >= 0.15 AND\n",
    "y >= (1.21 x) − 0.27 AND\n",
    "y <= (1.21 x) + 0.27 AND\n",
    "f4.5 μm > f3.6 μm AND\n",
    "f5.8 μm > f4.5 μm AND\n",
    "f8.0 μm > f5.8 μm"
   ]
  },
  {
   "cell_type": "code",
   "execution_count": 10,
   "metadata": {},
   "outputs": [],
   "source": [
    "##### Draw the selection wedge for Donley 2012 on a plot \n",
    "\n",
    "def PlotDonleyWedge() : \n",
    "    # constants\n",
    "    x_min = 0.08    # x >= 0.08\n",
    "    y_min = 0.15    # y >= 0.15\n",
    "    max = 10        # arbritrary \n",
    "\n",
    "    # calculate intercepts\n",
    "    x_int_ymin = (y_min + 0.27)/1.21  # intercept between y_min and (y>=1.21x-0.27)\n",
    "    y_int_xmin = (1.21*x_min) + 0.27  # intercept between x_min and (y>=1.21x+0.27)\n",
    "\n",
    "    # calculate y_low intercepts (y>=1.21x-0.27)\n",
    "    y1_low = (1.21*x_int_ymin)  - 0.27   \n",
    "    y2_low = (1.21*max)         - 0.27\n",
    "\n",
    "    # calculate y_high intercepts (y>=1.21x+0.27)\n",
    "    y1_high = (1.21*x_min)      + 0.27\n",
    "    y2_high = (1.21*max)        + 0.27\n",
    "\n",
    "    # plot lines between intercepts \n",
    "    plt.plot( [x_min,       x_min],         [y_min,     y_int_xmin], 'k' )    # x >= 0.08\n",
    "    plt.plot( [x_min,       x_int_ymin],    [y_min,     y_min],      'k' )    # y >= 0.15\n",
    "    plt.plot( [x_int_ymin,  max],           [y1_low,    y2_low],     'k' )    # y >= 1.21x - 0.27\n",
    "    plt.plot( [x_min,       max],           [y1_high,   y2_high],    'k' )    # y <= 1.21x + 0.27\n",
    "\n",
    "    # name the x and y axis \n",
    "    plt.xlabel('$\\log(f_{5.8um}/f_{3.6um})$') \n",
    "    plt.ylabel('$\\log(f_{8.0um}/f_{4.5um})$') "
   ]
  },
  {
   "cell_type": "code",
   "execution_count": 11,
   "metadata": {},
   "outputs": [],
   "source": [
    "##### redefine the defaults for plots\n",
    "\n",
    "# settings \n",
    "mpl.rcParams['figure.figsize']  = 6, 4  # figure size in inches\n",
    "mpl.rcParams['axes.titlesize']  = 16    # size of title\n",
    "mpl.rcParams['axes.titlepad']   = 16    # space between title and plot \n",
    "mpl.rcParams['axes.labelsize']  = 14    # font size of the x and y labels\n",
    "mpl.rcParams['lines.linewidth'] = 0.5   # line width in points\n"
   ]
  },
  {
   "cell_type": "code",
   "execution_count": 12,
   "metadata": {},
   "outputs": [
    {
     "data": {
      "image/png": "[encoded data removed]",
      "text/plain": [
       "<Figure size 432x288 with 1 Axes>"
      ]
     },
     "metadata": {
      "needs_background": "light"
     },
     "output_type": "display_data"
    }
   ],
   "source": [
    "##### draw the Donley Wedge on a plot as a test \n",
    "\n",
    "# plot \n",
    "PlotDonleyWedge()\n",
    "plt.axis([-0.4,1,-0.4,1]) \n",
    "plt.title('AGN Selection Wedge (Donley et al., 2012)') \n",
    "plt.show()"
   ]
  },
  {
   "cell_type": "code",
   "execution_count": 13,
   "metadata": {},
   "outputs": [
    {
     "data": {
      "image/png": "[encoded data removed]",
      "text/plain": [
       "<Figure size 432x288 with 1 Axes>"
      ]
     },
     "metadata": {
      "needs_background": "light"
     },
     "output_type": "display_data"
    },
    {
     "name": "stdout",
     "output_type": "stream",
     "text": [
      "Galaxy count:  100469\n"
     ]
    }
   ],
   "source": [
    "##### plot all the galaxies with IRAC data\n",
    "\n",
    "# calculate colors for each galaxy\n",
    "x = np.log10( ch3_data_good / ch1_data_good ) # x = log10 ( f_5.6um / f_3.6um )\n",
    "y = np.log10( ch4_data_good / ch2_data_good ) # y = log10 ( f_8.0um / f_4.5 um )\n",
    "\n",
    "# plot \n",
    "plt.plot(x, y, 'o', c='firebrick', markersize=0.3)\n",
    "plt.axis([-4,3,-5,4]) \n",
    "plt.title('IRAC Ch4/Ch2 vs. Ch3/Ch1 for all COSMOS sources') \n",
    "plt.xlabel(r'$\\log(f_{5.8um}/f_{3.6um})$') \n",
    "plt.ylabel(r'$\\log(f_{8.0um}/f_{4.5um})$')\n",
    "plt.savefig(path_fig+'\\COSMOS2020_all_IRAC_sources.png',bbox_inches =\"tight\",pad_inches=0.2,facecolor='w',edgecolor='w')\n",
    "plt.show()\n",
    "\n",
    "# print number of galaxies\n",
    "print('Galaxy count: ', len(x))"
   ]
  },
  {
   "cell_type": "code",
   "execution_count": 82,
   "metadata": {},
   "outputs": [
    {
     "name": "stdout",
     "output_type": "stream",
     "text": [
      "All lists are the same length\n"
     ]
    }
   ],
   "source": [
    "##### Get the galaxies within the Donley selection wedge\n",
    "\n",
    "# initialize empty lists\n",
    "x_agn    = []\n",
    "y_agn    = []\n",
    "z_agn    = []\n",
    "id_agn   = []\n",
    "id15_agn = [] \n",
    "\n",
    "# look through each galaxy and check if it is inside the selection box\n",
    "for i in range(len(x)):\n",
    "    # if the point is an agn...\n",
    "    if(x[i]>=0.08 and y[i]>=0.15 and y[i]>=(1.21*x[i]-0.27) and y[i]<=(1.21*x[i]+0.27)) :  \n",
    "        # ... add values to respective list \n",
    "        x_agn.append(x[i])\n",
    "        y_agn.append(y[i])\n",
    "        z_agn.append(z_data_good[i])\n",
    "        id_agn.append(id_data_good[i])\n",
    "        id15_agn.append(id15_data_good[i])\n",
    "    # else, move to next point\n",
    "\n",
    "# confirm that sizes match\n",
    "sizeRef = len(x_agn)\n",
    "if( sizeRef == len(y_agn) and sizeRef == len(id_agn) and sizeRef == len(id15_agn) and sizeRef == len(z_agn)) :\n",
    "    print(\"All lists are the same length\")\n",
    "else :\n",
    "    print(\"ERR: all lists are NOT the same length\")"
   ]
  },
  {
   "cell_type": "code",
   "execution_count": 86,
   "metadata": {},
   "outputs": [],
   "source": [
    "# convert lists to arrays as needed\n",
    "z_agn_arr = np.array(z_agn)\n",
    "id15_agn_arr = np.array(id15_agn)"
   ]
  },
  {
   "cell_type": "code",
   "execution_count": 93,
   "metadata": {},
   "outputs": [
    {
     "name": "stdout",
     "output_type": "stream",
     "text": [
      "161393 [ 2883 ] == 161393 [ 127 ]\n",
      "Number of AGN (before match):  2287\n",
      "Number of matches:  274\n"
     ]
    }
   ],
   "source": [
    "##### match z to id15\n",
    "\n",
    "# match\n",
    "key_Deimos, key_agn = match.match(Deimos_id15, id15_agn_arr)\n",
    "\n",
    "# Test\n",
    "print(Deimos_id15[key_Deimos[0]], '[', key_Deimos[0], ']',  '==', id15_agn_arr[key_agn[0]], '[', key_agn[0], ']',)\n",
    "\n",
    "# print info\n",
    "print('Number of AGN (before match): ', len(id15_agn_arr))\n",
    "print('Number of matches: ', len(key_agn))\n"
   ]
  },
  {
   "cell_type": "code",
   "execution_count": 94,
   "metadata": {},
   "outputs": [],
   "source": [
    " # TODO filter agn list - only include those with redshifts and output to csv"
   ]
  },
  {
   "cell_type": "code",
   "execution_count": 15,
   "metadata": {},
   "outputs": [
    {
     "name": "stdout",
     "output_type": "stream",
     "text": [
      "List saved: COSMOS2020_DONLEY2012_AGN.csv\n"
     ]
    }
   ],
   "source": [
    "##### Save id list to a *.csv file \n",
    "\n",
    "# open file \n",
    "with open(path_csv+'\\ID_COSMOS2020_Donley2012_AGN.csv', mode='w', newline='') as csv_file:\n",
    "    # initialize csv\n",
    "    writer = csv.writer(csv_file, delimiter=',', quotechar='\"', quoting=csv.QUOTE_MINIMAL)\n",
    "    # write header\n",
    "    writer.writerow(['This file contains the IDs of Donley et al 2012 selected AGN from the COSMOS 2020 catalog. These lists were generated in COSMOS20_AGN_selection.ipynb. Line 1 is the ID, Line 2 is the ID_COSMOS2015.'])\n",
    "    # write agn id list to file \n",
    "    writer.writerow(id_agn)\n",
    "    writer.writerow(id15_agn)\n",
    "\n",
    "# confirm \n",
    "print('List saved: COSMOS2020_DONLEY2012_AGN.csv')\n"
   ]
  },
  {
   "cell_type": "code",
   "execution_count": 16,
   "metadata": {},
   "outputs": [
    {
     "data": {
      "image/png": "[encoded data removed]",
      "text/plain": [
       "<Figure size 432x288 with 1 Axes>"
      ]
     },
     "metadata": {
      "needs_background": "light"
     },
     "output_type": "display_data"
    },
    {
     "name": "stdout",
     "output_type": "stream",
     "text": [
      "Galaxy count:  2287\n"
     ]
    }
   ],
   "source": [
    "##### Plot Donley selected AGN in the wedge \n",
    "\n",
    "# plot agn in selection box \n",
    "plt.plot(x_agn, y_agn, 'o', c='firebrick', markersize=0.8)\n",
    "PlotDonleyWedge()\n",
    "plt.axis([-0.5,2.5,-0.5,2.5]) \n",
    "plt.title('Donley-selected AGN from COSMOS galaxies') \n",
    "plt.savefig(path_fig+'\\COSMOS2020_Donley-selected_AGN.png',bbox_inches =\"tight\",pad_inches=0.2,facecolor='w',edgecolor='w')\n",
    "plt.show()\n",
    "\n",
    "# print number of galaxies\n",
    "print('Galaxy count: ', len(x_agn))"
   ]
  },
  {
   "cell_type": "markdown",
   "metadata": {},
   "source": [
    "# Properties of IR AGN Selection"
   ]
  },
  {
   "cell_type": "code",
   "execution_count": 17,
   "metadata": {},
   "outputs": [],
   "source": [
    "# filter out bad redshifts \n",
    "z_data_good_clean = z_data_good[ (z_data_good >0) & (z_data_good != 99.9)]\n",
    "z_agn_arr_clean   = z_agn_arr[(z_agn_arr >0) & (z_agn_arr != 99.9)]"
   ]
  },
  {
   "cell_type": "code",
   "execution_count": 18,
   "metadata": {},
   "outputs": [
    {
     "data": {
      "image/png": "[encoded data removed]",
      "text/plain": [
       "<Figure size 432x288 with 2 Axes>"
      ]
     },
     "metadata": {
      "needs_background": "light"
     },
     "output_type": "display_data"
    }
   ],
   "source": [
    "##### Plot the histograms of the redshifts of the Donley selected AGN \n",
    "\n",
    "# subplots \n",
    "fig, (z_hist, z_hist_agn) = plt.subplots(1,2)\n",
    "\n",
    "## z_hist subplot\n",
    "\n",
    "# plot all redshift histogram\n",
    "z_hist.hist(z_data_good_clean, bins=np.arange(0,6,0.5), edgecolor='w', color='firebrick')\n",
    "\n",
    "# axis and titles \n",
    "z_hist.set_title('Redshift histogram of \\nall COSMOS galaxies')\n",
    "z_hist.set_xlabel('z')\n",
    "z_hist.set_ylabel('Number')\n",
    "z_hist.set_xticks([0,2,4,6])\n",
    "\n",
    "# mean \n",
    "mean_all = z_data_good_clean.mean()\n",
    "min_ylim_all, max_ylim_all = z_hist.get_ylim()\n",
    "z_hist.axvline(mean_all, color='k',linestyle='dashed')\n",
    "z_hist.text(mean_all*1.3, max_ylim_all*0.9, 'Mean: {:.2f}'.format(mean_all))\n",
    "\n",
    "## z_hist_agn subplot\n",
    "\n",
    "# plot agn redshift histogram\n",
    "z_hist_agn.hist(z_agn_arr_clean, bins=np.arange(0,6,0.5), edgecolor='w', color='firebrick')\n",
    "\n",
    "# axis and titles \n",
    "z_hist_agn.set_title('Redshift histogram of \\nDonley-selected AGN')\n",
    "z_hist_agn.set_xlabel('z')\n",
    "z_hist_agn.set_ylabel('Number')\n",
    "z_hist_agn.set_xticks([0,2,4,6])\n",
    "\n",
    "# mean \n",
    "mean_agn = z_agn_arr_clean.mean()\n",
    "min_ylim_agn, max_ylim_agn = z_hist_agn.get_ylim()\n",
    "z_hist_agn.axvline(mean_agn, color='k',linestyle='dashed')\n",
    "z_hist_agn.text(mean_agn*1.3, max_ylim_agn*0.9, 'Mean: {:.2f}'.format(mean_agn))\n",
    "\n",
    "## end subplots \n",
    "\n",
    "# formatting and save  \n",
    "plt.tight_layout()\n",
    "plt.savefig(path_fig+'\\COSMOS2020_Redshift_Histogram.png',bbox_inches =\"tight\",pad_inches=0.2,facecolor='w',edgecolor='w')\n"
   ]
  }
 ],
 "metadata": {
  "interpreter": {
   "hash": "9087279304570de5a36832bd291691fdf2a46b942e9196516ec718f5eedeadfe"
  },
  "kernelspec": {
   "display_name": "Python 3.9.12 ('py3env')",
   "language": "python",
   "name": "python3"
  },
  "language_info": {
   "codemirror_mode": {
    "name": "ipython",
    "version": 3
   },
   "file_extension": ".py",
   "mimetype": "text/x-python",
   "name": "python",
   "nbconvert_exporter": "python",
   "pygments_lexer": "ipython3",
   "version": "3.9.12"
  },
  "orig_nbformat": 4
 },
 "nbformat": 4,
 "nbformat_minor": 2
}
