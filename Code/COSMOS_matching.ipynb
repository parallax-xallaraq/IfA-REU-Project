{
 "cells": [
  {
   "cell_type": "code",
   "execution_count": 1,
   "metadata": {},
   "outputs": [],
   "source": [
    "# imports\n",
    "from astropy.io import fits\n",
    "# import matplotlib.pyplot as plt\n",
    "import numpy as np\n",
    "import csv \n",
    "import match"
   ]
  },
  {
   "cell_type": "code",
   "execution_count": 2,
   "metadata": {},
   "outputs": [],
   "source": [
    "# path variables \n",
    "path_cat = 'D:\\IfA REU\\Catalogs'\n",
    "path_fig = 'D:\\IfA REU\\IfA-REU-Project\\Figures'\n",
    "path_csv = 'D:\\IfA REU\\IfA-REU-Project\\Lists'"
   ]
  },
  {
   "cell_type": "markdown",
   "metadata": {},
   "source": [
    "# Get Catalog Data "
   ]
  },
  {
   "cell_type": "code",
   "execution_count": 3,
   "metadata": {},
   "outputs": [],
   "source": [
    "# open COSMOS 2016 catalog file and get data \n",
    "inf16 = fits.open('D:\\IfA REU\\Catalogs\\chandra_COSMOS_legacy_opt_NIR_counterparts_20160113_4d.fits')\n",
    "data16 = inf16[1].data\n",
    "cols16 = inf16[1].columns\n",
    "inf16.close()"
   ]
  },
  {
   "cell_type": "code",
   "execution_count": 4,
   "metadata": {},
   "outputs": [],
   "source": [
    "# print(cols16)"
   ]
  },
  {
   "cell_type": "code",
   "execution_count": 5,
   "metadata": {},
   "outputs": [],
   "source": [
    "# open COSMOS 2020 catalog file and get data \n",
    "inf20 = fits.open(path_cat+'\\COSMOS2020_CLASSIC_R1_v2.0_master.fits')\n",
    "data20 = inf20[1].data\n",
    "cols20 = inf20[1].columns\n",
    "inf20.close()"
   ]
  },
  {
   "cell_type": "code",
   "execution_count": 6,
   "metadata": {},
   "outputs": [],
   "source": [
    "# print(cols20)"
   ]
  },
  {
   "cell_type": "code",
   "execution_count": 7,
   "metadata": {},
   "outputs": [],
   "source": [
    "# get id columns\n",
    "id16_data = np.array(data16['id_k_uv '])\n",
    "id20_data = np.array(data20['ID_COSMOS2015'])"
   ]
  },
  {
   "cell_type": "markdown",
   "metadata": {},
   "source": [
    "# Get AGN IDs"
   ]
  },
  {
   "cell_type": "code",
   "execution_count": 42,
   "metadata": {},
   "outputs": [
    {
     "name": "stdout",
     "output_type": "stream",
     "text": [
      "['This file contains the IDs of Donley et al 2012 selected AGN from the COSMOS 2020 catalog. These lists were generated in COSMOS20_AGN_selection.ipynb. Line 1 is the ID, Line 2 is the ID_COSMOS2015.']\n"
     ]
    }
   ],
   "source": [
    "##### get the ID lists from the Donley 2012 selected AGN csv file\n",
    "\n",
    "# initialize list\n",
    "id_irAGN_csv = []\n",
    "\n",
    "# open csv file\n",
    "with open(path_csv+'\\ID_COSMOS2020_Donley2012_AGN.csv', newline='') as csv_file : \n",
    "    # read file \n",
    "    reader = csv.reader(csv_file, delimiter=',', quotechar='\"')\n",
    "    # output file into list for easy access\n",
    "    for row in reader :\n",
    "        id_irAGN_csv.append(row)\n",
    "        \n",
    "#print description\n",
    "print(id_irAGN_csv[0])\n",
    "\n",
    "# save important IDs \n",
    "id_irAGN = np.asarray(id_irAGN_csv[2],dtype=int)"
   ]
  },
  {
   "cell_type": "code",
   "execution_count": 41,
   "metadata": {},
   "outputs": [
    {
     "name": "stdout",
     "output_type": "stream",
     "text": [
      "['This file contains the IDs of X-ray selected AGN from the Chanra 2016 catalog: Col=id_k_uv.']\n"
     ]
    }
   ],
   "source": [
    "##### get the ID lists from the Donley 2012 selected AGN csv file\n",
    "\n",
    "# initialize list\n",
    "id_XrayAGN_csv = []\n",
    "\n",
    "# open csv file\n",
    "with open(path_csv+'\\ID_Chandra2016_Xray_AGN.csv', newline='') as csv_file : \n",
    "    # read file \n",
    "    reader = csv.reader(csv_file, delimiter=',', quotechar='\"')\n",
    "    # output file into list for easy access\n",
    "    for row in reader :\n",
    "        id_XrayAGN_csv.append(row)\n",
    "        \n",
    "#print description\n",
    "print(id_XrayAGN_csv[0])\n",
    "\n",
    "# save important IDs \n",
    "id_XrayAGN = np.asarray(id_XrayAGN_csv[1],dtype=int)"
   ]
  },
  {
   "cell_type": "code",
   "execution_count": 25,
   "metadata": {},
   "outputs": [
    {
     "name": "stdout",
     "output_type": "stream",
     "text": [
      "Col \t\t Min \t\t Max \t\t Count\n",
      "-------------------------------------------------------------\n",
      "ID 2020 \t -99 \t\t 1182096 \t 1720700\n",
      "DONLEY 2020 ID\t 7793 \t\t 1162566 \t 2287\n",
      "ID 2016 \t -99 \t\t 1146373 \t 4016\n",
      "X-ray 2016 ID\t 8969 \t\t 1118400 \t 2232\n"
     ]
    }
   ],
   "source": [
    "# print out info\n",
    "print('Col \\t\\t Min \\t\\t Max \\t\\t Count')\n",
    "print('-------------------------------------------------------------')\n",
    "\n",
    "print('ID 2020 \\t',         min(id20_data), '\\t\\t',   max(id20_data), '\\t',    len(id20_data))\n",
    "print('DONLEY 2020 ID\\t',   min(id_irAGN),'\\t\\t',     max(id_irAGN),'\\t',      len(id_irAGN))\n",
    "\n",
    "print('ID 2016 \\t',         min(id16_data), '\\t\\t',   max(id16_data), '\\t',    len(id16_data))\n",
    "print('X-ray 2016 ID\\t',    min(id_XrayAGN),'\\t\\t',   max(id_XrayAGN),'\\t',    len(id_XrayAGN))"
   ]
  },
  {
   "cell_type": "markdown",
   "metadata": {},
   "source": [
    "# Match Catalogs"
   ]
  },
  {
   "cell_type": "code",
   "execution_count": 26,
   "metadata": {},
   "outputs": [],
   "source": [
    "###### write id and index to csv file \n",
    "def WriteToCSV(fileName, match, key) : \n",
    "    with open(path_csv+fileName, mode='w', newline='') as csv_file:\n",
    "        writer = csv.writer(csv_file, delimiter=',', quotechar='\"', quoting=csv.QUOTE_MINIMAL)\n",
    "        \n",
    "        writer.writerow(['ID','i'])         # write column names \n",
    "        for i, v in enumerate(match) :      # fill table\n",
    "            writer.writerow([v, key[i]])"
   ]
  },
  {
   "cell_type": "code",
   "execution_count": 27,
   "metadata": {},
   "outputs": [],
   "source": [
    "##### match two arrays and return the index and key \n",
    "def MatchID(data, id) :\n",
    "    key_a, key_b = match.match(data, id)    # match the two arrays \n",
    "    i_match = data[key_a]                   # get index\n",
    "    return i_match, key_a\n"
   ]
  },
  {
   "cell_type": "markdown",
   "metadata": {},
   "source": [
    "## Match IR AGN from COSMOS 2020"
   ]
  },
  {
   "cell_type": "code",
   "execution_count": 30,
   "metadata": {},
   "outputs": [],
   "source": [
    "###### Match AGN ID (from COSMOS2020 id='ID_CHANDRA2015) to the COSMOS 2020 catalog (id='ID_CHANDRA2015) and get the index of matches\n",
    "\n",
    "# match and write \n",
    "id20_match_irAGNCOSMOS2020, keyir20 = MatchID(id20_data, id_irAGN)\n",
    "WriteToCSV('\\Match_COSMOS2020_IRAGN_to_COSMOS2020.csv', id20_match_irAGNCOSMOS2020, keyir20)\n"
   ]
  },
  {
   "cell_type": "code",
   "execution_count": 31,
   "metadata": {},
   "outputs": [],
   "source": [
    "###### Match AGN ID (from COSMOS2020 id='ID_CHANDRA2015) to the Chandra 2016 catalog (id='id_k_uv) and get the index of matches\n",
    "\n",
    "# match and write \n",
    "id16_match_irAGNCOSMOS2020, keyir16 = MatchID(id16_data, id_irAGN)\n",
    "WriteToCSV('\\Match_COSMOS2020_IRAGN_to_Chandra2016.csv', id16_match_irAGNCOSMOS2020, keyir16)\n"
   ]
  },
  {
   "cell_type": "markdown",
   "metadata": {},
   "source": [
    "## Match Xray AGN from Chandra 2016"
   ]
  },
  {
   "cell_type": "code",
   "execution_count": 34,
   "metadata": {},
   "outputs": [],
   "source": [
    "###### Match AGN ID (from Chandra 2016 id='id_k_uv') to the COSMOS 2020 catalog (id='ID_CHANDRA2015) and get the index of matches\n",
    "\n",
    "# match and write \n",
    "id20_match_XrayAGNChandra2016, keyX20 = MatchID(id20_data, id_XrayAGN)\n",
    "WriteToCSV('\\Match_Chandra2016_XrayAGN_to_COSMOS2020.csv', id20_match_XrayAGNChandra2016, keyX20)\n"
   ]
  },
  {
   "cell_type": "code",
   "execution_count": 35,
   "metadata": {},
   "outputs": [],
   "source": [
    "###### Match AGN ID (from Chandra 2016 id='id_k_uv') to the Chandra 2016 catalog (id='id_k_uv) and get the index of matches\n",
    "\n",
    "# match and write \n",
    "id16_match_XrayAGNChandra2016, keyX16 = MatchID(id16_data, id_XrayAGN)\n",
    "WriteToCSV('\\Match_Chandra2016_XrayAGN_to_Chandra2016.csv', id16_match_XrayAGNChandra2016, keyX16)\n"
   ]
  },
  {
   "cell_type": "markdown",
   "metadata": {},
   "source": [
    "## Match IR and Xray AGN"
   ]
  },
  {
   "cell_type": "code",
   "execution_count": 44,
   "metadata": {},
   "outputs": [],
   "source": [
    "###### Match the IR and Xray selected AGN \n",
    "\n",
    "# match \n",
    "id_match_agn, key = MatchID(id_irAGN, id_XrayAGN)\n",
    "\n",
    "# write to csv file \n",
    "with open(path_csv+'\\ID_Match_irCOSMOS2020_XrayChandra2016.csv', mode='w', newline='') as csv_file:\n",
    "        writer = csv.writer(csv_file, delimiter=',', quotechar='\"', quoting=csv.QUOTE_MINIMAL)\n",
    "        writer.writerow(['This file contains the IDs of matching X-ray and IR selected AGN from the Chandra 2016 and COSMOS 2020 catalogs respectivly'])\n",
    "        writer.writerow(id_match_agn)"
   ]
  },
  {
   "cell_type": "code",
   "execution_count": 48,
   "metadata": {},
   "outputs": [],
   "source": [
    "###### Match the IR and Xray agn to both COSMOS 2020 and Charndra 2016 catalogs\n",
    "\n",
    "# match\n",
    "id_match_agn_COMSOS2020,  key20 = MatchID(id20_data, id_match_agn)\n",
    "id_match_agn_Chandra2016, key16 = MatchID(id16_data, id_match_agn)\n",
    "\n",
    "# write to file \n",
    "with open(path_csv+'\\Match_COSMOS2020_IRAGN_to_Chandra2016_XrayAGN.csv', mode='w', newline='') as csv_file:\n",
    "    writer = csv.writer(csv_file, delimiter=',', quotechar='\"', quoting=csv.QUOTE_MINIMAL)\n",
    "    \n",
    "    writer.writerow(['ID','i COSMOS2020',' i CHANDRA 2016'])    # write column names \n",
    "    for i, v in enumerate(id_match_agn_COMSOS2020) :            # fill table\n",
    "        writer.writerow([v, key20[i], key16[i]])\n"
   ]
  },
  {
   "cell_type": "markdown",
   "metadata": {},
   "source": [
    "# Summary"
   ]
  },
  {
   "cell_type": "code",
   "execution_count": 49,
   "metadata": {},
   "outputs": [
    {
     "name": "stdout",
     "output_type": "stream",
     "text": [
      "IR selected AGN in COSMOS 2020:\t\t 2287\n",
      "AGN matches in COSMOS 2020:\t\t 2287\n",
      "AGN matches in Chandra 2016:\t\t 746\n",
      "------------------------------------------------\n",
      "Xray selected AGN in Chandra 2016:\t 2232\n",
      "AGN matches in COSMOS 2020:\t\t 2176\n",
      "AGN matches in Chandra 2016:\t\t 2232\n",
      "------------------------------------------------\n",
      "AGN matches between IR and Xray:\t 647\n",
      "AGN matches in COSMOS 2020:\t\t 647\n",
      "AGN matches in Chandra 2016:\t\t 647\n"
     ]
    }
   ],
   "source": [
    "print('IR selected AGN in COSMOS 2020:\\t\\t',    len(id_irAGN))\n",
    "print('AGN matches in COSMOS 2020:\\t\\t',        len(id20_match_irAGNCOSMOS2020))\n",
    "print('AGN matches in Chandra 2016:\\t\\t',       len(id16_match_irAGNCOSMOS2020))\n",
    "print('------------------------------------------------')\n",
    "print('Xray selected AGN in Chandra 2016:\\t',   len(id_XrayAGN))\n",
    "print('AGN matches in COSMOS 2020:\\t\\t',        len(id20_match_XrayAGNChandra2016))\n",
    "print('AGN matches in Chandra 2016:\\t\\t',       len(id16_match_XrayAGNChandra2016))\n",
    "print('------------------------------------------------')\n",
    "print('AGN matches between IR and Xray:\\t',     len(id_match_agn))\n",
    "print('AGN matches in COSMOS 2020:\\t\\t',        len(id_match_agn_COMSOS2020))\n",
    "print('AGN matches in Chandra 2016:\\t\\t',       len(id_match_agn_Chandra2016))\n"
   ]
  },
  {
   "cell_type": "markdown",
   "metadata": {},
   "source": [
    "# Test"
   ]
  },
  {
   "cell_type": "code",
   "execution_count": 52,
   "metadata": {},
   "outputs": [
    {
     "name": "stdout",
     "output_type": "stream",
     "text": [
      "Match_COSMOS2020_IRAGN_to_COSMOS2020\n",
      "id:\t 7793\n",
      "match:\t 7793\n",
      "Match_COSMOS2020_IRAGN_to_Chandra2016\n",
      "id:\t 100728\n",
      "match:\t 100728\n",
      "Match_Chandra2016_XrayAGN_to_COSMOS2020\n",
      "id:\t 49940\n",
      "match:\t 49940\n",
      "Match_COSMOS2020_IRAGN_to_Chandra2016\n",
      "id:\t 8969\n",
      "match:\t 8969\n",
      "Match_COSMOS2020_IRAGN_to_Chandra2016_XrayAGN\n",
      "id:\t 100728\n",
      "2020:\t 100728\n",
      "2016:\t 100728\n"
     ]
    }
   ],
   "source": [
    "##### test that the matching id index works \n",
    "\n",
    "# D:\\IfA REU\\IfA-REU-Project\\Lists\\Match_COSMOS2020_IRAGN_to_COSMOS2020.csv\n",
    "# ID,       i\n",
    "# 7793,     41682\n",
    "print('Match_COSMOS2020_IRAGN_to_COSMOS2020')\n",
    "print('id:\\t 7793')\n",
    "print('match:\\t', id20_data[41682])\n",
    "\n",
    "# D:\\IfA REU\\IfA-REU-Project\\Lists\\Match_COSMOS2020_IRAGN_to_Chandra2016.csv\n",
    "# ID,       i\n",
    "# 100728,   1866\n",
    "print('Match_COSMOS2020_IRAGN_to_Chandra2016')\n",
    "print('id:\\t 100728')\n",
    "print('match:\\t', id16_data[1866])\n",
    "\n",
    "# D:\\IfA REU\\IfA-REU-Project\\Lists\\Match_Chandra2016_XrayAGN_to_COSMOS2020.csv\n",
    "# ID,       i\n",
    "# 49940,    50154\n",
    "print('Match_Chandra2016_XrayAGN_to_COSMOS2020')\n",
    "print('id:\\t 49940')\n",
    "print('match:\\t', id20_data[50154])\n",
    "\n",
    "# D:\\IfA REU\\IfA-REU-Project\\Lists\\Match_Chandra2016_XrayAGN_to_Chandra2016.csv\n",
    "# ID,       i\n",
    "# 8969,     3654\n",
    "print('Match_COSMOS2020_IRAGN_to_Chandra2016')\n",
    "print('id:\\t 8969')\n",
    "print('match:\\t', id16_data[3654])\n",
    "\n",
    "# D:\\IfA REU\\IfA-REU-Project\\Lists\\Match_COSMOS2020_IRAGN_to_Chandra2016_XrayAGN.csv\n",
    "# ID,       i COSMOS2020,   i CHANDRA 2016\n",
    "# 100728,   61879,          1866\n",
    "print('Match_COSMOS2020_IRAGN_to_Chandra2016_XrayAGN')\n",
    "print('id:\\t 100728')\n",
    "print('2020:\\t', id20_data[61879])\n",
    "print('2016:\\t', id16_data[1866])\n"
   ]
  }
 ],
 "metadata": {
  "interpreter": {
   "hash": "9087279304570de5a36832bd291691fdf2a46b942e9196516ec718f5eedeadfe"
  },
  "kernelspec": {
   "display_name": "Python 3.9.12 ('py3env')",
   "language": "python",
   "name": "python3"
  },
  "language_info": {
   "codemirror_mode": {
    "name": "ipython",
    "version": 3
   },
   "file_extension": ".py",
   "mimetype": "text/x-python",
   "name": "python",
   "nbconvert_exporter": "python",
   "pygments_lexer": "ipython3",
   "version": "3.9.12"
  },
  "orig_nbformat": 4
 },
 "nbformat": 4,
 "nbformat_minor": 2
}
