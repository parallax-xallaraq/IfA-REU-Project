{
 "cells": [
  {
   "cell_type": "code",
   "execution_count": 1,
   "metadata": {},
   "outputs": [],
   "source": [
    "# imports\n",
    "from astropy.io import fits\n",
    "# import matplotlib.pyplot as plt\n",
    "import numpy as np\n",
    "import csv "
   ]
  },
  {
   "cell_type": "code",
   "execution_count": 2,
   "metadata": {},
   "outputs": [],
   "source": [
    "# path variables \n",
    "path_cat = 'D:\\IfA REU\\Catalogs'\n",
    "path_fig = 'D:\\IfA REU\\IfA-REU-Project\\Figures'\n",
    "path_csv = 'D:\\IfA REU\\IfA-REU-Project\\Lists'"
   ]
  },
  {
   "cell_type": "markdown",
   "metadata": {},
   "source": [
    "# Get Catalog Data "
   ]
  },
  {
   "cell_type": "code",
   "execution_count": 3,
   "metadata": {},
   "outputs": [],
   "source": [
    "# open COSMOS 2016 catalog file and get data \n",
    "inf16 = fits.open('D:\\IfA REU\\Catalogs\\chandra_COSMOS_legacy_opt_NIR_counterparts_20160113_4d.fits')\n",
    "data16 = inf16[1].data\n",
    "cols16 = inf16[1].columns\n",
    "inf16.close()"
   ]
  },
  {
   "cell_type": "code",
   "execution_count": 4,
   "metadata": {},
   "outputs": [],
   "source": [
    "# print(cols16)"
   ]
  },
  {
   "cell_type": "code",
   "execution_count": 5,
   "metadata": {},
   "outputs": [],
   "source": [
    "# open COSMOS 2020 catalog file and get data \n",
    "inf20 = fits.open(path_cat+'\\COSMOS2020_CLASSIC_R1_v2.0_master.fits')\n",
    "data20 = inf20[1].data\n",
    "cols20 = inf20[1].columns\n",
    "inf20.close()"
   ]
  },
  {
   "cell_type": "code",
   "execution_count": 6,
   "metadata": {},
   "outputs": [],
   "source": [
    "# print(cols20)"
   ]
  },
  {
   "cell_type": "code",
   "execution_count": 7,
   "metadata": {},
   "outputs": [],
   "source": [
    "# get id columns\n",
    "id16_data = np.array(data16['id_k_uv '])\n",
    "id20_data = np.array(data20['ID_COSMOS2015'])"
   ]
  },
  {
   "cell_type": "code",
   "execution_count": 17,
   "metadata": {},
   "outputs": [
    {
     "name": "stdout",
     "output_type": "stream",
     "text": [
      "['This file contains the IDs of Donley et al 2012 selected AGN from the COSMOS 2020 catalog. These lists were generated in COSMOS20_AGN_selection.ipynb. Line 1 is the ID, Line 2 is the ID_COSMOS2015.']\n",
      "First ID:  215821\n",
      "<class 'numpy.int32'>\n"
     ]
    }
   ],
   "source": [
    "##### get the ID lists from the Donley 2012 selected AGN csv file\n",
    "\n",
    "# initialize list\n",
    "id_irAGN_csv = []\n",
    "\n",
    "# open csv file\n",
    "with open(path_csv+'\\COSMOS2020_DONLEY2012_AGN.csv', newline='') as csv_file : \n",
    "    # read file \n",
    "    reader = csv.reader(csv_file, delimiter=',', quotechar='\"')\n",
    "    # output file into list for easy access\n",
    "    for row in reader :\n",
    "        id_irAGN_csv.append(row)\n",
    "    #print description\n",
    "    print(id_irAGN_csv[0])\n",
    "\n",
    "# save important IDs \n",
    "AGNid_2020 = np.asarray(id_irAGN_csv[2],dtype=int)\n",
    "print('First ID: ', AGNid_2020[0])\n",
    "print(type(AGNid_2020[0]))"
   ]
  },
  {
   "cell_type": "code",
   "execution_count": 9,
   "metadata": {},
   "outputs": [
    {
     "name": "stdout",
     "output_type": "stream",
     "text": [
      "Col \t\t Min \t\t Max \t\t Count\n",
      "-------------------------------------------------------------\n",
      "ID 2016 \t -99 \t\t 1146373 \t 4016\n",
      "ID 2020 \t -99 \t\t 1182096 \t 1720700\n",
      "DONLEY 2020 ID\t 215405 \t 991379 \t 799\n"
     ]
    }
   ],
   "source": [
    "# print out info\n",
    "print('Col \\t\\t Min \\t\\t Max \\t\\t Count')\n",
    "print('-------------------------------------------------------------')\n",
    "print('ID 2016 \\t',    min(id16_data), '\\t\\t',   max(id16_data), '\\t',    len(id16_data))\n",
    "print('ID 2020 \\t',    min(id20_data), '\\t\\t',   max(id20_data), '\\t',    len(id20_data))\n",
    "print('DONLEY 2020 ID\\t',     min(AGNid_2020),'\\t',     max(AGNid_2020),'\\t',    len(AGNid_2020))"
   ]
  },
  {
   "cell_type": "markdown",
   "metadata": {},
   "source": [
    "# Match catalogs"
   ]
  },
  {
   "cell_type": "code",
   "execution_count": 26,
   "metadata": {},
   "outputs": [],
   "source": [
    "# returns the index of the match\n",
    "def FindMatch(search, dataList) :\n",
    "\n",
    "    # search list \n",
    "    for i, value in enumerate(dataList) :\n",
    "        # if the two ids match,\n",
    "        if(search == value) : \n",
    "            # return current index\n",
    "            return(i)\n",
    "            \n",
    "    # returns -99 if there is no match.\n",
    "    return(-99)"
   ]
  },
  {
   "cell_type": "code",
   "execution_count": 27,
   "metadata": {},
   "outputs": [
    {
     "name": "stdout",
     "output_type": "stream",
     "text": [
      "[1, -99, 0]\n",
      "[2, 1, -99]\n",
      "[3, -99, 2]\n"
     ]
    }
   ],
   "source": [
    "# ##### match ID test\n",
    "\n",
    "# intitialize lists \n",
    "id_matchKey = []\n",
    "test = [1,2,3]\n",
    "t1 = [0,2,0]\n",
    "t2 = [1,0,3]\n",
    "\n",
    "# for each Donley agn\n",
    "for id in test : \n",
    "\n",
    "    # find the index\n",
    "    i16 = FindMatch(id, t1)\n",
    "    i20 = FindMatch(id, t2)\n",
    "\n",
    "    # ad id and location index to the key list \n",
    "    id_matchKey.append([id, i16, i20])\n",
    "\n",
    "    # progress\n",
    "    print([id, i16, i20])\n"
   ]
  },
  {
   "cell_type": "code",
   "execution_count": 28,
   "metadata": {},
   "outputs": [
    {
     "name": "stdout",
     "output_type": "stream",
     "text": [
      "[215821, -99, 206311]\n",
      "[215405, -99, 206362]\n",
      "[216308, -99, 207338]\n",
      "[218496, -99, 210415]\n",
      "[219599, -99, 211729]\n",
      "[221224, -99, 214321]\n",
      "[221280, -99, 214504]\n",
      "[221793, -99, 215602]\n",
      "[221933, -99, 215732]\n",
      "[222912, -99, 216933]\n",
      "[223559, -99, 218059]\n",
      "[223756, -99, 218378]\n",
      "[223968, -99, 218511]\n",
      "[224665, -99, 219968]\n",
      "[225931, -99, 221486]\n",
      "[226195, -99, 221753]\n",
      "[225978, -99, 221969]\n",
      "[226837, -99, 222904]\n",
      "[226472, -99, 223012]\n",
      "[228653, -99, 224748]\n",
      "[230426, -99, 227915]\n",
      "[234115, -99, 233290]\n",
      "[234745, -99, 235577]\n",
      "[237984, -99, 239115]\n",
      "[238114, -99, 239140]\n",
      "[239310, -99, 241587]\n",
      "[239627, -99, 241782]\n",
      "[240778, -99, 244239]\n",
      "[242674, -99, 245363]\n",
      "[241833, -99, 245435]\n",
      "[241872, -99, 245456]\n",
      "[242131, -99, 246781]\n",
      "[243027, -99, 247307]\n",
      "[244407, -99, 249714]\n",
      "[245362, -99, 251002]\n",
      "[246403, -99, 252183]\n",
      "[251243, -99, 259456]\n",
      "[251852, -99, 260537]\n",
      "[253510, -99, 263691]\n",
      "[255068, -99, 265781]\n",
      "[255419, -99, 265909]\n",
      "[256067, -99, 267132]\n",
      "[257247, -99, 268792]\n",
      "[256906, -99, 268812]\n",
      "[257108, -99, 269733]\n",
      "[257886, -99, 270522]\n",
      "[258594, -99, 271852]\n",
      "[259215, -99, 275112]\n",
      "[261822, -99, 277133]\n",
      "[262857, -99, 278402]\n",
      "[262904, -99, 278423]\n",
      "[262398, -99, 281249]\n",
      "[265974, -99, 283617]\n",
      "[266916, -99, 284543]\n",
      "[266346, -99, 284551]\n",
      "[266985, -99, 284722]\n",
      "[270303, -99, 289968]\n",
      "[271182, -99, 291466]\n",
      "[271439, -99, 291723]\n",
      "[272293, -99, 293132]\n",
      "[272738, -99, 293819]\n",
      "[273170, -99, 294528]\n",
      "[273260, -99, 294760]\n",
      "[274051, -99, 295542]\n",
      "[273594, -99, 295645]\n",
      "[273736, -99, 295669]\n",
      "[275098, -99, 297536]\n"
     ]
    },
    {
     "ename": "KeyboardInterrupt",
     "evalue": "",
     "output_type": "error",
     "traceback": [
      "\u001b[1;31m---------------------------------------------------------------------------\u001b[0m",
      "\u001b[1;31mKeyboardInterrupt\u001b[0m                         Traceback (most recent call last)",
      "\u001b[1;32md:\\IfA REU\\IfA-REU-Project\\Code\\COSMOS_matching.ipynb Cell 14'\u001b[0m in \u001b[0;36m<cell line: 7>\u001b[1;34m()\u001b[0m\n\u001b[0;32m      <a href='vscode-notebook-cell:/d%3A/IfA%20REU/IfA-REU-Project/Code/COSMOS_matching.ipynb#ch0000015?line=6'>7</a>\u001b[0m \u001b[39mfor\u001b[39;00m \u001b[39mid\u001b[39m \u001b[39min\u001b[39;00m AGNid_2020 : \n\u001b[0;32m      <a href='vscode-notebook-cell:/d%3A/IfA%20REU/IfA-REU-Project/Code/COSMOS_matching.ipynb#ch0000015?line=7'>8</a>\u001b[0m \n\u001b[0;32m      <a href='vscode-notebook-cell:/d%3A/IfA%20REU/IfA-REU-Project/Code/COSMOS_matching.ipynb#ch0000015?line=8'>9</a>\u001b[0m     \u001b[39m# find the index\u001b[39;00m\n\u001b[0;32m     <a href='vscode-notebook-cell:/d%3A/IfA%20REU/IfA-REU-Project/Code/COSMOS_matching.ipynb#ch0000015?line=9'>10</a>\u001b[0m     i16 \u001b[39m=\u001b[39m FindMatch(\u001b[39mid\u001b[39m, id16_data)\n\u001b[1;32m---> <a href='vscode-notebook-cell:/d%3A/IfA%20REU/IfA-REU-Project/Code/COSMOS_matching.ipynb#ch0000015?line=10'>11</a>\u001b[0m     i20 \u001b[39m=\u001b[39m FindMatch(\u001b[39mid\u001b[39;49m, id20_data)\n\u001b[0;32m     <a href='vscode-notebook-cell:/d%3A/IfA%20REU/IfA-REU-Project/Code/COSMOS_matching.ipynb#ch0000015?line=12'>13</a>\u001b[0m     \u001b[39m# ad id and location index to the key list \u001b[39;00m\n\u001b[0;32m     <a href='vscode-notebook-cell:/d%3A/IfA%20REU/IfA-REU-Project/Code/COSMOS_matching.ipynb#ch0000015?line=13'>14</a>\u001b[0m     id_matchKey\u001b[39m.\u001b[39mappend([\u001b[39mid\u001b[39m, i16, i20])\n",
      "\u001b[1;32md:\\IfA REU\\IfA-REU-Project\\Code\\COSMOS_matching.ipynb Cell 12'\u001b[0m in \u001b[0;36mFindMatch\u001b[1;34m(search, dataList)\u001b[0m\n\u001b[0;32m      <a href='vscode-notebook-cell:/d%3A/IfA%20REU/IfA-REU-Project/Code/COSMOS_matching.ipynb#ch0000011?line=1'>2</a>\u001b[0m \u001b[39mdef\u001b[39;00m \u001b[39mFindMatch\u001b[39m(search, dataList) :\n\u001b[0;32m      <a href='vscode-notebook-cell:/d%3A/IfA%20REU/IfA-REU-Project/Code/COSMOS_matching.ipynb#ch0000011?line=2'>3</a>\u001b[0m \n\u001b[0;32m      <a href='vscode-notebook-cell:/d%3A/IfA%20REU/IfA-REU-Project/Code/COSMOS_matching.ipynb#ch0000011?line=3'>4</a>\u001b[0m     \u001b[39m# search list \u001b[39;00m\n\u001b[1;32m----> <a href='vscode-notebook-cell:/d%3A/IfA%20REU/IfA-REU-Project/Code/COSMOS_matching.ipynb#ch0000011?line=4'>5</a>\u001b[0m     \u001b[39mfor\u001b[39;00m i, value \u001b[39min\u001b[39;00m \u001b[39menumerate\u001b[39m(dataList) :\n\u001b[0;32m      <a href='vscode-notebook-cell:/d%3A/IfA%20REU/IfA-REU-Project/Code/COSMOS_matching.ipynb#ch0000011?line=5'>6</a>\u001b[0m         \u001b[39m# if the two ids match,\u001b[39;00m\n\u001b[0;32m      <a href='vscode-notebook-cell:/d%3A/IfA%20REU/IfA-REU-Project/Code/COSMOS_matching.ipynb#ch0000011?line=6'>7</a>\u001b[0m         \u001b[39mif\u001b[39;00m(search \u001b[39m==\u001b[39m value) : \n\u001b[0;32m      <a href='vscode-notebook-cell:/d%3A/IfA%20REU/IfA-REU-Project/Code/COSMOS_matching.ipynb#ch0000011?line=7'>8</a>\u001b[0m             \u001b[39m# return current index\u001b[39;00m\n\u001b[0;32m      <a href='vscode-notebook-cell:/d%3A/IfA%20REU/IfA-REU-Project/Code/COSMOS_matching.ipynb#ch0000011?line=8'>9</a>\u001b[0m             \u001b[39mreturn\u001b[39;00m(i)\n",
      "\u001b[1;31mKeyboardInterrupt\u001b[0m: "
     ]
    }
   ],
   "source": [
    "# ##### match the given ID to the ID_COSMOS2015 in the 2020 catalog and the id_k_uv in the 2016 catalog\n",
    "\n",
    "# intitialize list \n",
    "id_matchKey = []\n",
    "\n",
    "# for each Donley agn\n",
    "for id in AGNid_2020 : \n",
    "\n",
    "    # find the index\n",
    "    i16 = FindMatch(id, id16_data)\n",
    "    i20 = FindMatch(id, id20_data)\n",
    "    \n",
    "    # ad id and location index to the key list \n",
    "    id_matchKey.append([id, i16, i20])\n",
    "\n",
    "    # progress\n",
    "    print([id, i16, i20])\n"
   ]
  },
  {
   "cell_type": "markdown",
   "metadata": {},
   "source": [
    "# TO DO\n",
    "\n",
    "1. get \"ID_CHANDRA=\" AGN IR list from COSMOS 2020 \n",
    "2. match 2020 to 2016 catalog (get IRAC data)   <--- HERE right now\n",
    "3. select AGN using XRAYS\n",
    "4. get list of ids\n",
    "5. match IR and XRAY IDs\n",
    "6. Plot IR and XRAY selected AGN on same plot using IRAC filters (i.e. IR blue dot, XRAY red x)\n",
    "\n"
   ]
  }
 ],
 "metadata": {
  "interpreter": {
   "hash": "9087279304570de5a36832bd291691fdf2a46b942e9196516ec718f5eedeadfe"
  },
  "kernelspec": {
   "display_name": "Python 3.9.12 ('py3env')",
   "language": "python",
   "name": "python3"
  },
  "language_info": {
   "codemirror_mode": {
    "name": "ipython",
    "version": 3
   },
   "file_extension": ".py",
   "mimetype": "text/x-python",
   "name": "python",
   "nbconvert_exporter": "python",
   "pygments_lexer": "ipython3",
   "version": "3.9.12"
  },
  "orig_nbformat": 4
 },
 "nbformat": 4,
 "nbformat_minor": 2
}
