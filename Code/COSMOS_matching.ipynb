{
 "cells": [
  {
   "cell_type": "code",
   "execution_count": 15,
   "metadata": {},
   "outputs": [],
   "source": [
    "# imports\n",
    "from astropy.io import fits\n",
    "# import matplotlib.pyplot as plt\n",
    "import numpy as np\n",
    "import csv \n",
    "import match"
   ]
  },
  {
   "cell_type": "code",
   "execution_count": 2,
   "metadata": {},
   "outputs": [],
   "source": [
    "# path variables \n",
    "path_cat = 'D:\\IfA REU\\Catalogs'\n",
    "path_fig = 'D:\\IfA REU\\IfA-REU-Project\\Figures'\n",
    "path_csv = 'D:\\IfA REU\\IfA-REU-Project\\Lists'"
   ]
  },
  {
   "cell_type": "markdown",
   "metadata": {},
   "source": [
    "# Get Catalog Data "
   ]
  },
  {
   "cell_type": "code",
   "execution_count": 3,
   "metadata": {},
   "outputs": [],
   "source": [
    "# open COSMOS 2016 catalog file and get data \n",
    "inf16 = fits.open('D:\\IfA REU\\Catalogs\\chandra_COSMOS_legacy_opt_NIR_counterparts_20160113_4d.fits')\n",
    "data16 = inf16[1].data\n",
    "cols16 = inf16[1].columns\n",
    "inf16.close()"
   ]
  },
  {
   "cell_type": "code",
   "execution_count": 4,
   "metadata": {},
   "outputs": [],
   "source": [
    "# print(cols16)"
   ]
  },
  {
   "cell_type": "code",
   "execution_count": 5,
   "metadata": {},
   "outputs": [],
   "source": [
    "# open COSMOS 2020 catalog file and get data \n",
    "inf20 = fits.open(path_cat+'\\COSMOS2020_CLASSIC_R1_v2.0_master.fits')\n",
    "data20 = inf20[1].data\n",
    "cols20 = inf20[1].columns\n",
    "inf20.close()"
   ]
  },
  {
   "cell_type": "code",
   "execution_count": 6,
   "metadata": {},
   "outputs": [],
   "source": [
    "# print(cols20)"
   ]
  },
  {
   "cell_type": "code",
   "execution_count": 7,
   "metadata": {},
   "outputs": [],
   "source": [
    "# get id columns\n",
    "id16_data = np.array(data16['id_k_uv '])\n",
    "id20_data = np.array(data20['ID_COSMOS2015'])"
   ]
  },
  {
   "cell_type": "code",
   "execution_count": 8,
   "metadata": {},
   "outputs": [
    {
     "name": "stdout",
     "output_type": "stream",
     "text": [
      "['This file contains the IDs of Donley et al 2012 selected AGN from the COSMOS 2020 catalog. These lists were generated in COSMOS20_AGN_selection.ipynb. Line 1 is the ID, Line 2 is the ID_COSMOS2015.']\n",
      "First ID:  44036\n",
      "<class 'numpy.int32'>\n"
     ]
    }
   ],
   "source": [
    "##### get the ID lists from the Donley 2012 selected AGN csv file\n",
    "\n",
    "# initialize list\n",
    "id_irAGN_csv = []\n",
    "\n",
    "# open csv file\n",
    "with open(path_csv+'\\COSMOS2020_DONLEY2012_AGN.csv', newline='') as csv_file : \n",
    "    # read file \n",
    "    reader = csv.reader(csv_file, delimiter=',', quotechar='\"')\n",
    "    # output file into list for easy access\n",
    "    for row in reader :\n",
    "        id_irAGN_csv.append(row)\n",
    "    #print description\n",
    "    print(id_irAGN_csv[0])\n",
    "\n",
    "# save important IDs \n",
    "AGNid_2020 = np.asarray(id_irAGN_csv[2],dtype=int)\n",
    "print('First ID: ', AGNid_2020[0])\n",
    "print(type(AGNid_2020[0]))"
   ]
  },
  {
   "cell_type": "code",
   "execution_count": 29,
   "metadata": {},
   "outputs": [
    {
     "name": "stdout",
     "output_type": "stream",
     "text": [
      "Col \t\t Min \t\t Max \t\t Count\n",
      "-------------------------------------------------------------\n",
      "ID 2016 \t -99 \t\t 1146373 \t 4016\n",
      "ID 2020 \t -99 \t\t 1182096 \t 1720700\n",
      "DONLEY 2020 ID\t 7793 \t\t 1162566 \t 2287\n"
     ]
    }
   ],
   "source": [
    "# print out info\n",
    "print('Col \\t\\t Min \\t\\t Max \\t\\t Count')\n",
    "print('-------------------------------------------------------------')\n",
    "print('ID 2016 \\t',         min(id16_data), '\\t\\t',   max(id16_data), '\\t',    len(id16_data))\n",
    "print('ID 2020 \\t',         min(id20_data), '\\t\\t',   max(id20_data), '\\t',    len(id20_data))\n",
    "print('DONLEY 2020 ID\\t',   min(AGNid_2020),'\\t\\t',   max(AGNid_2020),'\\t',    len(AGNid_2020))"
   ]
  },
  {
   "cell_type": "markdown",
   "metadata": {},
   "source": [
    "# Match Catalogs"
   ]
  },
  {
   "cell_type": "code",
   "execution_count": 10,
   "metadata": {},
   "outputs": [],
   "source": [
    "# returns the index of the match\n",
    "def FindMatch(search, dataList) :\n",
    "    # search list \n",
    "    for i, value in enumerate(dataList) :\n",
    "        # if the two ids match,\n",
    "        if(search == value) : \n",
    "            # return current index\n",
    "            return(i)      \n",
    "    # returns -99 if there is no match.\n",
    "    return(-99)"
   ]
  },
  {
   "cell_type": "code",
   "execution_count": 11,
   "metadata": {},
   "outputs": [
    {
     "name": "stdout",
     "output_type": "stream",
     "text": [
      "[1, -99, 0]\n",
      "[2, 1, -99]\n",
      "[3, -99, 2]\n"
     ]
    }
   ],
   "source": [
    "# ##### match ID test\n",
    "\n",
    "# intitialize lists \n",
    "id_matchKey = []\n",
    "test = [1,2,3]\n",
    "t1 = [0,2,0]\n",
    "t2 = [1,0,3]\n",
    "\n",
    "# for each Donley agn\n",
    "for id in test : \n",
    "\n",
    "    # find the index\n",
    "    i16 = FindMatch(id, t1)\n",
    "    i20 = FindMatch(id, t2)\n",
    "\n",
    "    # ad id and location index to the key list \n",
    "    id_matchKey.append([id, i16, i20])\n",
    "\n",
    "    # progress\n",
    "    print([id, i16, i20])\n"
   ]
  },
  {
   "cell_type": "code",
   "execution_count": 74,
   "metadata": {},
   "outputs": [
    {
     "name": "stdout",
     "output_type": "stream",
     "text": [
      "ID i\n",
      "11 1\n",
      "22 2\n",
      "55 0\n"
     ]
    }
   ],
   "source": [
    "# intitialize lists \n",
    "test = np.array([55,22,33,44,11])\n",
    "t1 = np.array([55,11,22,99,99])\n",
    "\n",
    "res1, res2 = match.match(t1, test)\n",
    "\n",
    "t1_match = t1[res1]\n",
    "test_match = test[res2]\n",
    "\n",
    "\n",
    "# print('ID: ', t1_match)\n",
    "# print('i:  ', res1)\n",
    "# print(\"====\")\n",
    "# print('ID: ', test_match)\n",
    "# print('i:  ', res2)\n",
    "\n",
    "print('ID', 'i')\n",
    "print(t1_match[0], res1[0] )\n",
    "print(t1_match[1], res1[1] )\n",
    "print(t1_match[2], res1[2] )\n",
    "\n"
   ]
  },
  {
   "cell_type": "code",
   "execution_count": 61,
   "metadata": {},
   "outputs": [],
   "source": [
    "# ###### match the given ID to the ID_COSMOS2015 in the 2020 catalog and the id_k_uv in the 2016 catalog\n",
    "# # This block takes 51min to run\n",
    "\n",
    "# # open csv file to write to \n",
    "# with open(path_csv+'\\COSMOS_match_DONLEY2012_AGN.csv', mode='w', newline='') as csv_file:\n",
    "#     writer = csv.writer(csv_file, delimiter=',', quotechar='\"', quoting=csv.QUOTE_MINIMAL)\n",
    "\n",
    "#     # write column names \n",
    "#     writer.writerow(['ID','2016','2020'])\n",
    "    \n",
    "#     # for each Donley agn ID, search for the index of the matching ID\n",
    "#     for id in AGNid_2020: \n",
    "#         # find the index\n",
    "#         i16 = FindMatch(id, id16_data)\n",
    "#         i20 = FindMatch(id, id20_data)\n",
    "#         # write id and location index \n",
    "#         writer.writerow([id, i16, i20])"
   ]
  },
  {
   "cell_type": "code",
   "execution_count": 77,
   "metadata": {},
   "outputs": [],
   "source": [
    "###### Match AGN ID (from COSMOS2020 id='ID_CHANDRA2015) to the COSMOS 2020 catalog (id='ID_CHANDRA2015) and get the index of matches\n",
    "\n",
    "# match \n",
    "agn20_a, agn20_b = match.match(id20_data, AGNid_2020)\n",
    "\n",
    "# get i\n",
    "id20_match20 = id20_data[agn20_a]\n",
    "\n",
    "with open(path_csv+'\\Match_AGNID_COSMOS2020.csv', mode='w', newline='') as csv_file:\n",
    "    writer = csv.writer(csv_file, delimiter=',', quotechar='\"', quoting=csv.QUOTE_MINIMAL)\n",
    "\n",
    "    # write column names \n",
    "    writer.writerow(['ID','2020'])\n",
    "\n",
    "    # fill table \n",
    "    for i, v in enumerate(id20_match20) :\n",
    "        writer.writerow([v, agn20_a[i]])"
   ]
  },
  {
   "cell_type": "code",
   "execution_count": 78,
   "metadata": {},
   "outputs": [],
   "source": [
    "###### Match AGN ID (from COSMOS2020 id='ID_CHANDRA2015) to the Chandra 2016 catalog (id='id_k_uv) and get the index of matches\n",
    "\n",
    "# match \n",
    "agn16_a, agn16_b = match.match(id16_data, AGNid_2020)\n",
    "\n",
    "# get i \n",
    "id16_match16 = id16_data[agn16_a]\n",
    "\n",
    "with open(path_csv+'\\Match_AGNID_Chandra2016.csv', mode='w', newline='') as csv_file:\n",
    "    writer = csv.writer(csv_file, delimiter=',', quotechar='\"', quoting=csv.QUOTE_MINIMAL)\n",
    "\n",
    "    # write column names \n",
    "    writer.writerow(['ID','2016'])\n",
    "\n",
    "    # fill table \n",
    "    for i, v in enumerate(id16_match16) :\n",
    "        writer.writerow([v, agn16_a[i]])"
   ]
  },
  {
   "cell_type": "code",
   "execution_count": 80,
   "metadata": {},
   "outputs": [
    {
     "name": "stdout",
     "output_type": "stream",
     "text": [
      "AGN matches in COSMOS 2020:\t 2287\n",
      "AGN matches in Chandra 2016:\t 746\n"
     ]
    }
   ],
   "source": [
    "print('AGN matches in COSMOS 2020:\\t',  len(id20_match20))\n",
    "print('AGN matches in Chandra 2016:\\t', len(id16_match16))"
   ]
  },
  {
   "cell_type": "markdown",
   "metadata": {},
   "source": [
    "# TO DO\n",
    "\n",
    "1. get \"ID_CHANDRA=\" AGN IR list from COSMOS 2020 \n",
    "2. match 2020 to 2016 catalog (get IRAC data)   <--- HERE right now\n",
    "3. select AGN using XRAYS\n",
    "4. get list of ids\n",
    "5. match IR and XRAY IDs\n",
    "6. Plot IR and XRAY selected AGN on same plot using IRAC filters (i.e. IR blue dot, XRAY red x)\n",
    "\n"
   ]
  }
 ],
 "metadata": {
  "interpreter": {
   "hash": "9087279304570de5a36832bd291691fdf2a46b942e9196516ec718f5eedeadfe"
  },
  "kernelspec": {
   "display_name": "Python 3.9.12 ('py3env')",
   "language": "python",
   "name": "python3"
  },
  "language_info": {
   "codemirror_mode": {
    "name": "ipython",
    "version": 3
   },
   "file_extension": ".py",
   "mimetype": "text/x-python",
   "name": "python",
   "nbconvert_exporter": "python",
   "pygments_lexer": "ipython3",
   "version": "3.9.12"
  },
  "orig_nbformat": 4
 },
 "nbformat": 4,
 "nbformat_minor": 2
}
