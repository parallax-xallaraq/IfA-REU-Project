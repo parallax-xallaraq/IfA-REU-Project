{
 "cells": [
  {
   "cell_type": "code",
   "execution_count": 2,
   "metadata": {},
   "outputs": [],
   "source": [
    "# imports\n",
    "from astropy.io import fits\n",
    "# import matplotlib.pyplot as plt\n",
    "import numpy as np\n",
    "import csv "
   ]
  },
  {
   "cell_type": "code",
   "execution_count": 3,
   "metadata": {},
   "outputs": [],
   "source": [
    "# path variables \n",
    "path_cat = 'D:\\IfA REU\\Catalogs'\n",
    "path_fig = 'D:\\IfA REU\\IfA-REU-Project\\Figures'\n",
    "path_csv = 'D:\\IfA REU\\IfA-REU-Project\\Lists'"
   ]
  },
  {
   "cell_type": "markdown",
   "metadata": {},
   "source": [
    "# Get Catalog Data "
   ]
  },
  {
   "cell_type": "code",
   "execution_count": 4,
   "metadata": {},
   "outputs": [],
   "source": [
    "# open COSMOS 2016 catalog file and get data \n",
    "inf16 = fits.open('D:\\IfA REU\\Catalogs\\chandra_COSMOS_legacy_opt_NIR_counterparts_20160113_4d.fits')\n",
    "data16 = inf16[1].data\n",
    "cols16 = inf16[1].columns\n",
    "inf16.close()"
   ]
  },
  {
   "cell_type": "code",
   "execution_count": 5,
   "metadata": {},
   "outputs": [],
   "source": [
    "# print(cols16)"
   ]
  },
  {
   "cell_type": "code",
   "execution_count": 6,
   "metadata": {},
   "outputs": [],
   "source": [
    "# open COSMOS 2020 catalog file and get data \n",
    "inf20 = fits.open(path_cat+'\\COSMOS2020_CLASSIC_R1_v2.0_master.fits')\n",
    "data20 = inf20[1].data\n",
    "cols20 = inf20[1].columns\n",
    "inf20.close()"
   ]
  },
  {
   "cell_type": "code",
   "execution_count": 7,
   "metadata": {},
   "outputs": [],
   "source": [
    "# print(cols20)"
   ]
  },
  {
   "cell_type": "code",
   "execution_count": 8,
   "metadata": {},
   "outputs": [],
   "source": [
    "# get id columns\n",
    "id16_data = np.array(data16['id_k_uv '])\n",
    "id20_data = np.array(data20['ID_COSMOS2015'])"
   ]
  },
  {
   "cell_type": "code",
   "execution_count": 9,
   "metadata": {},
   "outputs": [
    {
     "name": "stdout",
     "output_type": "stream",
     "text": [
      "[455942 704286 470092 ... 287869 313813 378385]\n",
      "[-99 -99 -99 ... -99 -99 -99]\n"
     ]
    }
   ],
   "source": [
    "print(id16_data)\n",
    "print(id20_data)"
   ]
  },
  {
   "cell_type": "code",
   "execution_count": 10,
   "metadata": {},
   "outputs": [
    {
     "name": "stdout",
     "output_type": "stream",
     "text": [
      "['This file contains the IDs of Donley et al 2012 selected AGN from the COSMOS 2020 catalog. These lists were generated in COSMOS20_AGN_selection.ipynb. Line 1 is the ID, Line 2 is the ID_COSMOS2015.']\n"
     ]
    }
   ],
   "source": [
    "##### get the ID lists from the Donley 2012 selected AGN csv file\n",
    "\n",
    "# initialize list\n",
    "id_irAGN_csv = []\n",
    "\n",
    "# open csv file\n",
    "with open(path_csv+'\\COSMOS2020_DONLEY2012_AGN.csv', newline='') as csv_file : \n",
    "    # read file \n",
    "    reader = csv.reader(csv_file, delimiter=',', quotechar='\"')\n",
    "    # output file into list for easy access\n",
    "    for row in reader :\n",
    "        id_irAGN_csv.append(row)\n",
    "    #print description\n",
    "    print(id_irAGN_csv[0])\n",
    "\n",
    "# save important IDs \n",
    "AGNid_2020 = id_irAGN_csv[2]"
   ]
  },
  {
   "cell_type": "code",
   "execution_count": 11,
   "metadata": {},
   "outputs": [],
   "source": [
    "# print(data16[0])"
   ]
  },
  {
   "cell_type": "markdown",
   "metadata": {},
   "source": [
    "# Match catalogs"
   ]
  },
  {
   "cell_type": "code",
   "execution_count": 12,
   "metadata": {},
   "outputs": [],
   "source": [
    "# returns the index of the match\n",
    "def FindMatch(search, dataList) :\n",
    "\n",
    "    # initialize index\n",
    "    i = 0\n",
    "    i_match = -99\n",
    "\n",
    "    # search list \n",
    "    for value in dataList :\n",
    "        # if the two ids match,\n",
    "        if(search == value) : \n",
    "            i_match = i # save current index \n",
    "            break       # stop searching \n",
    "        else : \n",
    "            # increment index and keep searching \n",
    "            i = i + 1\n",
    "\n",
    "    # returns the list index if there is a match...\n",
    "    # returns -99 if there is no match.\n",
    "    return(i_match)"
   ]
  },
  {
   "cell_type": "code",
   "execution_count": 13,
   "metadata": {},
   "outputs": [
    {
     "name": "stdout",
     "output_type": "stream",
     "text": [
      "[1, -99, 0]\n",
      "[2, 1, -99]\n",
      "[3, -99, 2]\n"
     ]
    }
   ],
   "source": [
    "# ##### match ID test\n",
    "\n",
    "# intitialize lists \n",
    "id_matchKey = []\n",
    "test = [1,2,3]\n",
    "t1 = [0,2,0]\n",
    "t2 = [1,0,3]\n",
    "\n",
    "# for each Donley agn\n",
    "for id in test : \n",
    "\n",
    "    # find the index\n",
    "    i16 = FindMatch(id, t1)\n",
    "    i20 = FindMatch(id, t2)\n",
    "\n",
    "    # ad id and location index to the key list \n",
    "    id_matchKey.append([id, i16, i20])\n",
    "\n",
    "    # progress\n",
    "    print([id, i16, i20])\n"
   ]
  },
  {
   "cell_type": "code",
   "execution_count": 14,
   "metadata": {},
   "outputs": [
    {
     "name": "stdout",
     "output_type": "stream",
     "text": [
      "['215821', -99, -99]\n",
      "['215405', -99, -99]\n",
      "['216308', -99, -99]\n",
      "['218496', -99, -99]\n",
      "['219599', -99, -99]\n",
      "['221224', -99, -99]\n",
      "['221280', -99, -99]\n",
      "['221793', -99, -99]\n",
      "['221933', -99, -99]\n",
      "['222912', -99, -99]\n",
      "['223559', -99, -99]\n",
      "['223756', -99, -99]\n",
      "['223968', -99, -99]\n",
      "['224665', -99, -99]\n",
      "['225931', -99, -99]\n",
      "['226195', -99, -99]\n",
      "['225978', -99, -99]\n",
      "['226837', -99, -99]\n",
      "['226472', -99, -99]\n",
      "['228653', -99, -99]\n",
      "['230426', -99, -99]\n",
      "['234115', -99, -99]\n",
      "['234745', -99, -99]\n"
     ]
    },
    {
     "ename": "KeyboardInterrupt",
     "evalue": "",
     "output_type": "error",
     "traceback": [
      "\u001b[1;31m---------------------------------------------------------------------------\u001b[0m",
      "\u001b[1;31mKeyboardInterrupt\u001b[0m                         Traceback (most recent call last)",
      "\u001b[1;32md:\\IfA REU\\IfA-REU-Project\\Code\\COSMOS_matching.ipynb Cell 15'\u001b[0m in \u001b[0;36m<cell line: 7>\u001b[1;34m()\u001b[0m\n\u001b[0;32m      <a href='vscode-notebook-cell:/d%3A/IfA%20REU/IfA-REU-Project/Code/COSMOS_matching.ipynb#ch0000017?line=6'>7</a>\u001b[0m \u001b[39mfor\u001b[39;00m \u001b[39mid\u001b[39m \u001b[39min\u001b[39;00m AGNid_2020 : \n\u001b[0;32m      <a href='vscode-notebook-cell:/d%3A/IfA%20REU/IfA-REU-Project/Code/COSMOS_matching.ipynb#ch0000017?line=7'>8</a>\u001b[0m \n\u001b[0;32m      <a href='vscode-notebook-cell:/d%3A/IfA%20REU/IfA-REU-Project/Code/COSMOS_matching.ipynb#ch0000017?line=8'>9</a>\u001b[0m     \u001b[39m# find the index\u001b[39;00m\n\u001b[0;32m     <a href='vscode-notebook-cell:/d%3A/IfA%20REU/IfA-REU-Project/Code/COSMOS_matching.ipynb#ch0000017?line=9'>10</a>\u001b[0m     i16 \u001b[39m=\u001b[39m FindMatch(\u001b[39mid\u001b[39m, id16_data)\n\u001b[1;32m---> <a href='vscode-notebook-cell:/d%3A/IfA%20REU/IfA-REU-Project/Code/COSMOS_matching.ipynb#ch0000017?line=10'>11</a>\u001b[0m     i20 \u001b[39m=\u001b[39m FindMatch(\u001b[39mid\u001b[39;49m, id20_data)\n\u001b[0;32m     <a href='vscode-notebook-cell:/d%3A/IfA%20REU/IfA-REU-Project/Code/COSMOS_matching.ipynb#ch0000017?line=12'>13</a>\u001b[0m     \u001b[39m# ad id and location index to the key list \u001b[39;00m\n\u001b[0;32m     <a href='vscode-notebook-cell:/d%3A/IfA%20REU/IfA-REU-Project/Code/COSMOS_matching.ipynb#ch0000017?line=13'>14</a>\u001b[0m     id_matchKey\u001b[39m.\u001b[39mappend([\u001b[39mid\u001b[39m, i16, i20])\n",
      "\u001b[1;32md:\\IfA REU\\IfA-REU-Project\\Code\\COSMOS_matching.ipynb Cell 13'\u001b[0m in \u001b[0;36mFindMatch\u001b[1;34m(search, dataList)\u001b[0m\n\u001b[0;32m     <a href='vscode-notebook-cell:/d%3A/IfA%20REU/IfA-REU-Project/Code/COSMOS_matching.ipynb#ch0000016?line=12'>13</a>\u001b[0m         \u001b[39mbreak\u001b[39;00m       \u001b[39m# stop searching \u001b[39;00m\n\u001b[0;32m     <a href='vscode-notebook-cell:/d%3A/IfA%20REU/IfA-REU-Project/Code/COSMOS_matching.ipynb#ch0000016?line=13'>14</a>\u001b[0m     \u001b[39melse\u001b[39;00m : \n\u001b[0;32m     <a href='vscode-notebook-cell:/d%3A/IfA%20REU/IfA-REU-Project/Code/COSMOS_matching.ipynb#ch0000016?line=14'>15</a>\u001b[0m         \u001b[39m# increment index and keep searching \u001b[39;00m\n\u001b[1;32m---> <a href='vscode-notebook-cell:/d%3A/IfA%20REU/IfA-REU-Project/Code/COSMOS_matching.ipynb#ch0000016?line=15'>16</a>\u001b[0m         i \u001b[39m=\u001b[39m i \u001b[39m+\u001b[39m \u001b[39m1\u001b[39m\n\u001b[0;32m     <a href='vscode-notebook-cell:/d%3A/IfA%20REU/IfA-REU-Project/Code/COSMOS_matching.ipynb#ch0000016?line=17'>18</a>\u001b[0m \u001b[39m# returns the list index if there is a match...\u001b[39;00m\n\u001b[0;32m     <a href='vscode-notebook-cell:/d%3A/IfA%20REU/IfA-REU-Project/Code/COSMOS_matching.ipynb#ch0000016?line=18'>19</a>\u001b[0m \u001b[39m# returns -99 if there is no match.\u001b[39;00m\n\u001b[0;32m     <a href='vscode-notebook-cell:/d%3A/IfA%20REU/IfA-REU-Project/Code/COSMOS_matching.ipynb#ch0000016?line=19'>20</a>\u001b[0m \u001b[39mreturn\u001b[39;00m(i_match)\n",
      "\u001b[1;31mKeyboardInterrupt\u001b[0m: "
     ]
    }
   ],
   "source": [
    "# ##### match the given ID to the ID_COSMOS2015 in the 2020 catalog and the id_k_uv in the 2016 catalog\n",
    "\n",
    "# intitialize list \n",
    "id_matchKey = []\n",
    "\n",
    "# for each Donley agn\n",
    "for id in AGNid_2020 : \n",
    "\n",
    "    # find the index\n",
    "    i16 = FindMatch(id, id16_data)\n",
    "    i20 = FindMatch(id, id20_data)\n",
    "    \n",
    "    # ad id and location index to the key list \n",
    "    id_matchKey.append([id, i16, i20])\n",
    "\n",
    "    # progress\n",
    "    print([id, i16, i20])\n"
   ]
  },
  {
   "cell_type": "code",
   "execution_count": null,
   "metadata": {},
   "outputs": [],
   "source": [
    "listTest = []\n",
    "\n",
    "listTest.append( [1,2,3])\n",
    "listTest.append( ['a', 'b', 'c'])\n",
    "\n",
    "print(listTest)\n",
    "print(listTest[1][1])\n",
    "\n"
   ]
  },
  {
   "cell_type": "markdown",
   "metadata": {},
   "source": [
    "# TO DO\n",
    "\n",
    "1. get \"ID_CHANDRA=\" AGN IR list from COSMOS 2020 \n",
    "2. match 2020 to 2016 catalog (get IRAC data)\n",
    "3. select AGN using XRAYS\n",
    "4. get list of ids\n",
    "5. match IR and XRAY IDs\n",
    "6. Plot IR and XRAY selected AGN on same plot using IRAC filters (i.e. IR blue dot, XRAY red x)\n",
    "\n"
   ]
  }
 ],
 "metadata": {
  "interpreter": {
   "hash": "9087279304570de5a36832bd291691fdf2a46b942e9196516ec718f5eedeadfe"
  },
  "kernelspec": {
   "display_name": "Python 3.9.12 ('py3env')",
   "language": "python",
   "name": "python3"
  },
  "language_info": {
   "codemirror_mode": {
    "name": "ipython",
    "version": 3
   },
   "file_extension": ".py",
   "mimetype": "text/x-python",
   "name": "python",
   "nbconvert_exporter": "python",
   "pygments_lexer": "ipython3",
   "version": "3.9.12"
  },
  "orig_nbformat": 4
 },
 "nbformat": 4,
 "nbformat_minor": 2
}
