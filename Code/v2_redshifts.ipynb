{
 "cells": [
  {
   "cell_type": "code",
   "execution_count": 1,
   "metadata": {},
   "outputs": [],
   "source": [
    "# # IMPORTS\n",
    "# astronomy\n",
    "from astropy.io import fits\n",
    "# plotting \n",
    "from matplotlib.ticker import (MultipleLocator, AutoMinorLocator)\n",
    "import matplotlib.pyplot as plt\n",
    "import matplotlib as mpl\n",
    "# data \n",
    "import numpy as np\n",
    "# file IO\n",
    "import csv\n",
    "# my python files \n",
    "import match\n",
    "import v2_AGN_DataAndPlotting as adp"
   ]
  },
  {
   "cell_type": "markdown",
   "metadata": {},
   "source": [
    "# Read Data"
   ]
  },
  {
   "cell_type": "code",
   "execution_count": 2,
   "metadata": {},
   "outputs": [],
   "source": [
    "def PrintNumber(myList) : \n",
    "    # make list of AGN names for printting info \n",
    "    agnTypeNames = ['MIR:\\t', 'Xray:\\t']\n",
    "    # print name and number of items in list \n",
    "    for name, row in zip(agnTypeNames, myList) : \n",
    "        print(name, row.shape)\n",
    "\n",
    "# constants for AGN type index\n",
    "MIR  = 0    \n",
    "XRAY = 1"
   ]
  },
  {
   "cell_type": "code",
   "execution_count": 3,
   "metadata": {},
   "outputs": [
    {
     "name": "stdout",
     "output_type": "stream",
     "text": [
      "Cropped:  ['Row 1 = MIR selected AGN (Donley et al, 2012) with id, redshift, IRAC, and 24um (n=900). Row 2 = X-ray selected AGN (Lx > 10^43 erg/s) with id, redshift, IRAC, and 24um (n=1775). ']\n"
     ]
    }
   ],
   "source": [
    "# read AGN IDs\n",
    "agnIDs = adp.ReadFile(adp.path_csv+'\\\\v2_AGNid_Xray_MIR.csv')\n",
    "\n",
    "# convert agnIDs into list of integer numpy arrays \n",
    "agnIDs_npArray = []\n",
    "for row in agnIDs : \n",
    "    agnIDs_npArray.append(np.array(row, dtype=int))"
   ]
  },
  {
   "cell_type": "code",
   "execution_count": 4,
   "metadata": {},
   "outputs": [
    {
     "name": "stdout",
     "output_type": "stream",
     "text": [
      "Cropped:  ['ID', 'z']\n",
      "Number of sources w/ z: 485793\n"
     ]
    }
   ],
   "source": [
    "# read redshifts\n",
    "zAll = np.array(adp.ReadFile(adp.path_cat+'\\COSMOS_z_matches.csv'))\n",
    "zID, zZ = zAll.T\n",
    "# get correct data type\n",
    "zID = np.array(zID, dtype=int)\n",
    "zZ  = np.array(zZ,  dtype=float)\n",
    "# apply mask to remove bad redshifts\n",
    "mask_z = (zZ >= 0) & (zZ < 99)\n",
    "zID = zID[mask_z]\n",
    "zZ  = zZ[mask_z]\n",
    "# print info\n",
    "print('Number of sources w/ z:', len(zID))"
   ]
  },
  {
   "cell_type": "code",
   "execution_count": 5,
   "metadata": {},
   "outputs": [
    {
     "name": "stdout",
     "output_type": "stream",
     "text": [
      "MIR:\t (900,)\n",
      "Xray:\t (1775,)\n"
     ]
    }
   ],
   "source": [
    "agn_z = []\n",
    "agn_ID_wZ = []\n",
    "\n",
    "for row in agnIDs_npArray : \n",
    "    # match redshift against AGN IDs\n",
    "    key_z_agn, key_agn_z = match.match(zID, row)\n",
    "    # get redshift array for AGN\n",
    "    agn_z.append(zZ[key_z_agn])\n",
    "    # get AGN ID arrays w/ redshifts\n",
    "    agn_ID_wZ.append(row[key_agn_z])\n",
    "\n",
    "PrintNumber(agn_z)"
   ]
  },
  {
   "cell_type": "markdown",
   "metadata": {},
   "source": [
    "# Make Redshift Histogram "
   ]
  },
  {
   "cell_type": "code",
   "execution_count": 6,
   "metadata": {},
   "outputs": [],
   "source": [
    "def MeanLineForHist(x,c='k',xtext=0.998, ytext=0.94, horizAlign='right') :\n",
    "    mean = np.array(x).mean()\n",
    "    min_ylim, max_ylim = plt.ylim()\n",
    "    plt.axvline(mean, color=c, linestyle='dashed', linewidth=2)\n",
    "    plt.text(mean*xtext, max_ylim*ytext, 'Mean: {:.1f}'.format(mean), c=c, horizontalalignment=horizAlign)"
   ]
  },
  {
   "cell_type": "code",
   "execution_count": 13,
   "metadata": {},
   "outputs": [],
   "source": [
    "def RedshiftHist_one(\n",
    "    x,\n",
    "    c,\n",
    "    saveStr=''\n",
    "):\n",
    "    # set style\n",
    "    adp.SetStyle()\n",
    "\n",
    "    # plot\n",
    "    plt.hist(x, bins=np.arange(0,7,0.25), color=c)\n",
    "\n",
    "    # set height to +10% max value\n",
    "    min_ylim, max_ylim = plt.ylim()\n",
    "    plt.ylim(ymin=0, ymax=max_ylim+0.1*max_ylim)\n",
    "\n",
    "    # plot mean line\n",
    "    MeanLineForHist(x,xtext=1.05, horizAlign='left')\n",
    "\n",
    "    # ticks\n",
    "    ax = plt.gca()\n",
    "    ax.xaxis.set_minor_locator(AutoMinorLocator(4))\n",
    "    ax.yaxis.set_minor_locator(AutoMinorLocator(2))\n",
    "\n",
    "    # set axis lables\n",
    "    plt.xlabel('z')\n",
    "    plt.ylabel('Number')\n",
    "\n",
    "    # save\n",
    "    if(saveStr) :\n",
    "        adp.Save(saveStr)\n",
    "\n",
    "    # finish plot\n",
    "    plt.show()\n",
    "\n",
    "    # output data\n",
    "    print('Number of soruces:\\t', len(x))\n",
    "    print('Minimum:\\t\\t', min(x))\n",
    "    print('Maximum:\\t\\t', max(x))"
   ]
  },
  {
   "cell_type": "code",
   "execution_count": 14,
   "metadata": {},
   "outputs": [
    {
     "data": {
      "image/png": "[encoded data removed]",
      "text/plain": [
       "<Figure size 900x600 with 1 Axes>"
      ]
     },
     "metadata": {
      "needs_background": "light"
     },
     "output_type": "display_data"
    },
    {
     "name": "stdout",
     "output_type": "stream",
     "text": [
      "Number of soruces:\t 1775\n",
      "Minimum:\t\t 0.104\n",
      "Maximum:\t\t 6.062\n"
     ]
    }
   ],
   "source": [
    "# X-ray selected AGN \n",
    "RedshiftHist_one(agn_z[XRAY], c=adp.c_xray, saveStr=adp.path_fig+'\\\\v2_zhist_XraySelected.png')"
   ]
  },
  {
   "cell_type": "code",
   "execution_count": 15,
   "metadata": {},
   "outputs": [
    {
     "data": {
      "image/png": "[encoded data removed]",
      "text/plain": [
       "<Figure size 900x600 with 1 Axes>"
      ]
     },
     "metadata": {
      "needs_background": "light"
     },
     "output_type": "display_data"
    },
    {
     "name": "stdout",
     "output_type": "stream",
     "text": [
      "Number of soruces:\t 900\n",
      "Minimum:\t\t 0.0\n",
      "Maximum:\t\t 6.062\n"
     ]
    }
   ],
   "source": [
    "# MIR selected AGN \n",
    "RedshiftHist_one(agn_z[MIR], c=adp.c_ir, saveStr=adp.path_fig+'\\\\v2_zhist_MIRSelected.png')"
   ]
  },
  {
   "cell_type": "code",
   "execution_count": null,
   "metadata": {},
   "outputs": [],
   "source": []
  }
 ],
 "metadata": {
  "kernelspec": {
   "display_name": "Python 3.9.12 ('py3env')",
   "language": "python",
   "name": "python3"
  },
  "language_info": {
   "codemirror_mode": {
    "name": "ipython",
    "version": 3
   },
   "file_extension": ".py",
   "mimetype": "text/x-python",
   "name": "python",
   "nbconvert_exporter": "python",
   "pygments_lexer": "ipython3",
   "version": "3.9.12"
  },
  "orig_nbformat": 4,
  "vscode": {
   "interpreter": {
    "hash": "9087279304570de5a36832bd291691fdf2a46b942e9196516ec718f5eedeadfe"
   }
  }
 },
 "nbformat": 4,
 "nbformat_minor": 2
}
