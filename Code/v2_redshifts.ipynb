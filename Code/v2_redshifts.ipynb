{
 "cells": [
  {
   "cell_type": "code",
   "execution_count": 14,
   "metadata": {},
   "outputs": [],
   "source": [
    "# # IMPORTS\n",
    "# astronomy\n",
    "from astropy.io import fits\n",
    "# plotting \n",
    "from matplotlib.ticker import (MultipleLocator, AutoMinorLocator)\n",
    "import matplotlib.pyplot as plt\n",
    "import matplotlib as mpl\n",
    "# data \n",
    "import numpy as np\n",
    "# file IO\n",
    "import csv\n",
    "# my python files \n",
    "import match\n",
    "import v2_AGN_DataAndPlotting as adp"
   ]
  },
  {
   "cell_type": "markdown",
   "metadata": {},
   "source": [
    "# Read Data"
   ]
  },
  {
   "cell_type": "code",
   "execution_count": 15,
   "metadata": {},
   "outputs": [],
   "source": [
    "def PrintNumber(myList) : \n",
    "    # make list of AGN names for printting info \n",
    "    agnTypeNames = ['MIR:\\t', 'Xray:\\t']\n",
    "    # print name and number of items in list \n",
    "    for name, row in zip(agnTypeNames, myList) : \n",
    "        print(name, row.shape)\n",
    "\n",
    "# constants for AGN type index\n",
    "MIR  = 0    \n",
    "XRAY = 1"
   ]
  },
  {
   "cell_type": "code",
   "execution_count": 16,
   "metadata": {},
   "outputs": [
    {
     "name": "stdout",
     "output_type": "stream",
     "text": [
      "Cropped:  ['Row 1 = MIR selected AGN (Donley et al, 2012) with id, redshift, IRAC, and 24um (n=900). Row 2 = X-ray selected AGN (Lx > 10^43 erg/s) with id, redshift, IRAC, and 24um (n=1775). ']\n"
     ]
    }
   ],
   "source": [
    "# read AGN IDs\n",
    "agnIDs = adp.ReadFile(adp.path_csv+'\\\\v2_AGNid_Xray_MIR.csv')\n",
    "\n",
    "# convert agnIDs into list of integer numpy arrays \n",
    "agnIDs_npArray = []\n",
    "for row in agnIDs : \n",
    "    agnIDs_npArray.append(np.array(row, dtype=int))"
   ]
  },
  {
   "cell_type": "code",
   "execution_count": 17,
   "metadata": {},
   "outputs": [
    {
     "name": "stdout",
     "output_type": "stream",
     "text": [
      "Cropped:  ['ID', 'z']\n",
      "Number of sources w/ z: 485793\n"
     ]
    }
   ],
   "source": [
    "# read redshifts\n",
    "zAll = np.array(adp.ReadFile(adp.path_cat+'\\COSMOS_z_matches.csv'))\n",
    "zID, zZ = zAll.T\n",
    "# get correct data type\n",
    "zID = np.array(zID, dtype=int)\n",
    "zZ  = np.array(zZ,  dtype=float)\n",
    "# apply mask to remove bad redshifts\n",
    "mask_z = (zZ >= 0) & (zZ < 99)\n",
    "zID = zID[mask_z]\n",
    "zZ  = zZ[mask_z]\n",
    "# print info\n",
    "print('Number of sources w/ z:', len(zID))"
   ]
  },
  {
   "cell_type": "code",
   "execution_count": 18,
   "metadata": {},
   "outputs": [
    {
     "name": "stdout",
     "output_type": "stream",
     "text": [
      "MIR:\t (900,)\n",
      "Xray:\t (1775,)\n"
     ]
    }
   ],
   "source": [
    "agn_z = []\n",
    "agn_ID_wZ = []\n",
    "\n",
    "for row in agnIDs_npArray : \n",
    "    # match redshift against AGN IDs\n",
    "    key_z_agn, key_agn_z = match.match(zID, row)\n",
    "    # get redshift array for AGN\n",
    "    agn_z.append(zZ[key_z_agn])\n",
    "    # get AGN ID arrays w/ redshifts\n",
    "    agn_ID_wZ.append(row[key_agn_z])\n",
    "\n",
    "PrintNumber(agn_z)"
   ]
  },
  {
   "attachments": {},
   "cell_type": "markdown",
   "metadata": {},
   "source": [
    "# Make Redshift Histogram For Big Samples"
   ]
  },
  {
   "cell_type": "code",
   "execution_count": 19,
   "metadata": {},
   "outputs": [],
   "source": [
    "def MeanLineForHist(x,c='k',xtext=0.998, ytext=0.94, horizAlign='right') :\n",
    "    mean = np.array(x).mean()\n",
    "    min_ylim, max_ylim = plt.ylim()\n",
    "    plt.axvline(mean, color=c, linestyle='dashed', linewidth=2)\n",
    "    plt.text(mean*xtext, max_ylim*ytext, 'Mean: {:.1f}'.format(mean), c=c, horizontalalignment=horizAlign)"
   ]
  },
  {
   "cell_type": "code",
   "execution_count": 20,
   "metadata": {},
   "outputs": [],
   "source": [
    "def RedshiftHist_one(\n",
    "    x,\n",
    "    c,\n",
    "    saveStr=''\n",
    "):\n",
    "    # set style\n",
    "    adp.SetStyle()\n",
    "\n",
    "    # plot\n",
    "    plt.hist(x, bins=np.arange(0,7,0.25), color=c)\n",
    "\n",
    "    # set height to +10% max value\n",
    "    min_ylim, max_ylim = plt.ylim()\n",
    "    plt.ylim(ymin=0, ymax=max_ylim+0.1*max_ylim)\n",
    "\n",
    "    # plot mean line\n",
    "    MeanLineForHist(x,xtext=1.05, horizAlign='left')\n",
    "\n",
    "    # ticks\n",
    "    ax = plt.gca()\n",
    "    ax.xaxis.set_minor_locator(AutoMinorLocator(4))\n",
    "    ax.yaxis.set_minor_locator(AutoMinorLocator(2))\n",
    "\n",
    "    # set axis lables\n",
    "    plt.xlabel('z')\n",
    "    plt.ylabel('Number')\n",
    "\n",
    "    # save\n",
    "    if(saveStr) :\n",
    "        adp.Save(saveStr)\n",
    "\n",
    "    # finish plot\n",
    "    plt.show()\n",
    "\n",
    "    # output data\n",
    "    print('Number of soruces:\\t', len(x))\n",
    "    print('Minimum:\\t\\t', min(x))\n",
    "    print('Maximum:\\t\\t', max(x))"
   ]
  },
  {
   "cell_type": "code",
   "execution_count": 21,
   "metadata": {},
   "outputs": [
    {
     "data": {
      "image/png": "[encoded data removed]",
      "text/plain": [
       "<Figure size 900x600 with 1 Axes>"
      ]
     },
     "metadata": {
      "needs_background": "light"
     },
     "output_type": "display_data"
    },
    {
     "name": "stdout",
     "output_type": "stream",
     "text": [
      "Number of soruces:\t 1775\n",
      "Minimum:\t\t 0.104\n",
      "Maximum:\t\t 6.062\n"
     ]
    }
   ],
   "source": [
    "# X-ray selected AGN \n",
    "RedshiftHist_one(agn_z[XRAY], c=adp.c_xray, saveStr=adp.path_fig+'\\\\v2_zhist_XraySelected.png')"
   ]
  },
  {
   "cell_type": "code",
   "execution_count": 22,
   "metadata": {},
   "outputs": [
    {
     "data": {
      "image/png": "[encoded data removed]",
      "text/plain": [
       "<Figure size 900x600 with 1 Axes>"
      ]
     },
     "metadata": {
      "needs_background": "light"
     },
     "output_type": "display_data"
    },
    {
     "name": "stdout",
     "output_type": "stream",
     "text": [
      "Number of soruces:\t 900\n",
      "Minimum:\t\t 0.0\n",
      "Maximum:\t\t 6.062\n"
     ]
    }
   ],
   "source": [
    "# MIR selected AGN \n",
    "RedshiftHist_one(agn_z[MIR], c=adp.c_ir, saveStr=adp.path_fig+'\\\\v2_zhist_MIRSelected.png')"
   ]
  },
  {
   "attachments": {},
   "cell_type": "markdown",
   "metadata": {},
   "source": [
    "# Tricolor Sample"
   ]
  },
  {
   "cell_type": "code",
   "execution_count": 23,
   "metadata": {},
   "outputs": [
    {
     "name": "stdout",
     "output_type": "stream",
     "text": [
      "Cropped:  ['Row 1 = MIR exclusive AGN with id, redshift, IRAC, and 24um (n=352). Row 2 = MIR-X-ray inclusive AGN with id, redshift, IRAC, and 24um (n=548). Row 3 = X-ray exclusive AGN with id, redshift, IRAC, and 24um (n=1227). ']\n"
     ]
    }
   ],
   "source": [
    "# read AGN IDs\n",
    "agnIDs_tri = adp.ReadFile(adp.path_csv+'\\\\v2_AGNid_tricolor.csv')\n",
    "\n",
    "# convert agnIDs into list of integer numpy arrays \n",
    "agnIDs_tri_npArray = []\n",
    "for row in agnIDs_tri : \n",
    "    agnIDs_tri_npArray.append(np.array(row, dtype=int))\n",
    "\n",
    "# get dict of AGNs\n",
    "agnIDs_tri_dict = {\n",
    "    'RED' : agnIDs_tri_npArray[0],\n",
    "    'GRN' : agnIDs_tri_npArray[1],\n",
    "    'BLU' : agnIDs_tri_npArray[2]\n",
    "}"
   ]
  },
  {
   "cell_type": "code",
   "execution_count": 24,
   "metadata": {},
   "outputs": [
    {
     "name": "stdout",
     "output_type": "stream",
     "text": [
      "RED 352\n",
      "GRN 548\n",
      "BLU 1227\n"
     ]
    }
   ],
   "source": [
    "agn_z_tri = {}\n",
    "\n",
    "for key,val in agnIDs_tri_dict.items() : \n",
    "    # match redshift against AGN IDs\n",
    "    key_z_agn, key_agn_z = match.match(zID, val)\n",
    "    # get redshift array for AGN\n",
    "    agn_z_tri[key] = zZ[key_z_agn]\n",
    "    # print info\n",
    "    print(key, len(agn_z_tri[key]))"
   ]
  },
  {
   "cell_type": "code",
   "execution_count": 25,
   "metadata": {},
   "outputs": [],
   "source": [
    "def RedshiftHist_tri(\n",
    "    x1, c1,\n",
    "    x2, c2, \n",
    "    x3, c3,\n",
    "    showSum=True,\n",
    "    saveStr=''\n",
    "):\n",
    "    # set style\n",
    "    adp.SetStyle()\n",
    "\n",
    "    if(showSum):\n",
    "        x0 = np.concatenate((x1,x2,x3))\n",
    "        plt.hist(x0, bins=np.arange(0,7,0.25), histtype='bar',  color='lightgray', linewidth=2)\n",
    "\n",
    "    # plot histogram\n",
    "    plt.hist(x3, bins=np.arange(0,7,0.25), histtype='step', edgecolor=c3, linewidth=2)\n",
    "    plt.hist(x2, bins=np.arange(0,7,0.25), histtype='step', edgecolor=c2, linewidth=2)\n",
    "    plt.hist(x1, bins=np.arange(0,7,0.25), histtype='step', edgecolor=c1, linewidth=2)\n",
    "\n",
    "    # set height to  +20% max value\n",
    "    min_ylim, max_ylim = plt.ylim()\n",
    "    plt.ylim(ymin=0, ymax=max_ylim+0.20*max_ylim)\n",
    "\n",
    "    # mean line\n",
    "    MeanLineForHist(x1, c=c1, xtext=1.05, ytext=0.94, horizAlign='left')\n",
    "    MeanLineForHist(x2, c=c2, xtext=1.05, ytext=0.89, horizAlign='left')\n",
    "    MeanLineForHist(x3, c=c3, xtext=0.95, ytext=0.84, horizAlign='right')\n",
    "\n",
    "    # ticks\n",
    "    ax = plt.gca()\n",
    "    ax.xaxis.set_minor_locator(AutoMinorLocator(4))\n",
    "    ax.yaxis.set_minor_locator(AutoMinorLocator(2))\n",
    "\n",
    "    # set axis lables\n",
    "    plt.xlabel('z')\n",
    "    plt.ylabel('Number')\n",
    "\n",
    "    # save\n",
    "    if(saveStr) :\n",
    "        adp.Save(saveStr)\n",
    "\n",
    "    # finish plot\n",
    "    plt.show()\n",
    "\n",
    "    # output data\n",
    "    print('Number of soruces (x1):\\t', len(x1))\n",
    "    print('Number of soruces (x2):\\t', len(x2))\n",
    "    print('Number of soruces (x3):\\t', len(x3))"
   ]
  },
  {
   "cell_type": "code",
   "execution_count": 26,
   "metadata": {},
   "outputs": [
    {
     "data": {
      "image/png": "[encoded data removed]",
      "text/plain": [
       "<Figure size 900x600 with 1 Axes>"
      ]
     },
     "metadata": {
      "needs_background": "light"
     },
     "output_type": "display_data"
    },
    {
     "name": "stdout",
     "output_type": "stream",
     "text": [
      "Number of soruces (x1):\t 352\n",
      "Number of soruces (x2):\t 548\n",
      "Number of soruces (x3):\t 1227\n"
     ]
    }
   ],
   "source": [
    "RedshiftHist_tri(\n",
    "    agn_z_tri['RED'], adp.c_ir,\n",
    "    agn_z_tri['GRN'], adp.c_ir_xray, \n",
    "    agn_z_tri['BLU'], adp.c_xray,\n",
    "    showSum=True,\n",
    "    saveStr=adp.path_fig+'\\\\v2_zhist_tri_zAll.png'\n",
    ")"
   ]
  }
 ],
 "metadata": {
  "kernelspec": {
   "display_name": "Python 3.9.12 ('py3env')",
   "language": "python",
   "name": "python3"
  },
  "language_info": {
   "codemirror_mode": {
    "name": "ipython",
    "version": 3
   },
   "file_extension": ".py",
   "mimetype": "text/x-python",
   "name": "python",
   "nbconvert_exporter": "python",
   "pygments_lexer": "ipython3",
   "version": "3.9.12"
  },
  "orig_nbformat": 4,
  "vscode": {
   "interpreter": {
    "hash": "9087279304570de5a36832bd291691fdf2a46b942e9196516ec718f5eedeadfe"
   }
  }
 },
 "nbformat": 4,
 "nbformat_minor": 2
}
