{
 "cells": [
  {
   "cell_type": "code",
   "execution_count": 1,
   "metadata": {},
   "outputs": [],
   "source": [
    "##### Imports and useful variables \n",
    "\n",
    "from astropy.io import fits\n",
    "import matplotlib.pyplot as plt\n",
    "import numpy as np\n",
    "\n",
    "# variables \n",
    "path_fig = 'D:\\IfA REU\\IfA-REU-Project\\Figures'"
   ]
  },
  {
   "cell_type": "markdown",
   "metadata": {},
   "source": [
    "# Get COSMOS 2016 Data "
   ]
  },
  {
   "cell_type": "code",
   "execution_count": 2,
   "metadata": {},
   "outputs": [],
   "source": [
    "##### Get data from catalog file\n",
    "\n",
    "# open COSMOS master file and get data \n",
    "inf = fits.open('D:\\IfA REU\\Catalogs\\chandra_COSMOS_legacy_opt_NIR_counterparts_20160113_4d.fits')\n",
    "data = inf[1].data\n",
    "cols = inf[1].columns\n",
    "head = inf[0].header\n",
    "inf.close()"
   ]
  },
  {
   "cell_type": "code",
   "execution_count": 4,
   "metadata": {},
   "outputs": [
    {
     "name": "stdout",
     "output_type": "stream",
     "text": [
      "ColDefs(\n",
      "    name = 'id_x'; format = '9A'\n",
      "    name = 'RA_x'; format = 'D'\n",
      "    name = 'DEC_x'; format = 'D'\n",
      "    name = 'DET_ML_F'; format = 'E'\n",
      "    name = 'DET_ML_S'; format = 'E'\n",
      "    name = 'DET_ML_H'; format = 'E'\n",
      "    name = 'flux_F'; format = 'E'\n",
      "    name = 'flux_S'; format = 'E'\n",
      "    name = 'flux_H'; format = 'E'\n",
      "    name = 'HR'; format = 'E'\n",
      "    name = 'HR_lo_lim'; format = 'E'\n",
      "    name = 'HR_up_lim'; format = 'E'\n",
      "    name = 'id_i'; format = 'J'; null = -2147483648\n",
      "    name = 'ra_i'; format = 'D'\n",
      "    name = 'dec_i'; format = 'D'\n",
      "    name = 'i_mag'; format = 'E'\n",
      "    name = 'i_mag_err'; format = 'E'\n",
      "    name = 'flag_i_mag'; format = 'I'; null = -32768\n",
      "    name = 'id_k_uv'; format = 'J'; null = -2147483648\n",
      "    name = 'ra_k_uv'; format = 'D'\n",
      "    name = 'dec_k_uv'; format = 'D'\n",
      "    name = 'k_uv_mag'; format = 'E'\n",
      "    name = 'k_uv_mag_err'; format = 'E'\n",
      "    name = 'id_k_cfht'; format = 'J'; null = -2147483648\n",
      "    name = 'ra_k_cfht'; format = 'D'\n",
      "    name = 'dec_k_cfht'; format = 'D'\n",
      "    name = 'k_cfht_mag'; format = 'E'\n",
      "    name = 'k_cfht_mag_err'; format = 'E'\n",
      "    name = 'ra_irac'; format = 'D'\n",
      "    name = 'dec_irac'; format = 'D'\n",
      "    name = 'irac_mag'; format = 'E'\n",
      "    name = 'irac_mag_err'; format = 'E'\n",
      "    name = 'ra_splash'; format = 'D'\n",
      "    name = 'dec_splash'; format = 'D'\n",
      "    name = 'splash_mag'; format = 'E'\n",
      "    name = 'splash_mag_err'; format = 'E'\n",
      "    name = 'final_id_flag'; format = 'K'; null = -9223372036854775808\n",
      "    name = 'star_flag'; format = 'I'; null = -32768\n",
      "    name = 'z_best'; format = 'E'\n",
      "    name = 'z_spec'; format = 'E'\n",
      "    name = 'Instr'; format = '10A'\n",
      "    name = 'Qg'; format = 'E'\n",
      "    name = 'spec_type'; format = 'I'; null = -32768\n",
      "    name = 'z_phot'; format = 'E'\n",
      "    name = 'phot_type'; format = 'I'; null = -32768\n",
      "    name = 'id_xmm'; format = 'J'; null = -2147483648\n",
      "    name = 'dist_lum'; format = 'E'\n",
      "    name = 'Lx_0510'; format = 'E'\n",
      "    name = 'Lx_052'; format = 'E'\n",
      "    name = 'Lx_210'; format = 'E'\n",
      "    name = 'NH'; format = 'E'\n",
      "    name = 'abs_corr_0510'; format = 'E'\n",
      "    name = 'abs_corr_052'; format = 'E'\n",
      "    name = 'abs_corr_210'; format = 'E'\n",
      "    name = 'NH_lo'; format = 'E'\n",
      "    name = 'abs_corr_0510_lo'; format = 'E'\n",
      "    name = 'abs_corr_052_lo'; format = 'E'\n",
      "    name = 'abs_corr_210_lo'; format = 'E'\n",
      "    name = 'NH_up'; format = 'E'\n",
      "    name = 'abs_corr_0510_up'; format = 'E'\n",
      "    name = 'abs_corr_052_up'; format = 'E'\n",
      "    name = 'abs_corr_210_up'; format = 'E'\n",
      ")\n"
     ]
    }
   ],
   "source": [
    "print(cols)"
   ]
  }
 ],
 "metadata": {
  "interpreter": {
   "hash": "9087279304570de5a36832bd291691fdf2a46b942e9196516ec718f5eedeadfe"
  },
  "kernelspec": {
   "display_name": "Python 3.9.12 ('py3env')",
   "language": "python",
   "name": "python3"
  },
  "language_info": {
   "codemirror_mode": {
    "name": "ipython",
    "version": 3
   },
   "file_extension": ".py",
   "mimetype": "text/x-python",
   "name": "python",
   "nbconvert_exporter": "python",
   "pygments_lexer": "ipython3",
   "version": "3.9.12"
  },
  "orig_nbformat": 4
 },
 "nbformat": 4,
 "nbformat_minor": 2
}
