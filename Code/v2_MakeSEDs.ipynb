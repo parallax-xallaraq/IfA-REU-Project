{
 "cells": [
  {
   "cell_type": "code",
   "execution_count": null,
   "metadata": {},
   "outputs": [],
   "source": [
    "# # IMPORTS\n",
    "# astronomy\n",
    "from astropy.io import fits\n",
    "# plotting \n",
    "from matplotlib.ticker import (MultipleLocator, AutoMinorLocator)\n",
    "import matplotlib.pyplot as plt\n",
    "import matplotlib as mpl\n",
    "# data \n",
    "import numpy as np\n",
    "# file IO\n",
    "import csv\n",
    "# my python files \n",
    "import match\n",
    "import v2_AGN_DataAndPlotting as adp"
   ]
  }
 ],
 "metadata": {
  "kernelspec": {
   "display_name": "py3env",
   "language": "python",
   "name": "python3"
  },
  "language_info": {
   "name": "python",
   "version": "3.9.12 (main, Apr  4 2022, 05:22:27) [MSC v.1916 64 bit (AMD64)]"
  },
  "orig_nbformat": 4,
  "vscode": {
   "interpreter": {
    "hash": "9087279304570de5a36832bd291691fdf2a46b942e9196516ec718f5eedeadfe"
   }
  }
 },
 "nbformat": 4,
 "nbformat_minor": 2
}
