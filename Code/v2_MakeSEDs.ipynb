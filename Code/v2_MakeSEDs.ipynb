{
 "cells": [
  {
   "cell_type": "code",
   "execution_count": 1,
   "metadata": {},
   "outputs": [],
   "source": [
    "# # IMPORTS\n",
    "# astronomy\n",
    "from astropy.io import fits\n",
    "# plotting \n",
    "from matplotlib.ticker import (MultipleLocator, AutoMinorLocator)\n",
    "import matplotlib.pyplot as plt\n",
    "import matplotlib as mpl\n",
    "# data \n",
    "import numpy as np\n",
    "# file IO\n",
    "import csv\n",
    "# my python files \n",
    "import match\n",
    "import v2_AGN_DataAndPlotting as adp\n",
    "import v2_SED as SED"
   ]
  },
  {
   "attachments": {},
   "cell_type": "markdown",
   "metadata": {},
   "source": [
    "# Read Data"
   ]
  },
  {
   "cell_type": "code",
   "execution_count": 17,
   "metadata": {},
   "outputs": [],
   "source": [
    "def PrintNumber(myDict) :\n",
    "    for key,val in myDict.items():\n",
    "        if(isinstance(val,np.ndarray)):\n",
    "            print(key,'\\t',len(val)) \n",
    "        elif(isinstance(val,dict)):\n",
    "            print(key,end='')\n",
    "            for key1,val1 in val.items():\n",
    "                print('\\t',key1,'\\t',len(val1))"
   ]
  },
  {
   "cell_type": "code",
   "execution_count": 3,
   "metadata": {},
   "outputs": [
    {
     "name": "stdout",
     "output_type": "stream",
     "text": [
      "Cropped:  ['Row 1 = MIR exclusive AGN with id, redshift, IRAC, and 24um (n=352). Row 2 = MIR-X-ray inclusive AGN with id, redshift, IRAC, and 24um (n=548). Row 3 = X-ray exclusive AGN with id, redshift, IRAC, and 24um (n=1227). ']\n",
      "RED \t 352\n",
      "YEL \t 548\n",
      "BLU \t 1227\n"
     ]
    }
   ],
   "source": [
    "# read AGN IDs\n",
    "agnIDs = adp.ReadFile(adp.path_csv+'\\\\v2_AGNid_tricolor.csv')\n",
    "\n",
    "# convert agnIDs into dict of integer numpy arrays \n",
    "agnIDs_dict = {\n",
    "    'RED' : np.array(agnIDs[0], dtype=int),\n",
    "    'YEL' : np.array(agnIDs[1], dtype=int),\n",
    "    'BLU' : np.array(agnIDs[2], dtype=int)\n",
    "}\n",
    "\n",
    "# verify nmber of sources\n",
    "PrintNumber(agnIDs_dict)"
   ]
  },
  {
   "cell_type": "code",
   "execution_count": 4,
   "metadata": {},
   "outputs": [
    {
     "name": "stdout",
     "output_type": "stream",
     "text": [
      "Cropped:  ['ID', 'z']\n",
      "Number of redshifts: 485793\n",
      "Number of redshifts <=1: 211361\n"
     ]
    }
   ],
   "source": [
    "# get redshifts\n",
    "zDict = adp.ReadRedshifts(file=adp.path_cat+'\\COSMOS_z_matches.csv')\n",
    "zDict_le = adp.GetRedshifts_lessEq(zMax=1,zDict=zDict)"
   ]
  },
  {
   "cell_type": "code",
   "execution_count": 18,
   "metadata": {},
   "outputs": [
    {
     "name": "stdout",
     "output_type": "stream",
     "text": [
      "RED\t ID \t 352\n",
      "\t z \t 352\n",
      "YEL\t ID \t 548\n",
      "\t z \t 548\n",
      "BLU\t ID \t 1227\n",
      "\t z \t 1227\n"
     ]
    }
   ],
   "source": [
    "agnInfo = {}\n",
    "for key,val in agnIDs_dict.items():\n",
    "    # match redshift to AGN\n",
    "    key_zid, key_idz = match.match(zDict['ID'], val)\n",
    "    agnInfo[key] = {\n",
    "        'ID' : val[key_idz],\n",
    "        'z'  : zDict['z'][key_zid]\n",
    "    }\n",
    "# verify number of sources\n",
    "PrintNumber(agnInfo)"
   ]
  },
  {
   "cell_type": "code",
   "execution_count": 14,
   "metadata": {},
   "outputs": [],
   "source": [
    "# open COSMOS 2020 catalog file and get data \n",
    "with fits.open(adp.path_cat+'\\\\COSMOS2020_CLASSIC_R1_v2.0_master.fits') as hdul20:\n",
    "    data20 = hdul20[1].data"
   ]
  },
  {
   "attachments": {},
   "cell_type": "markdown",
   "metadata": {},
   "source": [
    "# Prepare SED"
   ]
  },
  {
   "cell_type": "code",
   "execution_count": 15,
   "metadata": {},
   "outputs": [
    {
     "name": "stdout",
     "output_type": "stream",
     "text": [
      "Array shape:\t (1720700, 20)\n",
      "Array shape:\t (1720700,)\n",
      "Array shape:\t (20,)\n"
     ]
    }
   ],
   "source": [
    "# get starting info \n",
    "Fnu_uJy = SED.GetPhotometry(data20)\n",
    "IDs_all = SED.GetID(data20)\n",
    "lam_A   = SED.GetObservedWavelengths_A()"
   ]
  },
  {
   "cell_type": "code",
   "execution_count": 19,
   "metadata": {},
   "outputs": [
    {
     "name": "stdout",
     "output_type": "stream",
     "text": [
      "RED\t ID \t 352\n",
      "\t z \t 352\n",
      "\t Fnu \t 352\n",
      "YEL\t ID \t 548\n",
      "\t z \t 548\n",
      "\t Fnu \t 548\n",
      "BLU\t ID \t 1227\n",
      "\t z \t 1227\n",
      "\t Fnu \t 1227\n"
     ]
    }
   ],
   "source": [
    "for key,val in agnInfo.items():\n",
    "    # match photometry to AGN\n",
    "    key_agn, key_phot = match.match(val['ID'], IDs_all)\n",
    "    val['Fnu'] = Fnu_uJy[key_phot]\n",
    "# verify number of sources\n",
    "PrintNumber(agnInfo)"
   ]
  },
  {
   "cell_type": "code",
   "execution_count": null,
   "metadata": {},
   "outputs": [],
   "source": []
  }
 ],
 "metadata": {
  "kernelspec": {
   "display_name": "py3env",
   "language": "python",
   "name": "python3"
  },
  "language_info": {
   "codemirror_mode": {
    "name": "ipython",
    "version": 3
   },
   "file_extension": ".py",
   "mimetype": "text/x-python",
   "name": "python",
   "nbconvert_exporter": "python",
   "pygments_lexer": "ipython3",
   "version": "3.9.12"
  },
  "orig_nbformat": 4,
  "vscode": {
   "interpreter": {
    "hash": "9087279304570de5a36832bd291691fdf2a46b942e9196516ec718f5eedeadfe"
   }
  }
 },
 "nbformat": 4,
 "nbformat_minor": 2
}
