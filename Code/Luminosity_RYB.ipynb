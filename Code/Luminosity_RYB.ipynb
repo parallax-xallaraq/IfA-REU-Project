{
 "cells": [
  {
   "cell_type": "code",
   "execution_count": 1,
   "metadata": {},
   "outputs": [],
   "source": [
    "# imports\n",
    "from astropy.io import fits\n",
    "from scipy import interpolate as sin\n",
    "import matplotlib.pyplot as plt\n",
    "import matplotlib as mpl\n",
    "import plotting as myP\n",
    "import numpy as np\n",
    "import csv \n",
    "import match\n",
    "import SED\n",
    "from astropy.cosmology import FlatLambdaCDM"
   ]
  },
  {
   "cell_type": "code",
   "execution_count": 2,
   "metadata": {},
   "outputs": [],
   "source": [
    "# path variables \n",
    "path_cat = 'D:\\IfA REU\\Catalogs'\n",
    "path_fig = 'D:\\IfA REU\\IfA-REU-Project\\Figures'\n",
    "path_csv = 'D:\\IfA REU\\IfA-REU-Project\\Lists'"
   ]
  },
  {
   "cell_type": "markdown",
   "metadata": {},
   "source": [
    "# Read Data"
   ]
  },
  {
   "cell_type": "code",
   "execution_count": 3,
   "metadata": {},
   "outputs": [
    {
     "name": "stdout",
     "output_type": "stream",
     "text": [
      "Cropped:  ['Row 1 = red IR selected AGN. Row 2 = yellow both IR-Xray AGN. Row 3 = blue X-ray selected AGN. Row 4 = blue X-ray selected AGN with IRAC detections. Row 5 = blue X-ray selected AGN without IRAC detections. Row 6 = red IR selected AGN with 24um detection. Row 7 = yellow both IR-Xray AGN with 24um detection. Row 8 = blue X-ray selected AGN with 24um and IRAC detections. Values are ID_COSMOS2015.']\n"
     ]
    }
   ],
   "source": [
    "# read AGN IDs\n",
    "agnIDs = myP.ReadFile(path_csv+'\\ID_RedYelBlu_AGNselection.csv')\n",
    "\n",
    "# convert agnIDs into list of integer numpy arrays \n",
    "agnIDs_npArray = []\n",
    "for row in agnIDs : \n",
    "    agnIDs_npArray.append(np.array(row, dtype=int))"
   ]
  },
  {
   "cell_type": "code",
   "execution_count": 4,
   "metadata": {},
   "outputs": [],
   "source": [
    "# constants for AGN type index\n",
    "\n",
    "RED = 0     # red       IR selected AGN\n",
    "YEL = 1     # yellow    both IR-Xray AGN\n",
    "BLU = 2     # blue      X-ray selected AGN\n",
    "\n",
    "BYI = 3     # blue      X-ray selected AGN  with IRAC detections\n",
    "BNI = 4     # blue      X-ray selected AGN  without IRAC detections\n",
    "\n",
    "R24 = 5     # red       IR selected AGN     with 24um detection\n",
    "Y24 = 6     # yellow    both IR-Xray AGN    with 24um detection\n",
    "B24 = 7     # blue      X-ray selected AGN  with 24um and IRAC detections"
   ]
  },
  {
   "cell_type": "code",
   "execution_count": 5,
   "metadata": {},
   "outputs": [],
   "source": [
    "def PrintNumber(myList) : \n",
    "    # make list of AGN names for printting info \n",
    "    agnTypeNames = ['Red:\\t', 'Yel:\\t', 'Blu:\\t', 'Byi:\\t', 'Bni:\\t', 'r24:\\t', 'y24:\\t', 'r24:\\t']\n",
    "    # print name and number of items in list \n",
    "    for name, row in zip(agnTypeNames, myList) : \n",
    "        print(name, row.shape)"
   ]
  },
  {
   "cell_type": "code",
   "execution_count": 6,
   "metadata": {},
   "outputs": [
    {
     "name": "stdout",
     "output_type": "stream",
     "text": [
      "Red:\t (547,)\n",
      "Yel:\t (609,)\n",
      "Blu:\t (1567,)\n",
      "Byi:\t (1416,)\n",
      "Bni:\t (151,)\n",
      "r24:\t (399,)\n",
      "y24:\t (501,)\n",
      "r24:\t (1016,)\n"
     ]
    }
   ],
   "source": [
    "# print number of sources in agnIDs_npArray\n",
    "PrintNumber(agnIDs_npArray)"
   ]
  },
  {
   "cell_type": "code",
   "execution_count": 7,
   "metadata": {},
   "outputs": [
    {
     "name": "stdout",
     "output_type": "stream",
     "text": [
      "Cropped:  ['ID', 'z']\n",
      "Number of sources w/ z: 485793\n"
     ]
    }
   ],
   "source": [
    "# read redshifts\n",
    "zAll = np.array(myP.ReadFile(path_cat+'\\COSMOS_z_matches.csv'))\n",
    "zID, zZ = zAll.T\n",
    "# get correct data type\n",
    "zID = np.array(zID, dtype=int)\n",
    "zZ  = np.array(zZ,  dtype=float)\n",
    "# apply mask to remove bad redshifts\n",
    "mask_z = (zZ >= 0) & (zZ < 99)\n",
    "zID = zID[mask_z]\n",
    "zZ  = zZ[mask_z]\n",
    "# print info\n",
    "print('Number of sources w/ z:', len(zID))"
   ]
  },
  {
   "cell_type": "code",
   "execution_count": 8,
   "metadata": {},
   "outputs": [],
   "source": [
    "agn_z = []\n",
    "agn_ID_wZ = []\n",
    "\n",
    "for row in agnIDs_npArray : \n",
    "    # match redshift against AGN IDs\n",
    "    key_z_agn, key_agn_z = match.match(zID, row)\n",
    "    # get redshift array for AGN\n",
    "    agn_z.append(zZ[key_z_agn])\n",
    "    # get AGN ID arrays w/ redshifts\n",
    "    agn_ID_wZ.append(row[key_agn_z])\n",
    "\n",
    "# PrintNumber(agn_z)"
   ]
  },
  {
   "cell_type": "code",
   "execution_count": 9,
   "metadata": {},
   "outputs": [],
   "source": [
    "# open COSMOS 2020 catalog file and get data \n",
    "inf20 = fits.open(path_cat+'\\COSMOS2020_CLASSIC_R1_v2.0_master.fits')\n",
    "data20 = inf20[1].data\n",
    "inf20.close()"
   ]
  },
  {
   "cell_type": "code",
   "execution_count": 10,
   "metadata": {},
   "outputs": [
    {
     "name": "stdout",
     "output_type": "stream",
     "text": [
      "Array shape:\t (1720700, 20)\n",
      "Array shape:\t (1720700,)\n",
      "Array shape:\t (20,)\n"
     ]
    }
   ],
   "source": [
    "Fnu_uJy = SED.GetPhotometry(data20)\n",
    "IDs_all = SED.GetID(data20)\n",
    "lam_A   = SED.GetObservedWavelengths_A()"
   ]
  },
  {
   "cell_type": "code",
   "execution_count": 11,
   "metadata": {},
   "outputs": [],
   "source": [
    "agn_Fnu_uJy = []\n",
    "agn_ID_wZ_wPhot = []\n",
    "\n",
    "for row in agn_ID_wZ : \n",
    "    # match photometry IDs against AGN IDs \n",
    "    key_IDall_agn, key_agn_IDall = match.match(IDs_all, row)\n",
    "    # get photometry for AGN\n",
    "    agn_Fnu_uJy.append(Fnu_uJy[key_IDall_agn])\n",
    "    # get AGN arrays with photometry \n",
    "    agn_ID_wZ_wPhot.append(row[key_agn_IDall])\n",
    "\n",
    "# PrintNumber(agn_Fnu_uJy)"
   ]
  },
  {
   "cell_type": "code",
   "execution_count": 12,
   "metadata": {},
   "outputs": [
    {
     "name": "stdout",
     "output_type": "stream",
     "text": [
      "Array shape:\t (547, 20)\n",
      "Array shape:\t (609, 20)\n",
      "Array shape:\t (1567, 20)\n",
      "Array shape:\t (1416, 20)\n",
      "Array shape:\t (151, 20)\n",
      "Array shape:\t (399, 20)\n",
      "Array shape:\t (501, 20)\n",
      "Array shape:\t (1016, 20)\n"
     ]
    }
   ],
   "source": [
    "agn_lamR_A = []\n",
    "\n",
    "# convert each AGN type to rest wavelength\n",
    "for row in agn_z : \n",
    "    agn_lamR_A.append(SED.ConvertToRestWavelength(row))"
   ]
  },
  {
   "cell_type": "code",
   "execution_count": 13,
   "metadata": {},
   "outputs": [
    {
     "name": "stdout",
     "output_type": "stream",
     "text": [
      "Array shape:\t (547, 20)\n",
      "Array shape:\t (609, 20)\n",
      "Array shape:\t (1567, 20)\n",
      "Array shape:\t (1416, 20)\n",
      "Array shape:\t (151, 20)\n",
      "Array shape:\t (399, 20)\n",
      "Array shape:\t (501, 20)\n",
      "Array shape:\t (1016, 20)\n"
     ]
    }
   ],
   "source": [
    "agn_lamFlam_ergscm2 = []\n",
    "\n",
    "# convert each AGN type to energy density\n",
    "for lamR,Fnu in zip(agn_lamR_A, agn_Fnu_uJy) : \n",
    "    agn_lamFlam_ergscm2.append(SED.ConvertToEnergyDensity(lamR,Fnu))"
   ]
  },
  {
   "cell_type": "code",
   "execution_count": 14,
   "metadata": {},
   "outputs": [],
   "source": [
    "# important arrays\n",
    "    # agn_lamFlam_ergscm2 TEXT\n",
    "    # agn_Fnu_uJy   flux(frequency) in microJanskys \n",
    "    # agn_lamR_A    rest wavelength in angstroms\n",
    "    # agn_z         redshifts of sources"
   ]
  },
  {
   "cell_type": "code",
   "execution_count": 15,
   "metadata": {},
   "outputs": [],
   "source": [
    "# PrintNumber(agn_lamR_A)\n",
    "# print('\\n')\n",
    "# PrintNumber(agn_Fnu_uJy)\n",
    "# print('\\n')\n",
    "# PrintNumber(agn_z)\n",
    "# print('\\n')"
   ]
  },
  {
   "cell_type": "markdown",
   "metadata": {},
   "source": [
    "# Luminosity"
   ]
  },
  {
   "cell_type": "code",
   "execution_count": 16,
   "metadata": {},
   "outputs": [],
   "source": [
    "# TODO                              QUESTIONS\n",
    "# interpolate Flux                  * do I use Fnu or Flam?\n",
    "# get value at 1um                  * F-L code unreachable??\n",
    "# convert F(1um) to Luminosity      * why are there nan in L?\n",
    "# plot histogram                    * should I be doing log interpolation?"
   ]
  },
  {
   "cell_type": "code",
   "execution_count": 17,
   "metadata": {},
   "outputs": [],
   "source": [
    "def Flux_to_Lum(F,z):\n",
    "    # 'Function to convert flux to luminosity’’'\n",
    "    cosmo = FlatLambdaCDM(H0=70, Om0=0.29, Tcmb0=2.725)\n",
    "    dl = cosmo.luminosity_distance(z).value # Distance in Mpc\n",
    "    dl_cgs = dl*(3.0856E24) # Distance from Mpc to cm\n",
    "    # convert flux to luminosity\n",
    "    L = F*4*np.pi*dl_cgs**2\n",
    "    return L"
   ]
  },
  {
   "cell_type": "code",
   "execution_count": 18,
   "metadata": {},
   "outputs": [
    {
     "name": "stdout",
     "output_type": "stream",
     "text": [
      "(399, 20)\n",
      "(399, 20)\n",
      "(399,)\n"
     ]
    }
   ],
   "source": [
    "ex = R24\n",
    "ex_lamFlam = agn_lamFlam_ergscm2[ex]\n",
    "ex_lam = agn_lamR_A[ex]\n",
    "ex_z   = agn_z[ex]\n",
    "\n",
    "print(ex_lamFlam.shape)\n",
    "print(ex_lam.shape)\n",
    "print(ex_z.shape)"
   ]
  },
  {
   "cell_type": "code",
   "execution_count": 24,
   "metadata": {},
   "outputs": [],
   "source": [
    "def Lum_at1um(ex_lamFlam, ex_lam, ex_z) :        # NEED LAMFLAM\n",
    "    ex_L = []\n",
    "    for x,y,z in zip( ex_lam, ex_lamFlam, ex_z) : \n",
    "        # interpolate\n",
    "        f = SED.Interpolate_log(x,y)\n",
    "        # normalize at 1um\n",
    "        Fnu_at1um = SED.Flog_X(f,1*1E+4) # 1A * 10^4 = 1um\n",
    "        # convert to luminosity\n",
    "        lum = Flux_to_Lum(Fnu_at1um,z)\n",
    "        ex_L.append(lum)\n",
    "        \n",
    "        if ( np.isnan(Fnu_at1um) ) : \n",
    "            print('F(1um) is nan')\n",
    "        elif( np.isnan(lum) ) :\n",
    "            print('L is nan')\n",
    "\n",
    "    return(ex_L)"
   ]
  },
  {
   "cell_type": "code",
   "execution_count": 25,
   "metadata": {},
   "outputs": [],
   "source": [
    "ex_L = Lum_at1um(ex_lamFlam,ex_lam, ex_z)"
   ]
  },
  {
   "cell_type": "code",
   "execution_count": 35,
   "metadata": {},
   "outputs": [
    {
     "name": "stdout",
     "output_type": "stream",
     "text": [
      "[3.791977771020606e+44, 3.29966696523678e+44, 1.817691982108005e+44, 3.3440813363573267e+44, 2.884204649398338e+45, 5.2863226132159394e+44, 2.1130456917468843e+46, 2.0840014226857773e+44, 1.9396524680534296e+44, 4.9037894400113616e+44, 1.776000107824616e+45, 7.983501508377829e+44, 1.1579908890963065e+45, 7.788941206814148e+43, 3.1154222806778832e+44, 7.219116744693562e+44, 1.560583782255403e+45, 5.335671076586637e+44, 2.853353051970369e+44, 2.345538764917509e+44, 1.1292184746673512e+45, 1.4865428708693613e+45, 1.3240001551201333e+45, 7.899459519548207e+44, 7.196464605922384e+44, 6.178968524644783e+44, 4.4480534610074884e+44, 2.384644246043595e+44, 1.3149902245959079e+45, 4.988316641744333e+44, 1.636539842004311e+45, 3.855154393682931e+45, 1.0526195453267464e+45, 2.3981122433823384e+44, 2.7725794502839683e+44, 5.941459385101471e+44, 3.486494740273876e+45, 2.1868711296483575e+44, 1.9185548751502425e+44, 4.818105271234455e+44, 1.2435336895300703e+44, 0.0, 1.2127177213064955e+45, 4.445071987021788e+44, 2.430526688156447e+44, 6.825738165557566e+44, 3.0919029897771927e+44, 8.289012776022378e+43, 1.2076556207013321e+45, 2.2333067161966847e+45, 2.3556188846464522e+45, 8.039402317623505e+44, 0.0, 0.0, 1.0110589553521574e+43, 8.9906758774904e+44, 1.8829252470538046e+44, 1.4764837538771032e+45, 1.2441845313227077e+45, 1.5214102987174635e+45, 1.462193218661974e+45, 9.762215964524339e+45, 1.927173863082399e+44, 1.0352066505557502e+45, 3.755540480844145e+45, 1.0117115344343293e+45, 2.2440857422849274e+45, 2.208477764764395e+45, 1.0158997461425551e+45, 1.599571430442532e+43, 1.984699685883559e+44, 2.5215746801743817e+43, 5.1322660179218784e+44, 9.535612155477935e+44, 4.145619567406466e+44, 9.692751247892144e+44, 5.8907568849800255e+44, 3.876876848981282e+44, 2.815642392593104e+44, 1.9415064580427042e+45, 2.119486304740217e+45, 3.580602355681268e+45, 2.2364757650943764e+44, 1.3385071618352555e+45, 6.877355713597303e+43, 6.932103949828599e+44, 1.007199143022879e+46, 2.009612948687938e+44, 6.036669261406477e+44, 1.1374369268994876e+44, 8.241293946742157e+42, 7.750579760119624e+44, 8.293361512413746e+44, 4.990363188456945e+43, 1.0634806218604733e+46, 2.0058508784115177e+45, 1.4296236098023444e+45, 1.2392461896659137e+45, 6.4507688407508405e+44, 3.0940517461761073e+44, 1.902603218656005e+45, 0.0, 8.52537874634126e+44, 2.185271030351772e+45, 3.573495525083193e+42, 2.946271968437889e+45, 1.3906924394165795e+45, 8.943420193651527e+44, 1.921676474425005e+44, 3.127096401478647e+45, 1.3921269065857585e+45, 2.466933944180595e+44, 9.762409051395889e+44, 2.6518989266647075e+43, 2.5983104320956205e+45, 1.1930851858246698e+45, 1.4377186490661452e+44, 1.252099804094017e+45, 4.330391680156782e+44, 7.226352747440131e+43, 1.504953402164655e+45, 2.2976950580413264e+45, 4.874874664821849e+44, 9.409747139231669e+43, 5.140707670405052e+43, 6.657706539255842e+44, 0.0, 8.706989176936554e+44, 3.657756803206485e+44, 2.1310470481421448e+45, 1.7598016623876664e+44, 1.903496170124421e+45, 2.9181476119827114e+44, 3.6583251886513294e+45, 4.7066141361914536e+44, 1.0010864420389133e+45, 1.2309914357967296e+45, 0.0, 1.752126824752312e+43, 7.11260027067463e+44, 8.376126366179225e+44, 2.4650749929282696e+44, 2.9164098247442e+45, 1.4536873375761332e+45, 1.7716405611865266e+45, 7.271000801850825e+43, 1.9545478603355497e+45, 7.912602252992286e+44, 1.4161629446068837e+43, 5.438473290325796e+44, 1.1618837493390421e+42, 1.0275295357055344e+45, 6.536612552092468e+43, 3.417577100821035e+44, 9.861769732744393e+43, 7.924735027499262e+43, 6.253591240722536e+43, 2.774404091041599e+43, 1.0377339220046461e+45, 4.368199131190272e+44, 1.533259501977794e+44, 9.883521332116695e+44, 8.898865492834371e+43, 3.049360301090379e+43, 2.185805467075252e+45, 6.643291185783537e+44, 4.8532497204154825e+45, 5.021437069052572e+44, 8.352687171019788e+44, 2.1474252648976107e+45, 2.4202691261956003e+45, 1.1232456632664902e+45, 9.313087280472716e+45, 2.041487270975004e+44, 5.72966470372364e+44, 4.8559118838344375e+44, 2.0774077111610239e+43, 4.067140227255937e+44, 1.4859144646990322e+45, 4.170211250756675e+42, 7.434266552641615e+44, 1.2903178324691331e+44, 0.0, 5.391125796718463e+44, 1.5881203493716958e+45, 2.8242980214326576e+43, 1.3884353406845166e+44, 2.4450396742089542e+44, 5.760034857617106e+44, 0.0, 1.0759343588055524e+45, 6.266654866219345e+44, 3.154249268827187e+44, 3.3863534214477856e+44, 1.2019511282196232e+45, 1.5116336692261548e+45, 1.829260061413399e+44, 7.467149846525574e+44, 2.128933426963832e+45, 1.9526225298535188e+45, 5.117407255210318e+40, 6.4866525614392954e+44, 6.138408742921459e+45, 2.664949483460849e+44, 2.7261261305492132e+44, 2.837793830679321e+45, 1.8216903389665602e+45, 4.9368767163938055e+44, 2.825304135209075e+45, 1.9335778077439897e+45, 8.185425863623286e+44, 2.1421791448011057e+46, 1.1847973878013444e+45, 7.0925056259370204e+44, 7.51827355319363e+44, 8.696692243931049e+43, 2.9888322129855734e+44, 4.662802966839432e+44, 5.764815868997924e+44, 4.39261596502613e+44, 2.8152893727240296e+44, 2.0412824794080367e+42, 2.947067236744422e+44, 7.318790325326528e+42, 8.632164874406701e+43, 1.3107762724142856e+44, 6.759229628991526e+44, 0.0, 9.021123379111974e+43, 1.9852057858799694e+44, 3.737375823085342e+44, 4.595724770685619e+44, 7.024052262240666e+43, 9.885196845868184e+44, 1.95874901044211e+44, 0.0, 5.182172766360584e+44, 4.565809462931335e+44, 1.1749132950997038e+45, 8.491581252309131e+43, 8.608600608150706e+44, 2.455328228648398e+44, 0.0, 1.5597525530686033e+43, 9.05897395822367e+43, 9.622725054533979e+44, 5.242474213741002e+45, 1.449895841489486e+44, 1.1368327715833174e+44, 5.935917175700868e+44, 5.275628992521071e+44, 1.1064246910608787e+45, 1.7697651445485507e+44, 1.7099868262694825e+45, 4.7536347864601325e+44, 6.05636168421113e+43, 8.173866955910758e+42, 4.5285808805000866e+45, 6.886834965280895e+45, 1.2571830107638031e+45, 1.2324037657056732e+45, 4.006692911766137e+45, 8.166170880094145e+44, 2.2818513834582992e+45, 8.534934569641625e+44, 8.931922909868917e+43, 2.9117156042535654e+45, 1.7602848636840448e+44, 6.223605865940388e+44, 2.6328596390376618e+45, 2.6605256637592236e+44, 4.690394549103069e+44, 0.0, 7.614304258657388e+43, 4.5141673858954396e+44, 5.5019400190115004e+44, 0.0, 1.5495927500774875e+44, 4.36019962089151e+44, 1.428182886566578e+44, 3.097500032492688e+44, 1.2380174087361973e+45, 1.6381314471639517e+45, 1.8527614588585574e+45, 1.3875516036400266e+44, 3.368341735060248e+44, 1.179187876637915e+43, 4.1252852684452797e+45, 5.535668114596356e+44, 1.107602062876488e+43, 3.8356242347775663e+43, 8.285444932945397e+43, 7.587193873310482e+44, 7.335249943890832e+43, 1.9323153827787574e+45, 2.737520376835914e+44, 1.844306877574282e+45, 1.259131284317921e+45, 2.508002633441796e+44, 7.934367067322883e+38, 7.875917305859368e+44, 3.741581970198886e+44, 6.143314311472204e+44, 2.4392215899500513e+44, 5.357287377320608e+43, 2.1552787781815214e+45, 0.0, 5.451518245559255e+43, 1.3064304647481891e+45, 2.1722354236582406e+45, 0.0, 3.675381195605707e+44, 4.642918019211411e+44, 5.444566075548259e+43, 8.310319283744558e+44, 1.0529319795986027e+44, 2.6966217871241442e+44, 1.584346274024238e+45, 4.29886816861496e+44, 2.811090288962085e+45, 2.793687124235407e+44, 2.092457787795075e+44, 1.4720157838403532e+45, 9.742380736426003e+43, 1.108575934494571e+45, 1.9257118774514452e+45, 2.1911654724949225e+46, 2.048295005917338e+42, 5.823261935307414e+45, 1.953331727693211e+44, 1.813549877267834e+44, 4.968898059512951e+44, 1.9886900602310286e+45, 3.65461569503049e+44, 8.589236997439092e+44, 1.2730453152314776e+45, 1.4117154268432821e+45, 1.0264317962642319e+45, 1.2967415666880804e+45, 1.65256870773246e+45, 7.86731036899335e+44, 1.1866223062028695e+45, 5.9006518885380204e+44, 6.768366096532632e+44, 9.857219102972866e+44, 8.745772300036386e+44, 0.0, 9.918038850125761e+44, 2.8616730636496207e+44, 3.1323376232069457e+44, 2.5948555844717188e+45, 1.0195137156291507e+45, 3.179293030789395e+44, 1.0680821373326728e+44, 2.5560031159568392e+45, 6.40015972718688e+45, 5.4863893605511014e+44, 2.9049653786920766e+44, 0.0, 3.895151556391209e+44, 2.7614595712710973e+45, 1.418124234134078e+45, 9.406790735217354e+43, 4.0783326792969664e+44, 3.619725600348518e+44, 6.945057096861228e+44, 4.2504972108793684e+45, 4.0228841685650915e+45, 1.1618262021796182e+45, 2.381504449287849e+45, 9.120657477935489e+44, 3.491189530977362e+44, 2.3321206421904918e+45, 3.773106941792437e+45, 1.5875876330743485e+44, 2.3921539620635085e+45, 2.4075410762065503e+45, 1.2832347820597319e+45, 3.499456821183231e+44, 7.631450669461452e+44, 3.257313681865437e+45, 4.2127070807393114e+43, 3.937995458954864e+44, 2.210495939967283e+45, 2.4857905658260343e+44, 4.394952522874396e+44, 1.4055921641726543e+44, 0.0, 9.322845901066724e+45, 9.18119042068196e+44, 8.663174223392276e+42, 2.493687738110704e+45, 5.856770134936038e+43, 8.968707313429531e+44, 0.0, 0.0, 2.4285045967881553e+45, 5.073371903536064e+44, 2.1029543156671812e+45]\n"
     ]
    }
   ],
   "source": [
    "print(ex_L)"
   ]
  },
  {
   "cell_type": "code",
   "execution_count": 38,
   "metadata": {},
   "outputs": [
    {
     "name": "stdout",
     "output_type": "stream",
     "text": [
      "399\n",
      "20\n"
     ]
    }
   ],
   "source": [
    "print(len(ex_L))\n",
    "\n",
    "ex_L_array = np.array([ex_L])\n",
    "print(len(ex_L_array[ex_L_array==0]))\n"
   ]
  },
  {
   "cell_type": "code",
   "execution_count": 37,
   "metadata": {},
   "outputs": [
    {
     "data": {
      "image/png": "[encoded data removed]",
      "text/plain": [
       "<Figure size 432x288 with 1 Axes>"
      ]
     },
     "metadata": {
      "needs_background": "light"
     },
     "output_type": "display_data"
    }
   ],
   "source": [
    "plt.hist(np.log10(ex_L_array[ex_L_array>0]))\n",
    "\n",
    "plt.xlabel('Log Luminosity')\n",
    "plt.ylabel('Number')\n",
    "\n",
    "plt.show()"
   ]
  },
  {
   "cell_type": "code",
   "execution_count": null,
   "metadata": {},
   "outputs": [],
   "source": [
    "# TODO \n",
    "# make nice histograms for R,Y,B for z<6 and z<1 \n",
    "# investigate zeros in lamFlam? "
   ]
  }
 ],
 "metadata": {
  "kernelspec": {
   "display_name": "Python 3.9.12 ('py3env')",
   "language": "python",
   "name": "python3"
  },
  "language_info": {
   "codemirror_mode": {
    "name": "ipython",
    "version": 3
   },
   "file_extension": ".py",
   "mimetype": "text/x-python",
   "name": "python",
   "nbconvert_exporter": "python",
   "pygments_lexer": "ipython3",
   "version": "3.9.12"
  },
  "orig_nbformat": 4,
  "vscode": {
   "interpreter": {
    "hash": "9087279304570de5a36832bd291691fdf2a46b942e9196516ec718f5eedeadfe"
   }
  }
 },
 "nbformat": 4,
 "nbformat_minor": 2
}
