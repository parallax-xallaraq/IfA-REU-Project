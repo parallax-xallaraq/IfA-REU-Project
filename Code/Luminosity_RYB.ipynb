{
 "cells": [
  {
   "cell_type": "code",
   "execution_count": 1,
   "metadata": {},
   "outputs": [],
   "source": [
    "# imports\n",
    "from astropy.io import fits\n",
    "from scipy import interpolate as sin\n",
    "import matplotlib.pyplot as plt\n",
    "import matplotlib as mpl\n",
    "import plotting as myP\n",
    "import numpy as np\n",
    "import csv \n",
    "import match\n",
    "import SED\n",
    "from astropy.cosmology import FlatLambdaCDM"
   ]
  },
  {
   "cell_type": "code",
   "execution_count": 2,
   "metadata": {},
   "outputs": [],
   "source": [
    "# path variables \n",
    "path_cat = 'D:\\IfA REU\\Catalogs'\n",
    "path_fig = 'D:\\IfA REU\\IfA-REU-Project\\Figures'\n",
    "path_csv = 'D:\\IfA REU\\IfA-REU-Project\\Lists'"
   ]
  },
  {
   "cell_type": "markdown",
   "metadata": {},
   "source": [
    "# Read Data"
   ]
  },
  {
   "cell_type": "code",
   "execution_count": 3,
   "metadata": {},
   "outputs": [
    {
     "name": "stdout",
     "output_type": "stream",
     "text": [
      "Cropped:  ['Row 1 = red IR selected AGN. Row 2 = yellow both IR-Xray AGN. Row 3 = blue X-ray selected AGN. Row 4 = blue X-ray selected AGN with IRAC detections. Row 5 = blue X-ray selected AGN without IRAC detections. Row 6 = red IR selected AGN with 24um detection. Row 7 = yellow both IR-Xray AGN with 24um detection. Row 8 = blue X-ray selected AGN with 24um and IRAC detections. Values are ID_COSMOS2015.']\n"
     ]
    }
   ],
   "source": [
    "# read AGN IDs\n",
    "agnIDs = myP.ReadFile(path_csv+'\\ID_RedYelBlu_AGNselection.csv')\n",
    "\n",
    "# convert agnIDs into list of integer numpy arrays \n",
    "agnIDs_npArray = []\n",
    "for row in agnIDs : \n",
    "    agnIDs_npArray.append(np.array(row, dtype=int))"
   ]
  },
  {
   "cell_type": "code",
   "execution_count": 4,
   "metadata": {},
   "outputs": [],
   "source": [
    "# constants for AGN type index\n",
    "\n",
    "RED = 0     # red       IR selected AGN\n",
    "YEL = 1     # yellow    both IR-Xray AGN\n",
    "BLU = 2     # blue      X-ray selected AGN\n",
    "\n",
    "BYI = 3     # blue      X-ray selected AGN  with IRAC detections\n",
    "BNI = 4     # blue      X-ray selected AGN  without IRAC detections\n",
    "\n",
    "R24 = 5     # red       IR selected AGN     with 24um detection\n",
    "Y24 = 6     # yellow    both IR-Xray AGN    with 24um detection\n",
    "B24 = 7     # blue      X-ray selected AGN  with 24um and IRAC detections"
   ]
  },
  {
   "cell_type": "code",
   "execution_count": 43,
   "metadata": {},
   "outputs": [],
   "source": [
    "# setup corresponding color\n",
    "agn_colors = [myP.c_ir, myP.c_ir_xray, myP.c_xray, myP.c_xray, myP.c_xray, myP.c_ir, myP.c_ir_xray, myP.c_xray]"
   ]
  },
  {
   "cell_type": "code",
   "execution_count": 5,
   "metadata": {},
   "outputs": [],
   "source": [
    "def PrintNumber(myList) : \n",
    "    # make list of AGN names for printting info \n",
    "    agnTypeNames = ['Red:\\t', 'Yel:\\t', 'Blu:\\t', 'Byi:\\t', 'Bni:\\t', 'r24:\\t', 'y24:\\t', 'r24:\\t']\n",
    "    # print name and number of items in list \n",
    "    for name, row in zip(agnTypeNames, myList) : \n",
    "        print(name, row.shape)"
   ]
  },
  {
   "cell_type": "code",
   "execution_count": 6,
   "metadata": {},
   "outputs": [
    {
     "name": "stdout",
     "output_type": "stream",
     "text": [
      "Red:\t (547,)\n",
      "Yel:\t (609,)\n",
      "Blu:\t (1567,)\n",
      "Byi:\t (1416,)\n",
      "Bni:\t (151,)\n",
      "r24:\t (399,)\n",
      "y24:\t (501,)\n",
      "r24:\t (1016,)\n"
     ]
    }
   ],
   "source": [
    "# print number of sources in agnIDs_npArray\n",
    "PrintNumber(agnIDs_npArray)"
   ]
  },
  {
   "cell_type": "code",
   "execution_count": 7,
   "metadata": {},
   "outputs": [
    {
     "name": "stdout",
     "output_type": "stream",
     "text": [
      "Cropped:  ['ID', 'z']\n",
      "Number of sources w/ z: 485793\n"
     ]
    }
   ],
   "source": [
    "# read redshifts\n",
    "zAll = np.array(myP.ReadFile(path_cat+'\\COSMOS_z_matches.csv'))\n",
    "zID, zZ = zAll.T\n",
    "# get correct data type\n",
    "zID = np.array(zID, dtype=int)\n",
    "zZ  = np.array(zZ,  dtype=float)\n",
    "# apply mask to remove bad redshifts\n",
    "mask_z = (zZ >= 0) & (zZ < 99)\n",
    "zID = zID[mask_z]\n",
    "zZ  = zZ[mask_z]\n",
    "# print info\n",
    "print('Number of sources w/ z:', len(zID))"
   ]
  },
  {
   "cell_type": "code",
   "execution_count": 8,
   "metadata": {},
   "outputs": [],
   "source": [
    "agn_z = []\n",
    "agn_ID_wZ = []\n",
    "\n",
    "for row in agnIDs_npArray : \n",
    "    # match redshift against AGN IDs\n",
    "    key_z_agn, key_agn_z = match.match(zID, row)\n",
    "    # get redshift array for AGN\n",
    "    agn_z.append(zZ[key_z_agn])\n",
    "    # get AGN ID arrays w/ redshifts\n",
    "    agn_ID_wZ.append(row[key_agn_z])\n",
    "\n",
    "# PrintNumber(agn_z)"
   ]
  },
  {
   "cell_type": "code",
   "execution_count": 9,
   "metadata": {},
   "outputs": [],
   "source": [
    "# open COSMOS 2020 catalog file and get data \n",
    "inf20 = fits.open(path_cat+'\\COSMOS2020_CLASSIC_R1_v2.0_master.fits')\n",
    "data20 = inf20[1].data\n",
    "inf20.close()"
   ]
  },
  {
   "cell_type": "code",
   "execution_count": 10,
   "metadata": {},
   "outputs": [
    {
     "name": "stdout",
     "output_type": "stream",
     "text": [
      "Array shape:\t (1720700, 20)\n",
      "Array shape:\t (1720700,)\n",
      "Array shape:\t (20,)\n"
     ]
    }
   ],
   "source": [
    "Fnu_uJy = SED.GetPhotometry(data20)\n",
    "IDs_all = SED.GetID(data20)\n",
    "lam_A   = SED.GetObservedWavelengths_A()"
   ]
  },
  {
   "cell_type": "code",
   "execution_count": 12,
   "metadata": {},
   "outputs": [],
   "source": [
    "agn_Fnu_uJy = []\n",
    "agn_ID_wZ_wPhot = []\n",
    "\n",
    "for row in agn_ID_wZ : \n",
    "    # match photometry IDs against AGN IDs \n",
    "    key_IDall_agn, key_agn_IDall = match.match(IDs_all, row)\n",
    "    # get photometry for AGN\n",
    "    agn_Fnu_uJy.append(Fnu_uJy[key_IDall_agn])\n",
    "    # get AGN arrays with photometry \n",
    "    agn_ID_wZ_wPhot.append(row[key_agn_IDall])\n",
    "\n",
    "# PrintNumber(agn_Fnu_uJy)"
   ]
  },
  {
   "cell_type": "code",
   "execution_count": 13,
   "metadata": {},
   "outputs": [
    {
     "name": "stdout",
     "output_type": "stream",
     "text": [
      "Array shape:\t (547, 20)\n",
      "Array shape:\t (609, 20)\n",
      "Array shape:\t (1567, 20)\n",
      "Array shape:\t (1416, 20)\n",
      "Array shape:\t (151, 20)\n",
      "Array shape:\t (399, 20)\n",
      "Array shape:\t (501, 20)\n",
      "Array shape:\t (1016, 20)\n"
     ]
    }
   ],
   "source": [
    "agn_lamR_A = []\n",
    "\n",
    "# convert each AGN type to rest wavelength\n",
    "for row in agn_z : \n",
    "    agn_lamR_A.append(SED.ConvertToRestWavelength(row))"
   ]
  },
  {
   "cell_type": "code",
   "execution_count": 14,
   "metadata": {},
   "outputs": [
    {
     "name": "stdout",
     "output_type": "stream",
     "text": [
      "Array shape:\t (547, 20)\n",
      "Array shape:\t (609, 20)\n",
      "Array shape:\t (1567, 20)\n",
      "Array shape:\t (1416, 20)\n",
      "Array shape:\t (151, 20)\n",
      "Array shape:\t (399, 20)\n",
      "Array shape:\t (501, 20)\n",
      "Array shape:\t (1016, 20)\n"
     ]
    }
   ],
   "source": [
    "agn_lamFlam_ergscm2 = []\n",
    "\n",
    "# convert each AGN type to energy density\n",
    "for lamR,Fnu in zip(agn_lamR_A, agn_Fnu_uJy) : \n",
    "    agn_lamFlam_ergscm2.append(SED.ConvertToEnergyDensity(lamR,Fnu))"
   ]
  },
  {
   "cell_type": "code",
   "execution_count": 15,
   "metadata": {},
   "outputs": [],
   "source": [
    "# important arrays\n",
    "    # agn_lamFlam_ergscm2   energy density in [erg/s/cm2]\n",
    "    # agn_Fnu_uJy           flux(frequency) in [microJanskys] \n",
    "    # agn_lamR_A            rest wavelength in [angstroms]\n",
    "    # agn_z                 redshifts of sources"
   ]
  },
  {
   "cell_type": "code",
   "execution_count": 16,
   "metadata": {},
   "outputs": [],
   "source": [
    "# PrintNumber(agn_lamR_A)\n",
    "# print('\\n')\n",
    "# PrintNumber(agn_Fnu_uJy)\n",
    "# print('\\n')\n",
    "# PrintNumber(agn_z)\n",
    "# print('\\n')"
   ]
  },
  {
   "cell_type": "markdown",
   "metadata": {},
   "source": [
    "# Luminosity"
   ]
  },
  {
   "cell_type": "code",
   "execution_count": 17,
   "metadata": {},
   "outputs": [],
   "source": [
    "def Flux_to_Lum(F,z):\n",
    "    # 'Function to convert flux to luminosity’’'\n",
    "    cosmo = FlatLambdaCDM(H0=70, Om0=0.29, Tcmb0=2.725)\n",
    "    dl = cosmo.luminosity_distance(z).value # Distance in Mpc\n",
    "    dl_cgs = dl*(3.0856E24) # Distance from Mpc to cm\n",
    "    # convert flux to luminosity\n",
    "    L = F*4*np.pi*dl_cgs**2\n",
    "    return L"
   ]
  },
  {
   "cell_type": "code",
   "execution_count": 28,
   "metadata": {},
   "outputs": [],
   "source": [
    "def Lum_at1um(lamFlam,lam,z) :\n",
    "    lum_list = []\n",
    "    for x,y,z in zip(lam,lamFlam,z) : \n",
    "        # interpolate\n",
    "        f = SED.Interpolate_log(x,y)\n",
    "        # normalize at 1um\n",
    "        Fnu_at1um = SED.Flog_X(f,1*1E+4) # 1A * 10^4 = 1um\n",
    "        # convert to luminosity\n",
    "        lum = Flux_to_Lum(Fnu_at1um,z)\n",
    "        lum_list.append(lum)\n",
    "    SED.PrintShape(lum_list)\n",
    "    return(lum_list)"
   ]
  },
  {
   "cell_type": "code",
   "execution_count": 44,
   "metadata": {},
   "outputs": [
    {
     "name": "stdout",
     "output_type": "stream",
     "text": [
      "Array shape:\t (547,)\n",
      "Array shape:\t (609,)\n",
      "Array shape:\t (1567,)\n",
      "Array shape:\t (1416,)\n",
      "Array shape:\t (151,)\n",
      "Array shape:\t (399,)\n",
      "Array shape:\t (501,)\n",
      "Array shape:\t (1016,)\n"
     ]
    }
   ],
   "source": [
    "agn_lum_1um_ergs = []\n",
    "\n",
    "for row_lamFlam, row_lamR, row_z in zip(agn_lamFlam_ergscm2, agn_lamR_A, agn_z) :\n",
    "    # calculate luminosity at 1um for each source\n",
    "    agn_lum_1um_ergs.append(Lum_at1um(row_lamFlam, row_lamR, row_z))"
   ]
  },
  {
   "cell_type": "code",
   "execution_count": 40,
   "metadata": {},
   "outputs": [],
   "source": [
    "def PlotHist_Lum1um(lum_1um, color): \n",
    "    # convert to array\n",
    "    lum = np.array(lum_1um)\n",
    "    # exclude zeros\n",
    "    lum = lum[lum>0]\n",
    "    # get log of luminosity\n",
    "    lum = np.log10(lum)\n",
    "\n",
    "    # plot histogram\n",
    "    plt.hist(lum, color=color)\n",
    "\n",
    "    # median line\n",
    "    mean = np.array(lum).mean()\n",
    "    min_ylim, max_ylim = plt.ylim()\n",
    "    plt.axvline(mean, color='k', linestyle='dashed', linewidth=2)\n",
    "    plt.text(mean*0.998, max_ylim*0.94, 'Mean: {:.1f}'.format(mean), c='k', horizontalalignment='right')\n",
    "    \n",
    "    # set axis lables\n",
    "    plt.xlabel('$\\log( \\; L \\; [erg \\; s^{-1}] \\;)$')\n",
    "    plt.ylabel('Number')\n",
    "\n",
    "    # set style\n",
    "    myP.SetStyle()\n",
    "\n",
    "    # finish\n",
    "    plt.show()"
   ]
  },
  {
   "cell_type": "code",
   "execution_count": 46,
   "metadata": {},
   "outputs": [
    {
     "data": {
      "image/png": "[encoded data removed]",
      "text/plain": [
       "<Figure size 900x600 with 1 Axes>"
      ]
     },
     "metadata": {
      "needs_background": "light"
     },
     "output_type": "display_data"
    },
    {
     "data": {
      "image/png": "[encoded data removed]",
      "text/plain": [
       "<Figure size 900x600 with 1 Axes>"
      ]
     },
     "metadata": {
      "needs_background": "light"
     },
     "output_type": "display_data"
    },
    {
     "data": {
      "image/png": "[encoded data removed]",
      "text/plain": [
       "<Figure size 900x600 with 1 Axes>"
      ]
     },
     "metadata": {
      "needs_background": "light"
     },
     "output_type": "display_data"
    }
   ],
   "source": [
    "PlotHist_Lum1um(agn_lum_1um_ergs[R24],agn_colors[R24])\n",
    "PlotHist_Lum1um(agn_lum_1um_ergs[Y24],agn_colors[Y24])\n",
    "PlotHist_Lum1um(agn_lum_1um_ergs[B24],agn_colors[B24])"
   ]
  },
  {
   "cell_type": "code",
   "execution_count": 24,
   "metadata": {},
   "outputs": [],
   "source": [
    "# TODO \n",
    "# make nice histograms for R,Y,B for z<6 and z<1 \n",
    "# investigate zeros in lamFlam? "
   ]
  }
 ],
 "metadata": {
  "kernelspec": {
   "display_name": "Python 3.9.12 ('py3env')",
   "language": "python",
   "name": "python3"
  },
  "language_info": {
   "codemirror_mode": {
    "name": "ipython",
    "version": 3
   },
   "file_extension": ".py",
   "mimetype": "text/x-python",
   "name": "python",
   "nbconvert_exporter": "python",
   "pygments_lexer": "ipython3",
   "version": "3.9.12"
  },
  "orig_nbformat": 4,
  "vscode": {
   "interpreter": {
    "hash": "9087279304570de5a36832bd291691fdf2a46b942e9196516ec718f5eedeadfe"
   }
  }
 },
 "nbformat": 4,
 "nbformat_minor": 2
}
