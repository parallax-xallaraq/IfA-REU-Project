{
 "cells": [
  {
   "cell_type": "code",
   "execution_count": 1,
   "metadata": {},
   "outputs": [],
   "source": [
    "from astropy.io import fits\n",
    "import matplotlib.pyplot as plt\n",
    "import numpy as np"
   ]
  },
  {
   "cell_type": "code",
   "execution_count": 2,
   "metadata": {},
   "outputs": [],
   "source": [
    "# open COSMOS master file and get data \n",
    "inf = fits.open('D:\\IfA REU\\Catalogs\\COSMOS2020_CLASSIC_R1_v2.0_master.fits')\n",
    "data = inf[1].data\n",
    "cols = inf[1].columns\n",
    "head = inf[0].header\n",
    "inf.close()"
   ]
  },
  {
   "cell_type": "code",
   "execution_count": 3,
   "metadata": {},
   "outputs": [],
   "source": [
    "# print(cols)"
   ]
  },
  {
   "cell_type": "code",
   "execution_count": 4,
   "metadata": {},
   "outputs": [
    {
     "name": "stdout",
     "output_type": "stream",
     "text": [
      "CH1 : \t Min:  4.1775156e-06 \t Max:  11499.407 \t Total:  801416\n",
      "CH2 : \t Min:  1.4381429e-06 \t Max:  12870.739 \t Total:  773697\n",
      "CH3 : \t Min:  0.00084613566 \t Max:  17447.684 \t Total:  305866\n",
      "CH4 : \t Min:  0.00084613566 \t Max:  15091.21 \t Total:  115601\n"
     ]
    }
   ],
   "source": [
    "# IRAC Columns (unit = 'uJy')\n",
    "ch1 = 'SPLASH_CH1_FLUX' \n",
    "ch2 = 'SPLASH_CH2_FLUX' \n",
    "ch3 = 'SPLASH_CH3_FLUX' \n",
    "ch4 = 'SPLASH_CH4_FLUX' \n",
    "\n",
    "# get IRAC data\n",
    "ch1_data = data[ch1]\n",
    "ch2_data = data[ch2]\n",
    "ch3_data = data[ch3]\n",
    "ch4_data = data[ch4]\n",
    "\n",
    "#  filter out bad values \n",
    "ch1_data = [value for value in ch1_data if value > 0]\n",
    "ch2_data = [value for value in ch2_data if value > 0]\n",
    "ch3_data = [value for value in ch3_data if value > 0]\n",
    "ch4_data = [value for value in ch4_data if value > 0]\n",
    "\n",
    "# info\n",
    "print('CH1 : \\t Min: ', min(ch1_data), '\\t Max: ', max(ch1_data), '\\t Total: ', len(ch1_data))\n",
    "print('CH2 : \\t Min: ', min(ch2_data), '\\t Max: ', max(ch2_data), '\\t Total: ', len(ch2_data))\n",
    "print('CH3 : \\t Min: ', min(ch3_data), '\\t Max: ', max(ch3_data), '\\t Total: ', len(ch3_data))\n",
    "print('CH4 : \\t Min: ', min(ch4_data), '\\t Max: ', max(ch4_data), '\\t Total: ', len(ch4_data))\n"
   ]
  },
  {
   "cell_type": "code",
   "execution_count": 5,
   "metadata": {},
   "outputs": [],
   "source": [
    "# for i in range(100) :\n",
    "#     print(ch4_data[i])"
   ]
  },
  {
   "cell_type": "code",
   "execution_count": 6,
   "metadata": {},
   "outputs": [
    {
     "data": {
      "image/png": "[encoded data removed]",
      "text/plain": [
       "<Figure size 432x288 with 4 Axes>"
      ]
     },
     "metadata": {
      "needs_background": "light"
     },
     "output_type": "display_data"
    }
   ],
   "source": [
    "# subplots\n",
    "fig, ((ch1_plt, ch2_plt), (ch3_plt, ch4_plt)) = plt.subplots(2,2)\n",
    "\n",
    "# plot histogram\n",
    "ch1_plt.hist(ch1_data, bins=50)\n",
    "ch2_plt.hist(ch2_data, bins=50)\n",
    "ch3_plt.hist(ch3_data, bins=50)\n",
    "ch4_plt.hist(ch4_data, bins=50)\n",
    "\n",
    "# set titles\n",
    "ch1_plt.set_title('IRAC CH1 Full Histogram')\n",
    "ch2_plt.set_title('IRAC CH2 Full Histogram')\n",
    "ch3_plt.set_title('IRAC CH3 Full Histogram')\n",
    "ch4_plt.set_title('IRAC CH4 Full Histogram')\n",
    "\n",
    "# x-axis lables\n",
    "ch1_plt.set_xlabel(\"Flux (uJy)\")\n",
    "ch2_plt.set_xlabel(\"Flux (uJy)\")\n",
    "ch3_plt.set_xlabel(\"Flux (uJy)\")\n",
    "ch4_plt.set_xlabel(\"Flux (uJy)\")\n",
    "\n",
    "# y-axis lables \n",
    "ch1_plt.set_ylabel(\"Count\")\n",
    "ch2_plt.set_ylabel(\"Count\")\n",
    "ch3_plt.set_ylabel(\"Count\")\n",
    "ch4_plt.set_ylabel(\"Count\")\n",
    "\n",
    "# formatting \n",
    "plt.tight_layout()"
   ]
  },
  {
   "cell_type": "code",
   "execution_count": 7,
   "metadata": {},
   "outputs": [],
   "source": [
    "def reduceList_lt(list, limit) : \n",
    "    # declare reduced list\n",
    "    lt = []\n",
    "\n",
    "    # for each item in the list \n",
    "    for x in list :\n",
    "        # append items less than the limits to the reduced list \n",
    "        if x < limit :\n",
    "            lt.append(x)\n",
    "    \n",
    "    # return reduced list \n",
    "    return(lt)"
   ]
  },
  {
   "cell_type": "code",
   "execution_count": 8,
   "metadata": {},
   "outputs": [
    {
     "data": {
      "image/png": "[encoded data removed]",
      "text/plain": [
       "<Figure size 432x288 with 4 Axes>"
      ]
     },
     "metadata": {
      "needs_background": "light"
     },
     "output_type": "display_data"
    }
   ],
   "source": [
    "# constants\n",
    "limit = 10\n",
    "bin = 50 \n",
    "\n",
    "# declare lists\n",
    "ch1_data_small = reduceList_lt(ch1_data, limit)\n",
    "ch2_data_small = reduceList_lt(ch2_data, limit)\n",
    "ch3_data_small = reduceList_lt(ch3_data, limit)\n",
    "ch4_data_small = reduceList_lt(ch4_data, limit)\n",
    "\n",
    "# subplots\n",
    "fig, ((ch1_plt_small, ch2_plt_small), (ch3_plt_small, ch4_plt_small)) = plt.subplots(2,2)\n",
    "\n",
    "# plot histogram\n",
    "ch1_plt_small.hist(ch1_data_small, bins=bin)\n",
    "ch2_plt_small.hist(ch2_data_small, bins=bin)\n",
    "ch3_plt_small.hist(ch3_data_small, bins=bin)\n",
    "ch4_plt_small.hist(ch4_data_small, bins=bin)\n",
    "\n",
    "# set titles\n",
    "ch1_plt_small.set_title('IRAC CH1 Small Histogram')\n",
    "ch2_plt_small.set_title('IRAC CH2 Small Histogram')\n",
    "ch3_plt_small.set_title('IRAC CH3 Small Histogram')\n",
    "ch4_plt_small.set_title('IRAC CH4 Small Histogram')\n",
    "\n",
    "# x-axis lables\n",
    "ch1_plt_small.set_xlabel(\"Flux (uJy)\")\n",
    "ch2_plt_small.set_xlabel(\"Flux (uJy)\")\n",
    "ch3_plt_small.set_xlabel(\"Flux (uJy)\")\n",
    "ch4_plt_small.set_xlabel(\"Flux (uJy)\")\n",
    "\n",
    "# y-axis lables \n",
    "ch1_plt_small.set_ylabel(\"Count\")\n",
    "ch2_plt_small.set_ylabel(\"Count\")\n",
    "ch3_plt_small.set_ylabel(\"Count\")\n",
    "ch4_plt_small.set_ylabel(\"Count\")\n",
    "\n",
    "# formatting \n",
    "plt.tight_layout()"
   ]
  },
  {
   "cell_type": "code",
   "execution_count": 9,
   "metadata": {},
   "outputs": [],
   "source": [
    "def reduceList_gt(list, limit) : \n",
    "    # declare reduced list\n",
    "    lt = []\n",
    "\n",
    "    # for each item in the list \n",
    "    for x in list :\n",
    "        # append items less than the limits to the reduced list \n",
    "        if x > limit :\n",
    "            lt.append(x)\n",
    "    \n",
    "    # return reduced list \n",
    "    return(lt)"
   ]
  },
  {
   "cell_type": "code",
   "execution_count": 10,
   "metadata": {},
   "outputs": [
    {
     "data": {
      "image/png": "[encoded data removed]",
      "text/plain": [
       "<Figure size 432x288 with 4 Axes>"
      ]
     },
     "metadata": {
      "needs_background": "light"
     },
     "output_type": "display_data"
    }
   ],
   "source": [
    "# constants\n",
    "limit = 1000\n",
    "bin = 50 \n",
    "\n",
    "# declare lists\n",
    "ch1_data_large = reduceList_gt(ch1_data, limit)\n",
    "ch2_data_large = reduceList_gt(ch2_data, limit)\n",
    "ch3_data_large = reduceList_lt(ch3_data, limit)\n",
    "ch4_data_large = reduceList_lt(ch4_data, limit)\n",
    "\n",
    "# subplots\n",
    "fig,((ch1_plt_large, ch2_plt_large), (ch3_plt_large, ch4_plt_large)) = plt.subplots(2,2)\n",
    "\n",
    "# plot histogram\n",
    "ch1_plt_large.hist(ch1_data_large, bins=bin)\n",
    "ch2_plt_large.hist(ch2_data_large, bins=bin)\n",
    "ch3_plt_large.hist(ch3_data_large, bins=bin)\n",
    "ch4_plt_large.hist(ch4_data_large, bins=bin)\n",
    "\n",
    "# set titles\n",
    "ch1_plt_large.set_title('IRAC CH1 Large Histogram')\n",
    "ch2_plt_large.set_title('IRAC CH2 Large Histogram')\n",
    "ch3_plt_large.set_title('IRAC CH3 Large Histogram')\n",
    "ch4_plt_large.set_title('IRAC CH2 Large Histogram')\n",
    "\n",
    "# x-axis lables\n",
    "ch1_plt_large.set_xlabel(\"Flux (uJy)\")\n",
    "ch2_plt_large.set_xlabel(\"Flux (uJy)\")\n",
    "ch3_plt_large.set_xlabel(\"Flux (uJy)\")\n",
    "ch4_plt_large.set_xlabel(\"Flux (uJy)\")\n",
    "\n",
    "# y-axis lables \n",
    "ch1_plt_large.set_ylabel(\"Count\")\n",
    "ch2_plt_large.set_ylabel(\"Count\")\n",
    "ch3_plt_large.set_ylabel(\"Count\")\n",
    "ch4_plt_large.set_ylabel(\"Count\")\n",
    "\n",
    "# formatting \n",
    "plt.tight_layout()"
   ]
  }
 ],
 "metadata": {
  "interpreter": {
   "hash": "9087279304570de5a36832bd291691fdf2a46b942e9196516ec718f5eedeadfe"
  },
  "kernelspec": {
   "display_name": "Python 3.9.12 ('py3env')",
   "language": "python",
   "name": "python3"
  },
  "language_info": {
   "codemirror_mode": {
    "name": "ipython",
    "version": 3
   },
   "file_extension": ".py",
   "mimetype": "text/x-python",
   "name": "python",
   "nbconvert_exporter": "python",
   "pygments_lexer": "ipython3",
   "version": "3.9.12"
  },
  "orig_nbformat": 4
 },
 "nbformat": 4,
 "nbformat_minor": 2
}
